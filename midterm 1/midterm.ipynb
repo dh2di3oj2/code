{
 "cells": [
  {
   "cell_type": "code",
   "execution_count": 1,
   "metadata": {},
   "outputs": [],
   "source": [
    "import pandas as pd\n",
    "import numpy as np\n",
    "from sklearn.preprocessing import StandardScaler\n",
    "from sklearn.decomposition import PCA\n",
    "from sklearn.model_selection import train_test_split\n",
    "from sklearn.linear_model import LinearRegression \n",
    "from sklearn.preprocessing import PolynomialFeatures \n",
    "from sklearn.linear_model import Lasso\n",
    "import matplotlib.pyplot as plt\n",
    "from sklearn.metrics import mean_squared_error, r2_score\n",
    "from sklearn.model_selection import cross_val_score"
   ]
  },
  {
   "cell_type": "code",
   "execution_count": 2,
   "metadata": {},
   "outputs": [
    {
     "data": {
      "text/plain": [
       "<bound method DataFrame.info of             x1         x2         x3         x0  x4          x5          x6  \\\n",
       "0    56.590866 -15.164974 -71.868156 -24952.783   1   29.327799  1122.86820   \n",
       "1    10.907610 -42.359173  -8.457231 -24962.082   1   90.882484   960.58179   \n",
       "2    34.974998  42.709808 -15.151949 -25028.438   0  -70.219116   986.54913   \n",
       "3    99.809120  52.481998  40.754562 -25033.973   1  180.038480   889.92377   \n",
       "4    26.966738  23.605490 -16.185902 -25025.100   1   85.627213   922.80878   \n",
       "..         ...        ...        ...        ...  ..         ...         ...   \n",
       "511  87.572922   8.960876  -8.061039 -25036.633   1  151.579500  1002.47930   \n",
       "512   0.204052 -21.834362  28.056559 -24976.549   0  -41.470856  1055.39700   \n",
       "513  39.199738  30.464985 -53.936462 -25078.424   0  -50.433807   937.05505   \n",
       "514  48.779186  40.217793 -25.745403 -24980.057   0  -50.496521   962.02460   \n",
       "515  77.008270 -50.223770 -30.196480 -25049.996   1  149.419800   973.95691   \n",
       "\n",
       "            x7          x8            y  \n",
       "0    -5.556481  122.028500  -74025800.0  \n",
       "1   -17.387789  -65.950005 -167792768.0  \n",
       "2    38.034069  -98.859238  136613888.0  \n",
       "3    38.879425  -25.005102 -285234944.0  \n",
       "4   -10.622915   64.085014 -145910784.0  \n",
       "..         ...         ...          ...  \n",
       "511  -4.561349  -34.497311 -304732704.0  \n",
       "512  -2.298091   -7.458845   92312536.0  \n",
       "513  11.580546  245.717900   88497136.0  \n",
       "514  13.367083  -71.843208   93397440.0  \n",
       "515 -21.799511  163.831710 -283547264.0  \n",
       "\n",
       "[516 rows x 10 columns]>"
      ]
     },
     "execution_count": 2,
     "metadata": {},
     "output_type": "execute_result"
    }
   ],
   "source": [
    "df = pd.read_csv('train3.csv')\n",
    "df.info"
   ]
  },
  {
   "cell_type": "code",
   "execution_count": 4,
   "metadata": {},
   "outputs": [
    {
     "data": {
      "text/plain": [
       "(array([  8.,  24.,  51.,  75.,  65.,  33.,  14.,  36., 159.,  51.]),\n",
       " array([-4.21392576e+08, -3.60075453e+08, -2.98758330e+08, -2.37441206e+08,\n",
       "        -1.76124083e+08, -1.14806960e+08, -5.34898368e+07,  7.82728640e+06,\n",
       "         6.91444096e+07,  1.30461533e+08,  1.91778656e+08]),\n",
       " <BarContainer object of 10 artists>)"
      ]
     },
     "execution_count": 4,
     "metadata": {},
     "output_type": "execute_result"
    },
    {
     "data": {
      "image/png": "[encoded data removed]",
      "text/plain": [
       "<Figure size 432x288 with 1 Axes>"
      ]
     },
     "metadata": {
      "needs_background": "light"
     },
     "output_type": "display_data"
    }
   ],
   "source": [
    "plt.hist(df.y)"
   ]
  },
  {
   "cell_type": "code",
   "execution_count": null,
   "metadata": {},
   "outputs": [],
   "source": []
  }
 ],
 "metadata": {
  "kernelspec": {
   "display_name": "Python 3.10.5 64-bit",
   "language": "python",
   "name": "python3"
  },
  "language_info": {
   "codemirror_mode": {
    "name": "ipython",
    "version": 3
   },
   "file_extension": ".py",
   "mimetype": "text/x-python",
   "name": "python",
   "nbconvert_exporter": "python",
   "pygments_lexer": "ipython3",
   "version": "3.10.5"
  },
  "orig_nbformat": 4,
  "vscode": {
   "interpreter": {
    "hash": "aee8b7b246df8f9039afb4144a1f6fd8d2ca17a180786b69acc140d282b71a49"
   }
  }
 },
 "nbformat": 4,
 "nbformat_minor": 2
}
