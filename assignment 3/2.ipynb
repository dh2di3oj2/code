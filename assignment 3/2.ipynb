{
 "cells": [
  {
   "cell_type": "code",
   "execution_count": 329,
   "metadata": {},
   "outputs": [],
   "source": [
    "\n",
    "import pandas as pd\n",
    "import numpy as np\n",
    "from sklearn.preprocessing import StandardScaler\n",
    "from sklearn.decomposition import PCA\n",
    "from sklearn.model_selection import train_test_split\n",
    "from sklearn.linear_model import LinearRegression \n",
    "from sklearn.preprocessing import PolynomialFeatures \n",
    "from sklearn.linear_model import Lasso\n",
    "import matplotlib.pyplot as plt\n",
    "from sklearn.metrics import mean_squared_error, r2_score\n",
    "from sklearn.model_selection import cross_val_score\n",
    "\n",
    "from sklearn.metrics import mean_absolute_error\n",
    "from sklearn import tree\n",
    "\n",
    "import graphviz "
   ]
  },
  {
   "cell_type": "code",
   "execution_count": 330,
   "metadata": {},
   "outputs": [
    {
     "data": {
      "text/plain": [
       "<bound method DataFrame.info of                  l_names l_team18 l_pos18  l_gp18  l_points18  draft_pick  \\\n",
       "0         Brandon LaFell      Oak      WR       6   46.000000         NaN   \n",
       "1        Lance Kendricks       NE      TE      16   47.330002         NaN   \n",
       "2           Cody Kessler      Phi      QB       5   47.660000         NaN   \n",
       "3    James O'Shaughnessy      Jax      TE      14   48.270000         NaN   \n",
       "4         D.J. Chark Jr.      Jax      WR      11   48.400002         NaN   \n",
       "..                   ...      ...     ...     ...         ...         ...   \n",
       "166      DeAndre Hopkins      Hou      WR      16  384.100010        31.0   \n",
       "167      Ezekiel Elliott      Dal      RB      15  400.200010         1.0   \n",
       "168         Alvin Kamara       NO      RB      15  419.370000        38.0   \n",
       "169       Todd Gurley II      LAR      RB      14  422.769990         7.0   \n",
       "170       Saquon Barkley      NYG      RB      16  427.769990        15.0   \n",
       "\n",
       "     cost l_team17 l_pos17  l_gp17  ...  pick17  cost17  off_linefo18  \\\n",
       "0     NaN      Cin      WR    16.0  ...   228.0     2.0            13   \n",
       "1     NaN       GB      TE    16.0  ...     NaN     NaN             3   \n",
       "2     NaN      NaN     NaN     NaN  ...     NaN     NaN            19   \n",
       "3     NaN      NaN     NaN     NaN  ...     NaN     NaN            21   \n",
       "4     NaN      NaN     NaN     NaN  ...     NaN     NaN            21   \n",
       "..    ...      ...     ...     ...  ...     ...     ...           ...   \n",
       "166  52.0      Hou      WR    15.0  ...   119.0    30.0            27   \n",
       "167  54.0      Dal      RB    10.0  ...    19.0    36.0             8   \n",
       "168  58.0       NO      RB    16.0  ...   214.0     1.0             2   \n",
       "169  67.0      LAR      RB    15.0  ...    51.0    40.0             1   \n",
       "170  54.0      NYG      RB     NaN  ...     NaN     NaN            29   \n",
       "\n",
       "     off_linepff18  off_passydsg17  off_runydsg17  off_ptsg17  def_ydsg17  \\\n",
       "0                7       226.89999      97.099998   18.799999   350.10001   \n",
       "1               11       276.10001     118.100000   28.600000   366.00000   \n",
       "2                1       233.60001     132.200000   28.600000   306.50000   \n",
       "3               15       224.60001     141.399990   26.100000   286.10001   \n",
       "4               15       224.60001     141.399990   26.100000   286.10001   \n",
       "..             ...             ...            ...         ...         ...   \n",
       "166             32       204.89999     115.100000   21.100000   346.60001   \n",
       "167              2       196.30000     135.600010   22.100000   318.10001   \n",
       "168              6       261.79999     129.399990   28.000000   336.50000   \n",
       "169             10       239.39999     122.100000   29.900000   339.60001   \n",
       "170             25       217.39999      96.800003   15.400000   373.20001   \n",
       "\n",
       "     def_ptsg17     train  \n",
       "0     23.299999  0.868933  \n",
       "1     18.500000  0.555103  \n",
       "2     18.400000  0.875991  \n",
       "3     16.799999  0.892759  \n",
       "4     16.799999  0.584466  \n",
       "..          ...       ...  \n",
       "166   27.299999  0.667398  \n",
       "167   20.799999  0.629151  \n",
       "168   20.400000  0.532902  \n",
       "169   20.600000  0.727590  \n",
       "170   24.299999  0.635873  \n",
       "\n",
       "[171 rows x 38 columns]>"
      ]
     },
     "execution_count": 330,
     "metadata": {},
     "output_type": "execute_result"
    }
   ],
   "source": [
    "df = pd.read_csv('train75.csv')\n",
    "df.info\n",
    "\n"
   ]
  },
  {
   "cell_type": "code",
   "execution_count": 331,
   "metadata": {},
   "outputs": [],
   "source": [
    "df = df.drop(columns=['cost','cost17','draft_pick','l_owners17','pick17','train','l_2pt17'])"
   ]
  },
  {
   "cell_type": "code",
   "execution_count": 332,
   "metadata": {},
   "outputs": [],
   "source": [
    "df_wr = df[df.l_pos18 == \"WR\"]\n",
    "df_rb = df[df.l_pos18 == \"RB\"]\n",
    "df_qb = df[df.l_pos18 == \"QB\"]\n",
    "df_te = df[df.l_pos18 == \"TE\"]\n",
    "\n",
    "df_wrte = pd.concat([df_wr, df_te])\n",
    "\n",
    "\n",
    "\n",
    "df_wrte=df_wrte.dropna()\n",
    "df_rb=df_rb.dropna()\n",
    "df_qb=df_qb.dropna()\n",
    "df_te=df_te.dropna()\n",
    "\n",
    "\n"
   ]
  },
  {
   "cell_type": "code",
   "execution_count": 333,
   "metadata": {},
   "outputs": [],
   "source": [
    "# create set of variables to pass to PCA, x's only / exclude Y\n",
    "vars = ['l_points17','l_gp17','l_actual17','l_passyds17','l_passtd17','l_passint17','l_rushyds17','l_rushtd17','l_rush1st17','l_recepts17','l_recyds17','l_rectd17','l_rec1st17','l_returnyds17','l_returntd17','l_fumble17','off_passydsg17','off_runydsg17']\n",
    "x_wrte = df_wrte[vars]\n",
    "y_wrte = df_wrte[['l_points18']]\n",
    "\n",
    "x_qb = df_qb[vars]\n",
    "y_qb = df_qb[['l_points18']]\n",
    "\n",
    "x_rb = df_rb[vars]\n",
    "y_rb = df_rb[['l_points18']]\n",
    "\n"
   ]
  },
  {
   "cell_type": "code",
   "execution_count": 334,
   "metadata": {},
   "outputs": [
    {
     "data": {
      "text/plain": [
       "(array([40., 38., 26., 20., 15.,  9.,  7.,  7.,  5.,  4.]),\n",
       " array([ 46.      ,  84.176999, 122.353998, 160.530997, 198.707996,\n",
       "        236.884995, 275.061994, 313.238993, 351.415992, 389.592991,\n",
       "        427.76999 ]),\n",
       " <BarContainer object of 10 artists>)"
      ]
     },
     "execution_count": 334,
     "metadata": {},
     "output_type": "execute_result"
    },
    {
     "data": {
      "image/png": "[encoded data removed]",
      "text/plain": [
       "<Figure size 432x288 with 1 Axes>"
      ]
     },
     "metadata": {
      "needs_background": "light"
     },
     "output_type": "display_data"
    }
   ],
   "source": [
    "plt.hist(df.l_points18) "
   ]
  },
  {
   "cell_type": "code",
   "execution_count": 335,
   "metadata": {},
   "outputs": [
    {
     "name": "stdout",
     "output_type": "stream",
     "text": [
      "157.3364918888889\n",
      "133.47\n"
     ]
    },
    {
     "data": {
      "text/plain": [
       "<bound method NDFrame._add_numeric_operations.<locals>.std of 0       46.000000\n",
       "1       47.330002\n",
       "2       47.660000\n",
       "3       48.270000\n",
       "4       48.400002\n",
       "          ...    \n",
       "166    384.100010\n",
       "167    400.200010\n",
       "168    419.370000\n",
       "169    422.769990\n",
       "170    427.769990\n",
       "Name: l_points18, Length: 171, dtype: float64>"
      ]
     },
     "execution_count": 335,
     "metadata": {},
     "output_type": "execute_result"
    }
   ],
   "source": [
    "print(df.l_points18.mean())\n",
    "print(df.l_points18.median())\n",
    "df.l_points18.std"
   ]
  },
  {
   "cell_type": "code",
   "execution_count": 336,
   "metadata": {},
   "outputs": [],
   "source": [
    "x_wrte_norm = StandardScaler().fit_transform(x_wrte)\n",
    "x_qb_norm = StandardScaler().fit_transform(x_qb)\n",
    "x_rb_norm = StandardScaler().fit_transform(x_rb)\n",
    "\n"
   ]
  },
  {
   "cell_type": "code",
   "execution_count": 337,
   "metadata": {},
   "outputs": [],
   "source": [
    "def numPCA(x,v):\n",
    "    pca = PCA(.90)\n",
    "    model = pca.fit(StandardScaler().fit_transform(x[v]))\n",
    "    n_pcs = pca.n_components_\n",
    "        # LIST COMPREHENSION HERE\n",
    "    most_important = [np.abs(model.components_[i]).argmax() for i in range(n_pcs)]\n",
    "    #print(model.components_)\n",
    "    initial_feature_names = v\n",
    "    # get the names\n",
    "    most_important_names = [initial_feature_names[most_important[i]] for i in range(n_pcs)]\n",
    "\n",
    "    # LIST COMPREHENSION HERE AGAIN\n",
    "    dic = {'PC{}'.format(i): most_important_names[i] for i in range(n_pcs)}\n",
    "\n",
    "    # build the dataframe\n",
    "    df2 = pd.DataFrame(dic.items())\n",
    "    print (n_pcs)\n",
    "    print (pca.explained_variance_ratio_)\n",
    "    #print(df2)\n",
    "    return  df2\n",
    "\n",
    "vpass =[]\n",
    "for i in df.columns.tolist():\n",
    "    if ('td') in i:\n",
    "        vpass.append(i)"
   ]
  },
  {
   "cell_type": "code",
   "execution_count": null,
   "metadata": {},
   "outputs": [],
   "source": []
  },
  {
   "cell_type": "code",
   "execution_count": 338,
   "metadata": {},
   "outputs": [
    {
     "name": "stdout",
     "output_type": "stream",
     "text": [
      "3\n",
      "[0.38476426 0.3365185  0.27871724]\n"
     ]
    }
   ],
   "source": [
    "abcde= numPCA(x_wrte,vpass)\n"
   ]
  },
  {
   "cell_type": "code",
   "execution_count": 339,
   "metadata": {},
   "outputs": [
    {
     "name": "stdout",
     "output_type": "stream",
     "text": [
      "5\n",
      "[0.35699219 0.28955011 0.16288295 0.0888593  0.05076722]\n"
     ]
    },
    {
     "data": {
      "text/html": [
       "<div>\n",
       "<style scoped>\n",
       "    .dataframe tbody tr th:only-of-type {\n",
       "        vertical-align: middle;\n",
       "    }\n",
       "\n",
       "    .dataframe tbody tr th {\n",
       "        vertical-align: top;\n",
       "    }\n",
       "\n",
       "    .dataframe thead th {\n",
       "        text-align: right;\n",
       "    }\n",
       "</style>\n",
       "<table border=\"1\" class=\"dataframe\">\n",
       "  <thead>\n",
       "    <tr style=\"text-align: right;\">\n",
       "      <th></th>\n",
       "      <th>0</th>\n",
       "      <th>1</th>\n",
       "    </tr>\n",
       "  </thead>\n",
       "  <tbody>\n",
       "    <tr>\n",
       "      <th>0</th>\n",
       "      <td>PC0</td>\n",
       "      <td>l_rush1st17</td>\n",
       "    </tr>\n",
       "    <tr>\n",
       "      <th>1</th>\n",
       "      <td>PC1</td>\n",
       "      <td>off_passydsg17</td>\n",
       "    </tr>\n",
       "    <tr>\n",
       "      <th>2</th>\n",
       "      <td>PC2</td>\n",
       "      <td>l_gp17</td>\n",
       "    </tr>\n",
       "    <tr>\n",
       "      <th>3</th>\n",
       "      <td>PC3</td>\n",
       "      <td>l_actual17</td>\n",
       "    </tr>\n",
       "    <tr>\n",
       "      <th>4</th>\n",
       "      <td>PC4</td>\n",
       "      <td>l_actual17</td>\n",
       "    </tr>\n",
       "  </tbody>\n",
       "</table>\n",
       "</div>"
      ],
      "text/plain": [
       "     0               1\n",
       "0  PC0     l_rush1st17\n",
       "1  PC1  off_passydsg17\n",
       "2  PC2          l_gp17\n",
       "3  PC3      l_actual17\n",
       "4  PC4      l_actual17"
      ]
     },
     "execution_count": 339,
     "metadata": {},
     "output_type": "execute_result"
    }
   ],
   "source": [
    "numPCA(x_qb,vars)\n",
    "\n"
   ]
  },
  {
   "cell_type": "code",
   "execution_count": 340,
   "metadata": {},
   "outputs": [
    {
     "name": "stdout",
     "output_type": "stream",
     "text": [
      "6\n",
      "[0.4072918  0.2194014  0.11510606 0.08356412 0.05315177 0.03926797]\n"
     ]
    },
    {
     "data": {
      "text/html": [
       "<div>\n",
       "<style scoped>\n",
       "    .dataframe tbody tr th:only-of-type {\n",
       "        vertical-align: middle;\n",
       "    }\n",
       "\n",
       "    .dataframe tbody tr th {\n",
       "        vertical-align: top;\n",
       "    }\n",
       "\n",
       "    .dataframe thead th {\n",
       "        text-align: right;\n",
       "    }\n",
       "</style>\n",
       "<table border=\"1\" class=\"dataframe\">\n",
       "  <thead>\n",
       "    <tr style=\"text-align: right;\">\n",
       "      <th></th>\n",
       "      <th>0</th>\n",
       "      <th>1</th>\n",
       "    </tr>\n",
       "  </thead>\n",
       "  <tbody>\n",
       "    <tr>\n",
       "      <th>0</th>\n",
       "      <td>PC0</td>\n",
       "      <td>l_points17</td>\n",
       "    </tr>\n",
       "    <tr>\n",
       "      <th>1</th>\n",
       "      <td>PC1</td>\n",
       "      <td>l_passtd17</td>\n",
       "    </tr>\n",
       "    <tr>\n",
       "      <th>2</th>\n",
       "      <td>PC2</td>\n",
       "      <td>off_passydsg17</td>\n",
       "    </tr>\n",
       "    <tr>\n",
       "      <th>3</th>\n",
       "      <td>PC3</td>\n",
       "      <td>l_fumble17</td>\n",
       "    </tr>\n",
       "    <tr>\n",
       "      <th>4</th>\n",
       "      <td>PC4</td>\n",
       "      <td>off_runydsg17</td>\n",
       "    </tr>\n",
       "    <tr>\n",
       "      <th>5</th>\n",
       "      <td>PC5</td>\n",
       "      <td>off_passydsg17</td>\n",
       "    </tr>\n",
       "  </tbody>\n",
       "</table>\n",
       "</div>"
      ],
      "text/plain": [
       "     0               1\n",
       "0  PC0      l_points17\n",
       "1  PC1      l_passtd17\n",
       "2  PC2  off_passydsg17\n",
       "3  PC3      l_fumble17\n",
       "4  PC4   off_runydsg17\n",
       "5  PC5  off_passydsg17"
      ]
     },
     "execution_count": 340,
     "metadata": {},
     "output_type": "execute_result"
    }
   ],
   "source": [
    "numPCA(x_rb,vars)\n"
   ]
  },
  {
   "cell_type": "code",
   "execution_count": 341,
   "metadata": {},
   "outputs": [],
   "source": [
    "wrte = ['l_points17','l_rushyds17','l_returntd17','l_passint17','l_passyds17','l_fumble17','l_gp17','l_rushtd17','l_rectd17','l_actual17','l_returntd17']\n",
    "qb = ['l_rushyds17','l_passyds17','l_gp17','l_actual17','l_fumble17','l_passint17','l_gp17']\n",
    "rb = ['l_points17','l_passtd17','l_rushyds17','l_fumble17','l_gp17','l_rectd17','l_returntd17','l_fumble17','l_rushtd17']\n",
    "x_wrte = x_wrte[wrte]\n",
    "x_qb = x_qb[qb]\n",
    "x_rb = x_rb[rb]"
   ]
  },
  {
   "cell_type": "markdown",
   "metadata": {},
   "source": []
  },
  {
   "cell_type": "code",
   "execution_count": 342,
   "metadata": {},
   "outputs": [
    {
     "name": "stdout",
     "output_type": "stream",
     "text": [
      "(56, 11) (56, 1)\n",
      "(19, 11) (19, 1)\n",
      "(21, 9) (21, 1)\n",
      "(8, 9) (8, 1)\n",
      "(6, 7) (6, 1)\n",
      "(3, 7) (3, 1)\n"
     ]
    }
   ],
   "source": [
    "#SPLIT\n",
    "\n",
    "x_wrte_train, x_wrte_test, y_wrte_train, y_wrte_test = train_test_split(x_wrte, y_wrte, test_size=0.25, random_state=13)\n",
    "print (x_wrte_train.shape, y_wrte_train.shape)\n",
    "print (x_wrte_test.shape, y_wrte_test.shape)\n",
    "\n",
    "x_rb_train, x_rb_test, y_rb_train, y_rb_test = train_test_split(x_rb, y_rb, test_size=0.25, random_state=13)\n",
    "print (x_rb_train.shape, y_rb_train.shape)\n",
    "print (x_rb_test.shape, y_rb_test.shape)\n",
    "\n",
    "x_qb_train, x_qb_test, y_qb_train, y_qb_test = train_test_split(x_qb, y_qb, test_size=0.25, random_state=13)\n",
    "print (x_qb_train.shape, y_qb_train.shape)\n",
    "print (x_qb_test.shape, y_qb_test.shape)"
   ]
  },
  {
   "cell_type": "code",
   "execution_count": 343,
   "metadata": {},
   "outputs": [
    {
     "name": "stdout",
     "output_type": "stream",
     "text": [
      "\n",
      "wr and te players\n",
      "\n",
      "cross val for test set\n",
      "lin score -4.580696142628454\n",
      "MSE for test set\n",
      "MSE: lin  3465.491399510602\n",
      "Equation:\n",
      "1.08l_points17 + 42.64l_rushyds17 + 37.01l_returntd17 + 0.1l_passint17 + 42.64l_returntd17\n",
      "\n",
      "\n",
      "qb players\n",
      "cross val for test set\n",
      "lin score -123.73402834264412\n",
      "MSE for test set\n",
      "MSE: lin  63393.91312097042\n",
      "Equation:\n",
      "0.19l_rushyds17 + 3.48l_gp17\n",
      "\n",
      "\n",
      "rb players\n",
      "cross val for test set\n",
      "lin score -15.417837835545626\n",
      "MSE for test set\n",
      "MSE: lin  15637.77651966461\n",
      "Equation:\n",
      "0.31l_points17 + 18.0l_passtd17 + 39.41l_rushyds17 + 340.04l_fumble17 + 18.0l_rushtd17\n"
     ]
    },
    {
     "name": "stderr",
     "output_type": "stream",
     "text": [
      "/Library/Frameworks/Python.framework/Versions/3.10/lib/python3.10/site-packages/sklearn/linear_model/_base.py:141: FutureWarning: 'normalize' was deprecated in version 1.0 and will be removed in 1.2.\n",
      "If you wish to scale the data, use Pipeline with a StandardScaler in a preprocessing stage. To reproduce the previous behavior:\n",
      "\n",
      "from sklearn.pipeline import make_pipeline\n",
      "\n",
      "model = make_pipeline(StandardScaler(with_mean=False), LinearRegression())\n",
      "\n",
      "If you wish to pass a sample_weight parameter, you need to pass it as a fit parameter to each step of the pipeline as follows:\n",
      "\n",
      "kwargs = {s[0] + '__sample_weight': sample_weight for s in model.steps}\n",
      "model.fit(X, y, **kwargs)\n",
      "\n",
      "\n",
      "  warnings.warn(\n",
      "/Library/Frameworks/Python.framework/Versions/3.10/lib/python3.10/site-packages/sklearn/linear_model/_base.py:141: FutureWarning: 'normalize' was deprecated in version 1.0 and will be removed in 1.2.\n",
      "If you wish to scale the data, use Pipeline with a StandardScaler in a preprocessing stage. To reproduce the previous behavior:\n",
      "\n",
      "from sklearn.pipeline import make_pipeline\n",
      "\n",
      "model = make_pipeline(StandardScaler(with_mean=False), LinearRegression())\n",
      "\n",
      "If you wish to pass a sample_weight parameter, you need to pass it as a fit parameter to each step of the pipeline as follows:\n",
      "\n",
      "kwargs = {s[0] + '__sample_weight': sample_weight for s in model.steps}\n",
      "model.fit(X, y, **kwargs)\n",
      "\n",
      "\n",
      "  warnings.warn(\n",
      "/Library/Frameworks/Python.framework/Versions/3.10/lib/python3.10/site-packages/sklearn/linear_model/_base.py:141: FutureWarning: 'normalize' was deprecated in version 1.0 and will be removed in 1.2.\n",
      "If you wish to scale the data, use Pipeline with a StandardScaler in a preprocessing stage. To reproduce the previous behavior:\n",
      "\n",
      "from sklearn.pipeline import make_pipeline\n",
      "\n",
      "model = make_pipeline(StandardScaler(with_mean=False), LinearRegression())\n",
      "\n",
      "If you wish to pass a sample_weight parameter, you need to pass it as a fit parameter to each step of the pipeline as follows:\n",
      "\n",
      "kwargs = {s[0] + '__sample_weight': sample_weight for s in model.steps}\n",
      "model.fit(X, y, **kwargs)\n",
      "\n",
      "\n",
      "  warnings.warn(\n",
      "/Library/Frameworks/Python.framework/Versions/3.10/lib/python3.10/site-packages/sklearn/linear_model/_base.py:141: FutureWarning: 'normalize' was deprecated in version 1.0 and will be removed in 1.2.\n",
      "If you wish to scale the data, use Pipeline with a StandardScaler in a preprocessing stage. To reproduce the previous behavior:\n",
      "\n",
      "from sklearn.pipeline import make_pipeline\n",
      "\n",
      "model = make_pipeline(StandardScaler(with_mean=False), LinearRegression())\n",
      "\n",
      "If you wish to pass a sample_weight parameter, you need to pass it as a fit parameter to each step of the pipeline as follows:\n",
      "\n",
      "kwargs = {s[0] + '__sample_weight': sample_weight for s in model.steps}\n",
      "model.fit(X, y, **kwargs)\n",
      "\n",
      "\n",
      "  warnings.warn(\n",
      "/Library/Frameworks/Python.framework/Versions/3.10/lib/python3.10/site-packages/sklearn/linear_model/_base.py:141: FutureWarning: 'normalize' was deprecated in version 1.0 and will be removed in 1.2.\n",
      "If you wish to scale the data, use Pipeline with a StandardScaler in a preprocessing stage. To reproduce the previous behavior:\n",
      "\n",
      "from sklearn.pipeline import make_pipeline\n",
      "\n",
      "model = make_pipeline(StandardScaler(with_mean=False), LinearRegression())\n",
      "\n",
      "If you wish to pass a sample_weight parameter, you need to pass it as a fit parameter to each step of the pipeline as follows:\n",
      "\n",
      "kwargs = {s[0] + '__sample_weight': sample_weight for s in model.steps}\n",
      "model.fit(X, y, **kwargs)\n",
      "\n",
      "\n",
      "  warnings.warn(\n",
      "/Library/Frameworks/Python.framework/Versions/3.10/lib/python3.10/site-packages/sklearn/linear_model/_base.py:141: FutureWarning: 'normalize' was deprecated in version 1.0 and will be removed in 1.2.\n",
      "If you wish to scale the data, use Pipeline with a StandardScaler in a preprocessing stage. To reproduce the previous behavior:\n",
      "\n",
      "from sklearn.pipeline import make_pipeline\n",
      "\n",
      "model = make_pipeline(StandardScaler(with_mean=False), LinearRegression())\n",
      "\n",
      "If you wish to pass a sample_weight parameter, you need to pass it as a fit parameter to each step of the pipeline as follows:\n",
      "\n",
      "kwargs = {s[0] + '__sample_weight': sample_weight for s in model.steps}\n",
      "model.fit(X, y, **kwargs)\n",
      "\n",
      "\n",
      "  warnings.warn(\n",
      "/Library/Frameworks/Python.framework/Versions/3.10/lib/python3.10/site-packages/sklearn/linear_model/_base.py:141: FutureWarning: 'normalize' was deprecated in version 1.0 and will be removed in 1.2.\n",
      "If you wish to scale the data, use Pipeline with a StandardScaler in a preprocessing stage. To reproduce the previous behavior:\n",
      "\n",
      "from sklearn.pipeline import make_pipeline\n",
      "\n",
      "model = make_pipeline(StandardScaler(with_mean=False), LinearRegression())\n",
      "\n",
      "If you wish to pass a sample_weight parameter, you need to pass it as a fit parameter to each step of the pipeline as follows:\n",
      "\n",
      "kwargs = {s[0] + '__sample_weight': sample_weight for s in model.steps}\n",
      "model.fit(X, y, **kwargs)\n",
      "\n",
      "\n",
      "  warnings.warn(\n",
      "/Library/Frameworks/Python.framework/Versions/3.10/lib/python3.10/site-packages/sklearn/linear_model/_base.py:141: FutureWarning: 'normalize' was deprecated in version 1.0 and will be removed in 1.2.\n",
      "If you wish to scale the data, use Pipeline with a StandardScaler in a preprocessing stage. To reproduce the previous behavior:\n",
      "\n",
      "from sklearn.pipeline import make_pipeline\n",
      "\n",
      "model = make_pipeline(StandardScaler(with_mean=False), LinearRegression())\n",
      "\n",
      "If you wish to pass a sample_weight parameter, you need to pass it as a fit parameter to each step of the pipeline as follows:\n",
      "\n",
      "kwargs = {s[0] + '__sample_weight': sample_weight for s in model.steps}\n",
      "model.fit(X, y, **kwargs)\n",
      "\n",
      "\n",
      "  warnings.warn(\n",
      "/Library/Frameworks/Python.framework/Versions/3.10/lib/python3.10/site-packages/sklearn/linear_model/_base.py:141: FutureWarning: 'normalize' was deprecated in version 1.0 and will be removed in 1.2.\n",
      "If you wish to scale the data, use Pipeline with a StandardScaler in a preprocessing stage. To reproduce the previous behavior:\n",
      "\n",
      "from sklearn.pipeline import make_pipeline\n",
      "\n",
      "model = make_pipeline(StandardScaler(with_mean=False), LinearRegression())\n",
      "\n",
      "If you wish to pass a sample_weight parameter, you need to pass it as a fit parameter to each step of the pipeline as follows:\n",
      "\n",
      "kwargs = {s[0] + '__sample_weight': sample_weight for s in model.steps}\n",
      "model.fit(X, y, **kwargs)\n",
      "\n",
      "\n",
      "  warnings.warn(\n",
      "/Library/Frameworks/Python.framework/Versions/3.10/lib/python3.10/site-packages/sklearn/linear_model/_base.py:141: FutureWarning: 'normalize' was deprecated in version 1.0 and will be removed in 1.2.\n",
      "If you wish to scale the data, use Pipeline with a StandardScaler in a preprocessing stage. To reproduce the previous behavior:\n",
      "\n",
      "from sklearn.pipeline import make_pipeline\n",
      "\n",
      "model = make_pipeline(StandardScaler(with_mean=False), LinearRegression())\n",
      "\n",
      "If you wish to pass a sample_weight parameter, you need to pass it as a fit parameter to each step of the pipeline as follows:\n",
      "\n",
      "kwargs = {s[0] + '__sample_weight': sample_weight for s in model.steps}\n",
      "model.fit(X, y, **kwargs)\n",
      "\n",
      "\n",
      "  warnings.warn(\n",
      "/Library/Frameworks/Python.framework/Versions/3.10/lib/python3.10/site-packages/sklearn/linear_model/_base.py:141: FutureWarning: 'normalize' was deprecated in version 1.0 and will be removed in 1.2.\n",
      "If you wish to scale the data, use Pipeline with a StandardScaler in a preprocessing stage. To reproduce the previous behavior:\n",
      "\n",
      "from sklearn.pipeline import make_pipeline\n",
      "\n",
      "model = make_pipeline(StandardScaler(with_mean=False), LinearRegression())\n",
      "\n",
      "If you wish to pass a sample_weight parameter, you need to pass it as a fit parameter to each step of the pipeline as follows:\n",
      "\n",
      "kwargs = {s[0] + '__sample_weight': sample_weight for s in model.steps}\n",
      "model.fit(X, y, **kwargs)\n",
      "\n",
      "\n",
      "  warnings.warn(\n",
      "/Library/Frameworks/Python.framework/Versions/3.10/lib/python3.10/site-packages/sklearn/linear_model/_base.py:141: FutureWarning: 'normalize' was deprecated in version 1.0 and will be removed in 1.2.\n",
      "If you wish to scale the data, use Pipeline with a StandardScaler in a preprocessing stage. To reproduce the previous behavior:\n",
      "\n",
      "from sklearn.pipeline import make_pipeline\n",
      "\n",
      "model = make_pipeline(StandardScaler(with_mean=False), LinearRegression())\n",
      "\n",
      "If you wish to pass a sample_weight parameter, you need to pass it as a fit parameter to each step of the pipeline as follows:\n",
      "\n",
      "kwargs = {s[0] + '__sample_weight': sample_weight for s in model.steps}\n",
      "model.fit(X, y, **kwargs)\n",
      "\n",
      "\n",
      "  warnings.warn(\n"
     ]
    }
   ],
   "source": [
    "\n",
    "def lin (x_train, x_test, y_train, y_test,df,df2,vars):\n",
    "    # try both linear and polynomial of different degrees\n",
    "    linear_model = LinearRegression(normalize=True)\n",
    "    lin_1 = linear_model.fit(x_train, y_train)\n",
    "    lin1_predict = lin_1.predict(x_test)\n",
    "    print('cross val for test set')\n",
    "    lin_score=np.mean(cross_val_score(linear_model, df[vars],df2, cv=3))\n",
    "    print(\"lin score\", lin_score)\n",
    "    print('MSE for test set')\n",
    "    print('MSE: lin ', mean_squared_error(lin1_predict, y_test))\n",
    "    \n",
    "    coefs = lin_1.coef_[lin_1.coef_ > .000001]\n",
    "    equation_dict = {}\n",
    "    print(f'Equation:')\n",
    "    for i in range(len(coefs[:-1])):\n",
    "        print(f'{round(coefs[i], 2)}{vars[i]}', end=' + ')\n",
    "        equation_dict[coefs[i]] = vars[i]\n",
    "    print(f'{round(coefs[-1], 2)}{vars[-1]}')\n",
    "    equation_dict[coefs[-1]] = vars[-1]\n",
    "   \n",
    "        \n",
    "        \n",
    "        \n",
    "print(\"\\nwr and te players\\n\")       \n",
    "lin(x_wrte_train, x_wrte_test, y_wrte_train, y_wrte_test,x_wrte,y_wrte,wrte) \n",
    "print(\"\\n\\nqb players\")       \n",
    "lin(x_qb_train, x_qb_test, y_qb_train, y_qb_test,x_qb,y_qb,qb) \n",
    "print(\"\\n\\nrb players\")       \n",
    "lin(x_rb_train, x_rb_test, y_rb_train, y_rb_test,x_rb,y_rb,rb) \n"
   ]
  },
  {
   "cell_type": "markdown",
   "metadata": {},
   "source": [
    "Decision tree part"
   ]
  },
  {
   "cell_type": "code",
   "execution_count": 344,
   "metadata": {},
   "outputs": [
    {
     "name": "stdout",
     "output_type": "stream",
     "text": [
      "\n",
      "\n",
      "\n",
      "wr and te players\n",
      "cross val for test set\n",
      "dt score -20.893019834916522\n",
      "MSE for test set\n",
      "MSE: dt  6351.907462049539\n",
      "R2: dt  0.1991641792259532\n",
      "MAE: dt  69.410003\n",
      "RMSE: dt  79.69885483524553\n"
     ]
    },
    {
     "data": {
      "text/plain": [
       "[Text(0.6015969162995595, 0.9583333333333334, 'X[0] <= 225.95\\nsquared_error = 7993.236\\nsamples = 56\\nvalue = 155.696'),\n",
       " Text(0.3794052863436123, 0.875, 'X[9] <= 179.5\\nsquared_error = 4318.661\\nsamples = 44\\nvalue = 125.339'),\n",
       " Text(0.14537444933920704, 0.7916666666666666, 'X[5] <= 1.5\\nsquared_error = 4655.814\\nsamples = 10\\nvalue = 165.163'),\n",
       " Text(0.09691629955947137, 0.7083333333333334, 'X[9] <= 111.5\\nsquared_error = 3582.461\\nsamples = 8\\nvalue = 186.179'),\n",
       " Text(0.05286343612334802, 0.625, 'X[1] <= 22.0\\nsquared_error = 588.987\\nsamples = 3\\nvalue = 135.153'),\n",
       " Text(0.03524229074889868, 0.5416666666666666, 'X[8] <= 6.5\\nsquared_error = 20.385\\nsamples = 2\\nvalue = 152.115'),\n",
       " Text(0.01762114537444934, 0.4583333333333333, 'squared_error = 0.0\\nsamples = 1\\nvalue = 156.63'),\n",
       " Text(0.05286343612334802, 0.4583333333333333, 'squared_error = 0.0\\nsamples = 1\\nvalue = 147.6'),\n",
       " Text(0.07048458149779736, 0.5416666666666666, 'squared_error = -0.0\\nsamples = 1\\nvalue = 101.23'),\n",
       " Text(0.14096916299559473, 0.625, 'X[9] <= 134.0\\nsquared_error = 2879.096\\nsamples = 5\\nvalue = 216.794'),\n",
       " Text(0.10572687224669604, 0.5416666666666666, 'X[8] <= 5.5\\nsquared_error = 48.094\\nsamples = 2\\nvalue = 256.935'),\n",
       " Text(0.0881057268722467, 0.4583333333333333, 'squared_error = 0.0\\nsamples = 1\\nvalue = 263.87'),\n",
       " Text(0.12334801762114538, 0.4583333333333333, 'squared_error = 0.0\\nsamples = 1\\nvalue = 250.0'),\n",
       " Text(0.1762114537444934, 0.5416666666666666, 'X[9] <= 158.5\\nsquared_error = 2976.098\\nsamples = 3\\nvalue = 190.033'),\n",
       " Text(0.15859030837004406, 0.4583333333333333, 'squared_error = 0.0\\nsamples = 1\\nvalue = 113.27'),\n",
       " Text(0.19383259911894274, 0.4583333333333333, 'X[8] <= 1.5\\nsquared_error = 44.689\\nsamples = 2\\nvalue = 228.415'),\n",
       " Text(0.1762114537444934, 0.375, 'squared_error = 0.0\\nsamples = 1\\nvalue = 235.1'),\n",
       " Text(0.21145374449339208, 0.375, 'squared_error = -0.0\\nsamples = 1\\nvalue = 221.73'),\n",
       " Text(0.19383259911894274, 0.7083333333333334, 'X[0] <= 191.55\\nsquared_error = 115.993\\nsamples = 2\\nvalue = 81.1'),\n",
       " Text(0.1762114537444934, 0.625, 'squared_error = 0.0\\nsamples = 1\\nvalue = 70.33'),\n",
       " Text(0.21145374449339208, 0.625, 'squared_error = 0.0\\nsamples = 1\\nvalue = 91.87'),\n",
       " Text(0.6134361233480177, 0.7916666666666666, 'X[6] <= 4.5\\nsquared_error = 3615.852\\nsamples = 34\\nvalue = 113.626'),\n",
       " Text(0.5958149779735683, 0.7083333333333334, 'squared_error = 0.0\\nsamples = 1\\nvalue = 266.27'),\n",
       " Text(0.6310572687224669, 0.7083333333333334, 'X[1] <= 33.0\\nsquared_error = 2997.962\\nsamples = 33\\nvalue = 109.001'),\n",
       " Text(0.5176211453744494, 0.625, 'X[6] <= 12.5\\nsquared_error = 2890.378\\nsamples = 31\\nvalue = 104.757'),\n",
       " Text(0.3436123348017621, 0.5416666666666666, 'X[0] <= 128.885\\nsquared_error = 3587.123\\nsamples = 15\\nvalue = 123.695'),\n",
       " Text(0.32599118942731276, 0.4583333333333333, 'X[9] <= 282.5\\nsquared_error = 3215.229\\nsamples = 14\\nvalue = 117.224'),\n",
       " Text(0.24669603524229075, 0.375, 'X[6] <= 11.5\\nsquared_error = 1123.899\\nsamples = 6\\nvalue = 85.09'),\n",
       " Text(0.2290748898678414, 0.2916666666666667, 'X[0] <= 121.62\\nsquared_error = 509.27\\nsamples = 5\\nvalue = 73.262'),\n",
       " Text(0.21145374449339208, 0.20833333333333334, 'X[6] <= 10.5\\nsquared_error = 53.171\\nsamples = 4\\nvalue = 62.46'),\n",
       " Text(0.1762114537444934, 0.125, 'X[9] <= 238.5\\nsquared_error = 0.64\\nsamples = 2\\nvalue = 65.87'),\n",
       " Text(0.15859030837004406, 0.041666666666666664, 'squared_error = 0.0\\nsamples = 1\\nvalue = 66.67'),\n",
       " Text(0.19383259911894274, 0.041666666666666664, 'squared_error = -0.0\\nsamples = 1\\nvalue = 65.07'),\n",
       " Text(0.24669603524229075, 0.125, 'X[1] <= 8.5\\nsquared_error = 82.446\\nsamples = 2\\nvalue = 59.05'),\n",
       " Text(0.2290748898678414, 0.041666666666666664, 'squared_error = 0.0\\nsamples = 1\\nvalue = 49.97'),\n",
       " Text(0.2643171806167401, 0.041666666666666664, 'squared_error = 0.0\\nsamples = 1\\nvalue = 68.13'),\n",
       " Text(0.24669603524229075, 0.20833333333333334, 'squared_error = 0.0\\nsamples = 1\\nvalue = 116.47'),\n",
       " Text(0.2643171806167401, 0.2916666666666667, 'squared_error = -0.0\\nsamples = 1\\nvalue = 144.23'),\n",
       " Text(0.4052863436123348, 0.375, 'X[0] <= 70.535\\nsquared_error = 3428.423\\nsamples = 8\\nvalue = 141.325'),\n",
       " Text(0.33480176211453744, 0.2916666666666667, 'X[6] <= 6.5\\nsquared_error = 842.195\\nsamples = 4\\nvalue = 92.325'),\n",
       " Text(0.29955947136563876, 0.20833333333333334, 'X[0] <= 49.27\\nsquared_error = 125.776\\nsamples = 2\\nvalue = 119.985'),\n",
       " Text(0.28193832599118945, 0.125, 'squared_error = 0.0\\nsamples = 1\\nvalue = 108.77'),\n",
       " Text(0.31718061674008813, 0.125, 'squared_error = 0.0\\nsamples = 1\\nvalue = 131.2'),\n",
       " Text(0.3700440528634361, 0.20833333333333334, 'X[9] <= 356.0\\nsquared_error = 28.462\\nsamples = 2\\nvalue = 64.665'),\n",
       " Text(0.3524229074889868, 0.125, 'squared_error = 0.0\\nsamples = 1\\nvalue = 70.0'),\n",
       " Text(0.3876651982378855, 0.125, 'squared_error = -0.0\\nsamples = 1\\nvalue = 59.33'),\n",
       " Text(0.47577092511013214, 0.2916666666666667, 'X[1] <= 4.0\\nsquared_error = 1212.652\\nsamples = 4\\nvalue = 190.325'),\n",
       " Text(0.44052863436123346, 0.20833333333333334, 'X[0] <= 74.25\\nsquared_error = 169.0\\nsamples = 2\\nvalue = 223.9'),\n",
       " Text(0.42290748898678415, 0.125, 'squared_error = 0.0\\nsamples = 1\\nvalue = 210.9'),\n",
       " Text(0.4581497797356828, 0.125, 'squared_error = 0.0\\nsamples = 1\\nvalue = 236.9'),\n",
       " Text(0.5110132158590308, 0.20833333333333334, 'X[1] <= 9.0\\nsquared_error = 1.742\\nsamples = 2\\nvalue = 156.75'),\n",
       " Text(0.4933920704845815, 0.125, 'squared_error = 0.0\\nsamples = 1\\nvalue = 155.43'),\n",
       " Text(0.5286343612334802, 0.125, 'squared_error = 0.0\\nsamples = 1\\nvalue = 158.07'),\n",
       " Text(0.36123348017621143, 0.4583333333333333, 'squared_error = 0.0\\nsamples = 1\\nvalue = 214.29'),\n",
       " Text(0.6916299559471366, 0.5416666666666666, 'X[8] <= 1.5\\nsquared_error = 1585.735\\nsamples = 16\\nvalue = 87.003'),\n",
       " Text(0.6167400881057269, 0.4583333333333333, 'X[6] <= 15.5\\nsquared_error = 2638.114\\nsamples = 7\\nvalue = 104.986'),\n",
       " Text(0.5814977973568282, 0.375, 'X[5] <= 1.0\\nsquared_error = 626.86\\nsamples = 5\\nvalue = 88.06'),\n",
       " Text(0.5638766519823789, 0.2916666666666667, 'X[0] <= 33.63\\nsquared_error = 476.051\\nsamples = 4\\nvalue = 80.217'),\n",
       " Text(0.5462555066079295, 0.20833333333333334, 'squared_error = 0.0\\nsamples = 1\\nvalue = 117.27'),\n",
       " Text(0.5814977973568282, 0.20833333333333334, 'X[0] <= 70.465\\nsquared_error = 24.563\\nsamples = 3\\nvalue = 67.867'),\n",
       " Text(0.5638766519823789, 0.125, 'squared_error = 0.0\\nsamples = 1\\nvalue = 62.53'),\n",
       " Text(0.5991189427312775, 0.125, 'X[0] <= 123.235\\nsquared_error = 15.484\\nsamples = 2\\nvalue = 70.535'),\n",
       " Text(0.5814977973568282, 0.041666666666666664, 'squared_error = 0.0\\nsamples = 1\\nvalue = 74.47'),\n",
       " Text(0.6167400881057269, 0.041666666666666664, 'squared_error = 0.0\\nsamples = 1\\nvalue = 66.6'),\n",
       " Text(0.5991189427312775, 0.2916666666666667, 'squared_error = 0.0\\nsamples = 1\\nvalue = 119.43'),\n",
       " Text(0.6519823788546255, 0.375, 'X[0] <= 84.335\\nsquared_error = 5159.549\\nsamples = 2\\nvalue = 147.3'),\n",
       " Text(0.6343612334801763, 0.2916666666666667, 'squared_error = 0.0\\nsamples = 1\\nvalue = 75.47'),\n",
       " Text(0.6696035242290749, 0.2916666666666667, 'squared_error = -0.0\\nsamples = 1\\nvalue = 219.13'),\n",
       " Text(0.7665198237885462, 0.4583333333333333, 'X[1] <= 5.5\\nsquared_error = 320.084\\nsamples = 9\\nvalue = 73.017'),\n",
       " Text(0.748898678414097, 0.375, 'X[0] <= 127.665\\nsquared_error = 218.484\\nsamples = 8\\nvalue = 69.05'),\n",
       " Text(0.7048458149779736, 0.2916666666666667, 'X[8] <= 2.5\\nsquared_error = 129.537\\nsamples = 5\\nvalue = 76.668'),\n",
       " Text(0.6696035242290749, 0.20833333333333334, 'X[9] <= 315.0\\nsquared_error = 33.235\\nsamples = 2\\nvalue = 65.435'),\n",
       " Text(0.6519823788546255, 0.125, 'squared_error = 0.0\\nsamples = 1\\nvalue = 59.67'),\n",
       " Text(0.6872246696035242, 0.125, 'squared_error = 0.0\\nsamples = 1\\nvalue = 71.2'),\n",
       " Text(0.7400881057268722, 0.20833333333333334, 'X[8] <= 3.5\\nsquared_error = 53.537\\nsamples = 3\\nvalue = 84.157'),\n",
       " Text(0.7224669603524229, 0.125, 'X[9] <= 249.5\\nsquared_error = 4.0\\nsamples = 2\\nvalue = 89.2'),\n",
       " Text(0.7048458149779736, 0.041666666666666664, 'squared_error = 0.0\\nsamples = 1\\nvalue = 91.2'),\n",
       " Text(0.7400881057268722, 0.041666666666666664, 'squared_error = -0.0\\nsamples = 1\\nvalue = 87.2'),\n",
       " Text(0.7577092511013216, 0.125, 'squared_error = -0.0\\nsamples = 1\\nvalue = 74.07'),\n",
       " Text(0.7929515418502202, 0.2916666666666667, 'X[9] <= 191.5\\nsquared_error = 108.802\\nsamples = 3\\nvalue = 56.353'),\n",
       " Text(0.775330396475771, 0.20833333333333334, 'squared_error = 0.0\\nsamples = 1\\nvalue = 70.63'),\n",
       " Text(0.8105726872246696, 0.20833333333333334, 'X[0] <= 137.965\\nsquared_error = 10.336\\nsamples = 2\\nvalue = 49.215'),\n",
       " Text(0.7929515418502202, 0.125, 'squared_error = 0.0\\nsamples = 1\\nvalue = 46.0'),\n",
       " Text(0.8281938325991189, 0.125, 'squared_error = -0.0\\nsamples = 1\\nvalue = 52.43'),\n",
       " Text(0.7841409691629956, 0.375, 'squared_error = 0.0\\nsamples = 1\\nvalue = 104.75'),\n",
       " Text(0.7444933920704846, 0.625, 'X[1] <= 85.0\\nsquared_error = 60.84\\nsamples = 2\\nvalue = 174.77'),\n",
       " Text(0.7268722466960352, 0.5416666666666666, 'squared_error = 0.0\\nsamples = 1\\nvalue = 166.97'),\n",
       " Text(0.762114537444934, 0.5416666666666666, 'squared_error = 0.0\\nsamples = 1\\nvalue = 182.57'),\n",
       " Text(0.8237885462555066, 0.875, 'X[9] <= 9.5\\nsquared_error = 5698.553\\nsamples = 12\\nvalue = 267.002'),\n",
       " Text(0.7797356828193832, 0.7916666666666666, 'X[8] <= 11.0\\nsquared_error = 28.249\\nsamples = 2\\nvalue = 378.785'),\n",
       " Text(0.762114537444934, 0.7083333333333334, 'squared_error = 0.0\\nsamples = 1\\nvalue = 373.47'),\n",
       " Text(0.7973568281938326, 0.7083333333333334, 'squared_error = 0.0\\nsamples = 1\\nvalue = 384.1'),\n",
       " Text(0.8678414096916299, 0.7916666666666666, 'X[8] <= 4.0\\nsquared_error = 3833.735\\nsamples = 10\\nvalue = 244.646'),\n",
       " Text(0.8325991189427313, 0.7083333333333334, 'X[5] <= 1.0\\nsquared_error = 2111.865\\nsamples = 3\\nvalue = 311.773'),\n",
       " Text(0.8149779735682819, 0.625, 'X[10] <= 0.5\\nsquared_error = 706.762\\nsamples = 2\\nvalue = 340.415'),\n",
       " Text(0.7973568281938326, 0.5416666666666666, 'squared_error = 0.0\\nsamples = 1\\nvalue = 367.0'),\n",
       " Text(0.8325991189427313, 0.5416666666666666, 'squared_error = 0.0\\nsamples = 1\\nvalue = 313.83'),\n",
       " Text(0.8502202643171806, 0.625, 'squared_error = 0.0\\nsamples = 1\\nvalue = 254.49'),\n",
       " Text(0.9030837004405287, 0.7083333333333334, 'X[6] <= 15.0\\nsquared_error = 1812.855\\nsamples = 7\\nvalue = 215.877'),\n",
       " Text(0.8854625550660793, 0.625, 'squared_error = 0.0\\nsamples = 1\\nvalue = 302.27'),\n",
       " Text(0.920704845814978, 0.625, 'X[8] <= 8.5\\nsquared_error = 663.718\\nsamples = 6\\nvalue = 201.478'),\n",
       " Text(0.8766519823788547, 0.5416666666666666, 'X[8] <= 7.0\\nsquared_error = 384.363\\nsamples = 4\\nvalue = 187.97'),\n",
       " Text(0.8414096916299559, 0.4583333333333333, 'X[9] <= 34.5\\nsquared_error = 30.305\\nsamples = 2\\nvalue = 206.705'),\n",
       " Text(0.8237885462555066, 0.375, 'squared_error = 0.0\\nsamples = 1\\nvalue = 212.21'),\n",
       " Text(0.8590308370044053, 0.375, 'squared_error = 0.0\\nsamples = 1\\nvalue = 201.2'),\n",
       " Text(0.9118942731277533, 0.4583333333333333, 'X[5] <= 1.0\\nsquared_error = 36.421\\nsamples = 2\\nvalue = 169.235'),\n",
       " Text(0.8942731277533039, 0.375, 'squared_error = 0.0\\nsamples = 1\\nvalue = 163.2'),\n",
       " Text(0.9295154185022027, 0.375, 'squared_error = -0.0\\nsamples = 1\\nvalue = 175.27'),\n",
       " Text(0.9647577092511013, 0.5416666666666666, 'X[9] <= 41.5\\nsquared_error = 127.577\\nsamples = 2\\nvalue = 228.495'),\n",
       " Text(0.947136563876652, 0.4583333333333333, 'squared_error = 0.0\\nsamples = 1\\nvalue = 239.79'),\n",
       " Text(0.9823788546255506, 0.4583333333333333, 'squared_error = 0.0\\nsamples = 1\\nvalue = 217.2')]"
      ]
     },
     "execution_count": 344,
     "metadata": {},
     "output_type": "execute_result"
    },
    {
     "data": {
      "image/png": "[encoded data removed]",
      "text/plain": [
       "<Figure size 432x288 with 1 Axes>"
      ]
     },
     "metadata": {
      "needs_background": "light"
     },
     "output_type": "display_data"
    }
   ],
   "source": [
    "#code decision tree for the  wr and te players\n",
    "print(\"\\n\\n\\nwr and te players\")       \n",
    "dt = tree.DecisionTreeRegressor(random_state = 13)\n",
    "dt.fit(x_wrte_train, y_wrte_train)\n",
    "dt_predict = dt.predict(x_wrte_test)\n",
    "print('cross val for test set')\n",
    "dt_score=np.mean(cross_val_score(dt, x_wrte,y_wrte, cv=5))\n",
    "print(\"dt score\", dt_score)\n",
    "print('MSE for test set')\n",
    "print('MSE: dt ', mean_squared_error(dt_predict, y_wrte_test))\n",
    "print('R2: dt ', r2_score(dt_predict, y_wrte_test))\n",
    "print('MAE: dt ', mean_absolute_error(dt_predict, y_wrte_test))\n",
    "print('RMSE: dt ', np.sqrt(mean_squared_error(dt_predict, y_wrte_test)))\n",
    "\n",
    "\n",
    "tree.plot_tree(dt)\n"
   ]
  },
  {
   "cell_type": "code",
   "execution_count": 345,
   "metadata": {},
   "outputs": [
    {
     "name": "stdout",
     "output_type": "stream",
     "text": [
      "\n",
      "\n",
      "\n",
      "rb players\n",
      "cross val for test set\n",
      "dt score -100.40304357953296\n",
      "MSE for test set\n",
      "MSE: dt  7881.236154795039\n",
      "R2: dt  0.2522916137147059\n",
      "MAE: dt  73.483751125\n",
      "RMSE: dt  88.77632654483423\n"
     ]
    },
    {
     "data": {
      "text/plain": [
       "[Text(0.49107142857142855, 0.95, 'X[0] <= 358.62\\nsquared_error = 8267.464\\nsamples = 21\\nvalue = 182.57'),\n",
       " Text(0.43392857142857144, 0.85, 'X[2] <= 234.0\\nsquared_error = 5736.928\\nsamples = 20\\nvalue = 170.73'),\n",
       " Text(0.2642857142857143, 0.75, 'X[0] <= 33.75\\nsquared_error = 644.145\\nsamples = 2\\nvalue = 271.35'),\n",
       " Text(0.20714285714285716, 0.65, 'squared_error = 0.0\\nsamples = 1\\nvalue = 296.73'),\n",
       " Text(0.32142857142857145, 0.65, 'squared_error = -0.0\\nsamples = 1\\nvalue = 245.97'),\n",
       " Text(0.6035714285714285, 0.75, 'X[0] <= 231.015\\nsquared_error = 5052.856\\nsamples = 18\\nvalue = 159.549'),\n",
       " Text(0.4357142857142857, 0.65, 'X[8] <= 4.5\\nsquared_error = 1861.9\\nsamples = 14\\nvalue = 141.716'),\n",
       " Text(0.2714285714285714, 0.55, 'X[8] <= 1.5\\nsquared_error = 1366.066\\nsamples = 12\\nvalue = 152.124'),\n",
       " Text(0.11428571428571428, 0.45, 'X[3] <= 0.5\\nsquared_error = 0.608\\nsamples = 2\\nvalue = 119.25'),\n",
       " Text(0.05714285714285714, 0.35, 'squared_error = 0.0\\nsamples = 1\\nvalue = 118.47'),\n",
       " Text(0.17142857142857143, 0.35, 'squared_error = 0.0\\nsamples = 1\\nvalue = 120.03'),\n",
       " Text(0.42857142857142855, 0.45, 'X[0] <= 153.085\\nsquared_error = 1379.787\\nsamples = 10\\nvalue = 158.699'),\n",
       " Text(0.2857142857142857, 0.35, 'X[4] <= 11.5\\nsquared_error = 1498.075\\nsamples = 6\\nvalue = 173.81'),\n",
       " Text(0.17142857142857143, 0.25, 'X[0] <= 98.515\\nsquared_error = 1081.031\\nsamples = 3\\nvalue = 143.11'),\n",
       " Text(0.11428571428571428, 0.15, 'X[4] <= 7.5\\nsquared_error = 193.21\\nsamples = 2\\nvalue = 164.93'),\n",
       " Text(0.05714285714285714, 0.05, 'squared_error = 0.0\\nsamples = 1\\nvalue = 178.83'),\n",
       " Text(0.17142857142857143, 0.05, 'squared_error = -0.0\\nsamples = 1\\nvalue = 151.03'),\n",
       " Text(0.22857142857142856, 0.15, 'squared_error = -0.0\\nsamples = 1\\nvalue = 99.47'),\n",
       " Text(0.4, 0.25, 'X[3] <= 1.0\\nsquared_error = 30.139\\nsamples = 3\\nvalue = 204.51'),\n",
       " Text(0.34285714285714286, 0.15, 'X[8] <= 3.5\\nsquared_error = 16.565\\nsamples = 2\\nvalue = 207.6'),\n",
       " Text(0.2857142857142857, 0.05, 'squared_error = 0.0\\nsamples = 1\\nvalue = 211.67'),\n",
       " Text(0.4, 0.05, 'squared_error = -0.0\\nsamples = 1\\nvalue = 203.53'),\n",
       " Text(0.45714285714285713, 0.15, 'squared_error = 0.0\\nsamples = 1\\nvalue = 198.33'),\n",
       " Text(0.5714285714285714, 0.35, 'X[2] <= 507.0\\nsquared_error = 346.07\\nsamples = 4\\nvalue = 136.032'),\n",
       " Text(0.5142857142857142, 0.25, 'squared_error = 0.0\\nsamples = 1\\nvalue = 107.13'),\n",
       " Text(0.6285714285714286, 0.25, 'X[2] <= 907.0\\nsquared_error = 90.158\\nsamples = 3\\nvalue = 145.667'),\n",
       " Text(0.5714285714285714, 0.15, 'X[3] <= 0.5\\nsquared_error = 23.668\\nsamples = 2\\nvalue = 151.765'),\n",
       " Text(0.5142857142857142, 0.05, 'squared_error = 0.0\\nsamples = 1\\nvalue = 146.9'),\n",
       " Text(0.6285714285714286, 0.05, 'squared_error = 0.0\\nsamples = 1\\nvalue = 156.63'),\n",
       " Text(0.6857142857142857, 0.15, 'squared_error = -0.0\\nsamples = 1\\nvalue = 133.47'),\n",
       " Text(0.6, 0.55, 'X[8] <= 6.0\\nsquared_error = 286.794\\nsamples = 2\\nvalue = 79.265'),\n",
       " Text(0.5428571428571428, 0.45, 'squared_error = 0.0\\nsamples = 1\\nvalue = 62.33'),\n",
       " Text(0.6571428571428571, 0.45, 'squared_error = 0.0\\nsamples = 1\\nvalue = 96.2'),\n",
       " Text(0.7714285714285715, 0.65, 'X[4] <= 11.5\\nsquared_error = 11212.044\\nsamples = 4\\nvalue = 221.968'),\n",
       " Text(0.7142857142857143, 0.55, 'squared_error = 0.0\\nsamples = 1\\nvalue = 400.2'),\n",
       " Text(0.8285714285714286, 0.55, 'X[0] <= 253.865\\nsquared_error = 830.802\\nsamples = 3\\nvalue = 162.557'),\n",
       " Text(0.7714285714285715, 0.45, 'squared_error = 0.0\\nsamples = 1\\nvalue = 203.17'),\n",
       " Text(0.8857142857142857, 0.45, 'X[7] <= 0.5\\nsquared_error = 9.12\\nsamples = 2\\nvalue = 142.25'),\n",
       " Text(0.8285714285714286, 0.35, 'squared_error = 0.0\\nsamples = 1\\nvalue = 139.23'),\n",
       " Text(0.9428571428571428, 0.35, 'squared_error = 0.0\\nsamples = 1\\nvalue = 145.27'),\n",
       " Text(0.5482142857142858, 0.85, 'squared_error = 0.0\\nsamples = 1\\nvalue = 419.37')]"
      ]
     },
     "execution_count": 345,
     "metadata": {},
     "output_type": "execute_result"
    },
    {
     "data": {
      "image/png": "[encoded data removed]",
      "text/plain": [
       "<Figure size 432x288 with 1 Axes>"
      ]
     },
     "metadata": {
      "needs_background": "light"
     },
     "output_type": "display_data"
    }
   ],
   "source": [
    "#code decision tree for the  rb players\n",
    "print(\"\\n\\n\\nrb players\")       \n",
    "dt = tree.DecisionTreeRegressor(random_state = 13)\n",
    "dt.fit(x_rb_train, y_rb_train)\n",
    "dt_predict = dt.predict(x_rb_test)\n",
    "print('cross val for test set')\n",
    "dt_score=np.mean(cross_val_score(dt, x_rb,y_rb, cv=5))\n",
    "print(\"dt score\", dt_score)\n",
    "print('MSE for test set')\n",
    "print('MSE: dt ', mean_squared_error(dt_predict, y_rb_test))\n",
    "print('R2: dt ', r2_score(dt_predict, y_rb_test))\n",
    "print('MAE: dt ', mean_absolute_error(dt_predict, y_rb_test))\n",
    "print('RMSE: dt ', np.sqrt(mean_squared_error(dt_predict, y_rb_test)))\n",
    "\n",
    "tree.plot_tree(dt)\n"
   ]
  },
  {
   "cell_type": "code",
   "execution_count": 346,
   "metadata": {},
   "outputs": [
    {
     "name": "stdout",
     "output_type": "stream",
     "text": [
      "\n",
      "\n",
      "\n",
      "qb players\n",
      "cross val for test set\n",
      "dt score -24.498545269947947\n",
      "MSE for test set\n",
      "MSE: dt  3053.891216733367\n",
      "R2: dt  -0.7826953997894741\n",
      "MAE: dt  49.229996666666665\n",
      "RMSE: dt  55.26202327759423\n"
     ]
    },
    {
     "data": {
      "text/plain": [
       "[Text(0.4444444444444444, 0.9, 'X[4] <= 0.5\\nsquared_error = 5229.833\\nsamples = 6\\nvalue = 268.66'),\n",
       " Text(0.3333333333333333, 0.7, 'squared_error = 0.0\\nsamples = 1\\nvalue = 147.1'),\n",
       " Text(0.5555555555555556, 0.7, 'X[5] <= 11.5\\nsquared_error = 2729.36\\nsamples = 5\\nvalue = 292.972'),\n",
       " Text(0.3333333333333333, 0.5, 'X[5] <= 7.5\\nsquared_error = 791.802\\nsamples = 3\\nvalue = 318.68'),\n",
       " Text(0.2222222222222222, 0.3, 'X[0] <= 149.5\\nsquared_error = 214.623\\nsamples = 2\\nvalue = 300.67'),\n",
       " Text(0.1111111111111111, 0.1, 'squared_error = 0.0\\nsamples = 1\\nvalue = 315.32'),\n",
       " Text(0.3333333333333333, 0.1, 'squared_error = 0.0\\nsamples = 1\\nvalue = 286.02'),\n",
       " Text(0.4444444444444444, 0.3, 'squared_error = 0.0\\nsamples = 1\\nvalue = 354.7'),\n",
       " Text(0.7777777777777778, 0.5, 'X[5] <= 15.5\\nsquared_error = 3157.317\\nsamples = 2\\nvalue = 254.41'),\n",
       " Text(0.6666666666666666, 0.3, 'squared_error = 0.0\\nsamples = 1\\nvalue = 198.22'),\n",
       " Text(0.8888888888888888, 0.3, 'squared_error = 0.0\\nsamples = 1\\nvalue = 310.6')]"
      ]
     },
     "execution_count": 346,
     "metadata": {},
     "output_type": "execute_result"
    },
    {
     "data": {
      "image/png": "[encoded data removed]",
      "text/plain": [
       "<Figure size 432x288 with 1 Axes>"
      ]
     },
     "metadata": {
      "needs_background": "light"
     },
     "output_type": "display_data"
    }
   ],
   "source": [
    "#code decision tree for the  qb players\n",
    "print(\"\\n\\n\\nqb players\")       \n",
    "dt = tree.DecisionTreeRegressor(random_state = 13)\n",
    "dt.fit(x_qb_train, y_qb_train)\n",
    "dt_predict = dt.predict(x_qb_test)\n",
    "print('cross val for test set')\n",
    "dt_score=np.mean(cross_val_score(dt, x_qb,y_qb, cv=2))\n",
    "print(\"dt score\", dt_score)\n",
    "print('MSE for test set')\n",
    "print('MSE: dt ', mean_squared_error(dt_predict, y_qb_test))\n",
    "print('R2: dt ', r2_score(dt_predict, y_qb_test))\n",
    "print('MAE: dt ', mean_absolute_error(dt_predict, y_qb_test))\n",
    "print('RMSE: dt ', np.sqrt(mean_squared_error(dt_predict, y_qb_test)))\n",
    "\n",
    "tree.plot_tree(dt)\n",
    "\n"
   ]
  }
 ],
 "metadata": {
  "kernelspec": {
   "display_name": "Python 3.9.13 64-bit (microsoft store)",
   "language": "python",
   "name": "python3"
  },
  "language_info": {
   "codemirror_mode": {
    "name": "ipython",
    "version": 3
   },
   "file_extension": ".py",
   "mimetype": "text/x-python",
   "name": "python",
   "nbconvert_exporter": "python",
   "pygments_lexer": "ipython3",
   "version": "3.9.13"
  },
  "orig_nbformat": 4,
  "vscode": {
   "interpreter": {
    "hash": "6841d6b53948b2b3f5a2a070ae2796064378a6a3debb8996012f9b4dfd2cbe47"
   }
  }
 },
 "nbformat": 4,
 "nbformat_minor": 2
}
