{
 "cells": [
  {
   "cell_type": "code",
   "execution_count": 8,
   "metadata": {
    "collapsed": true
   },
   "outputs": [],
   "source": [
    "import numpy as np\n",
    "import pandas as pd\n",
    "from sklearn.linear_model import LinearRegression\n",
    "from sklearn.model_selection import cross_val_score\n",
    "from sklearn.preprocessing import PolynomialFeatures"
   ]
  },
  {
   "cell_type": "code",
   "execution_count": 9,
   "metadata": {
    "collapsed": false
   },
   "outputs": [],
   "source": [
    "def fit_model(x, y, x_labels, max_degrees, test_proportion=0.25):\n",
    "    # train test split not necessary because cross_val_scores uses k-fold validation\n",
    "    best_degree = 1\n",
    "    model = LinearRegression()\n",
    "    mean_score = -9e9\n",
    "    for d in range(1, max_degrees + 1):\n",
    "        if d == 1:\n",
    "            p_x = x\n",
    "        else:\n",
    "            p_features = PolynomialFeatures(degree=d)\n",
    "            p_x = p_features.fit_transform(x)\n",
    "        scores = cross_val_score(model, p_x, y, cv=10)\n",
    "        new_mean = np.mean(scores)\n",
    "        print(f'Score of {d}-degree model: {new_mean}')\n",
    "        if new_mean < mean_score:\n",
    "            p_features = PolynomialFeatures(degree=d - 1)\n",
    "            p_x = p_features.fit_transform(x)\n",
    "            labels = p_features.get_feature_names_out(x_labels)\n",
    "            print(f'Best model has {best_degree} degrees, returning\\n')\n",
    "            return model, best_degree, labels, p_x, y\n",
    "        else:\n",
    "            mean_score = new_mean\n",
    "            best_degree = d\n",
    "            model.fit(p_x, y)\n",
    "            print(f'Coefficients: {model.coef_}')\n",
    "\n",
    "\n",
    "def get_equation(x, y, labels, max_degrees, tolerance=1e-2, test_proportion=0.25) -> dict:\n",
    "    model, _, feature_labels, _, _ = fit_model(x, y, labels, max_degrees, test_proportion=test_proportion)\n",
    "    feature_labels = feature_labels[model.coef_ > tolerance]\n",
    "    coefs = model.coef_[model.coef_ > tolerance]\n",
    "    equation_dict = {}\n",
    "    print(f'Equation:')\n",
    "    for i in range(len(coefs[:-1])):\n",
    "        print(f'{round(coefs[i], 2)}{feature_labels[i]}', end=' + ')\n",
    "        equation_dict[coefs[i]] = feature_labels[i]\n",
    "    print(f'{round(coefs[-1], 2)}{feature_labels[-1]}')\n",
    "    equation_dict[coefs[-1]] = feature_labels[-1]\n",
    "    return equation_dict"
   ]
  },
  {
   "cell_type": "code",
   "execution_count": 10,
   "metadata": {
    "collapsed": false
   },
   "outputs": [
    {
     "name": "stdout",
     "output_type": "stream",
     "text": [
      "            x1          x2          x3  x4         x5  train           y\n",
      "0   -99.551155 -133.218630 -1198.56910   0   0.000000      1  3380.71610\n",
      "1  -180.243940 -147.405440 -1450.67760   0   0.000000      1  4018.73290\n",
      "2   122.136280 -107.456430   283.78690   0   0.000000      1  -613.12384\n",
      "3   -28.301346   36.367268   580.37982   1   0.000000      1  1097.56800\n",
      "4   125.517690  -49.982388   730.12872   1 -77.617165      1  1306.41890\n",
      "..         ...         ...         ...  ..        ...    ...         ...\n",
      "95   99.546051   88.671188   113.14629   0 -12.639590      1  -211.31779\n",
      "96  126.946690  -99.317421  2365.04420   0 -80.305984      1 -7251.75100\n",
      "97  -81.563179    1.796087 -1503.62920   1   0.000000      1 -3206.00590\n",
      "98  -13.232832  -12.581193  -510.46417   0   0.000000      1  1511.17150\n",
      "99   39.381275  -90.421219  1562.74020   0   0.000000      1 -4614.83590\n",
      "\n",
      "[100 rows x 7 columns]\n",
      "                x1          x2           x3          x4          x5  \\\n",
      "count   277.000000  277.000000   277.000000  277.000000  277.000000   \n",
      "mean    -27.100527  -19.139597   104.186919    0.357401  -20.794985   \n",
      "std     609.832620  102.445197  1028.155514    0.480102   39.701123   \n",
      "min   -9999.000000 -286.343050 -2838.069300    0.000000 -188.637150   \n",
      "25%     -61.044746  -86.558517  -551.823850    0.000000  -36.172554   \n",
      "50%       7.100893  -12.620237   102.547520    0.000000    0.000000   \n",
      "75%      82.980598   47.833904   804.191410    1.000000    0.000000   \n",
      "max     263.999080  272.811490  2940.537800    1.000000   52.763409   \n",
      "\n",
      "            train            y  \n",
      "count  277.000000   277.000000  \n",
      "mean     0.996390  -252.757851  \n",
      "std      0.060084  2798.905854  \n",
      "min      0.000000 -8847.743200  \n",
      "25%      1.000000 -2044.081100  \n",
      "50%      1.000000  -256.244750  \n",
      "75%      1.000000  1511.171500  \n",
      "max      1.000000  8463.665000  \n",
      "               x1          x2           x3          x4          x5  train  \\\n",
      "count  275.000000  275.000000   275.000000  275.000000  275.000000  275.0   \n",
      "mean     8.923713  -19.241783    96.038592    0.360000  -20.900405    1.0   \n",
      "std    101.868186  102.189924  1026.971555    0.480875   39.822727    0.0   \n",
      "min   -264.211980 -286.343050 -2838.069300    0.000000 -188.637150    1.0   \n",
      "25%    -60.963022  -86.023174  -560.082520    0.000000  -38.333714    1.0   \n",
      "50%      7.100893  -12.620237    97.507912    0.000000    0.000000    1.0   \n",
      "75%     83.025585   44.409153   771.136780    1.000000    0.000000    1.0   \n",
      "max    263.999080  272.811490  2940.537800    1.000000   52.763409    1.0   \n",
      "\n",
      "                 y  \n",
      "count   275.000000  \n",
      "mean   -227.455174  \n",
      "std    2791.501510  \n",
      "min   -8847.743200  \n",
      "25%   -2030.988000  \n",
      "50%    -254.150120  \n",
      "75%    1520.790500  \n",
      "max    8463.665000  \n"
     ]
    }
   ],
   "source": [
    "data = pd.read_csv('data.csv')\n",
    "print(data.head(100))\n",
    "print(data.describe())\n",
    "data.dropna()\n",
    "data = data[data.x1 != -9999]\n",
    "data = data[data.train == 1]\n",
    "# d1 = d1[d1.x5 != 0]\n",
    "print(data.describe())"
   ]
  },
  {
   "cell_type": "code",
   "execution_count": 11,
   "metadata": {
    "collapsed": false
   },
   "outputs": [
    {
     "name": "stdout",
     "output_type": "stream",
     "text": [
      "Score of 1-degree model: 0.14101940148052367\n",
      "Coefficients: [  2.65403109   1.64178089  -1.32318228 467.93836321   8.22218225]\n",
      "Score of 2-degree model: 0.9999297867189878\n",
      "Coefficients: [ 0.00000000e+00  1.99927257e+00  5.91044677e-03 -3.00179687e+00\n",
      " -5.68664220e+00  5.08618782e+00 -1.09717671e-04 -8.71451926e-05\n",
      " -1.24879211e-05 -3.00216858e-02 -9.24880153e-04  1.47344141e-04\n",
      " -3.55764835e-07 -3.37094761e-02 -5.69390534e-05  9.94054215e-07\n",
      "  5.00595453e+00  3.03272395e-05 -5.68664220e+00 -1.91575566e-01\n",
      "  4.92005446e-05]\n",
      "Score of 3-degree model: 0.999788318314114\n",
      "Best model has 2 degrees, returning\n",
      "\n",
      "Equation:\n",
      "2.0x1 + 5.09x5 + 5.01x3 x4\n"
     ]
    }
   ],
   "source": [
    "x_labels = ['x1', 'x2', 'x3', 'x4', 'x5']\n",
    "x = data[x_labels]\n",
    "y = data.y\n",
    "equation_values = get_equation(x, y, x_labels, 3)"
   ]
  }
 ],
 "metadata": {
  "kernelspec": {
   "display_name": "Python 3.10.5 64-bit",
   "language": "python",
   "name": "python3"
  },
  "language_info": {
   "codemirror_mode": {
    "name": "ipython",
    "version": 3
   },
   "file_extension": ".py",
   "mimetype": "text/x-python",
   "name": "python",
   "nbconvert_exporter": "python",
   "pygments_lexer": "ipython3",
   "version": "3.10.5"
  },
  "vscode": {
   "interpreter": {
    "hash": "aee8b7b246df8f9039afb4144a1f6fd8d2ca17a180786b69acc140d282b71a49"
   }
  }
 },
 "nbformat": 4,
 "nbformat_minor": 0
}
