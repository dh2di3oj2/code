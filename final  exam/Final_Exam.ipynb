{
  "cells": [
    {
      "attachments": {},
      "cell_type": "markdown",
      "metadata": {},
      "source": [
        "# Nimaye Garodia ML Final (Data Problem)\n"
      ]
    },
    {
      "attachments": {},
      "cell_type": "markdown",
      "metadata": {},
      "source": [
        "Importing the required packages and the data. I noticed that the columns country, region_wb and gdp were inappropriate to include. This is because country and region_wb are qualitative, which makes them hard to work with while GDP has a lot of missingness. If we include GDP, our data will be shortened to very few rows due to the large presence of missingness - therefore, I eliminated these columns from the predictors list.\n"
      ]
    },
    {
      "attachments": {},
      "cell_type": "markdown",
      "metadata": {},
      "source": [
        "# Descriptives and Naive Model\n"
      ]
    },
    {
      "cell_type": "code",
      "execution_count": 74,
      "metadata": {
        "colab": {
          "base_uri": "https://localhost:8080/"
        },
        "id": "T2ARm3d5s318",
        "outputId": "f3efd0cd-1a76-45ed-d923-98657ed738fa"
      },
      "outputs": [
        {
          "name": "stdout",
          "output_type": "stream",
          "text": [
            "122\n"
          ]
        },
        {
          "data": {
            "text/html": [
              "<div>\n",
              "<style scoped>\n",
              "    .dataframe tbody tr th:only-of-type {\n",
              "        vertical-align: middle;\n",
              "    }\n",
              "\n",
              "    .dataframe tbody tr th {\n",
              "        vertical-align: top;\n",
              "    }\n",
              "\n",
              "    .dataframe thead th {\n",
              "        text-align: right;\n",
              "    }\n",
              "</style>\n",
              "<table border=\"1\" class=\"dataframe\">\n",
              "  <thead>\n",
              "    <tr style=\"text-align: right;\">\n",
              "      <th></th>\n",
              "      <th>country</th>\n",
              "      <th>federalism_GT</th>\n",
              "      <th>id</th>\n",
              "      <th>region_wb</th>\n",
              "      <th>gdp</th>\n",
              "      <th>statehiste1500_02n</th>\n",
              "      <th>origtime2</th>\n",
              "      <th>eleva</th>\n",
              "      <th>avg_temp</th>\n",
              "      <th>Maddison_gdppc_1990_estimate_ln</th>\n",
              "      <th>...</th>\n",
              "      <th>sd_emeanclip</th>\n",
              "      <th>Urbanpopulationoftotalpop</th>\n",
              "      <th>dist2suitable_km_new</th>\n",
              "      <th>Ygini_disp</th>\n",
              "      <th>Fixedtelephonesubscriptionsp</th>\n",
              "      <th>Employmentinagricultureof</th>\n",
              "      <th>Accesstoelectricityofpopu</th>\n",
              "      <th>pln_sxHr_mean</th>\n",
              "      <th>agyears_ext</th>\n",
              "      <th>popd_1500AD</th>\n",
              "    </tr>\n",
              "  </thead>\n",
              "  <tbody>\n",
              "    <tr>\n",
              "      <th>0</th>\n",
              "      <td>Mexico</td>\n",
              "      <td>2.0</td>\n",
              "      <td>NaN</td>\n",
              "      <td>NaN</td>\n",
              "      <td>NaN</td>\n",
              "      <td>0.311557</td>\n",
              "      <td>15000.0</td>\n",
              "      <td>1076.740352</td>\n",
              "      <td>21.6</td>\n",
              "      <td>9.079312</td>\n",
              "      <td>...</td>\n",
              "      <td>0.776437</td>\n",
              "      <td>76.920</td>\n",
              "      <td>191207.98</td>\n",
              "      <td>46.400002</td>\n",
              "      <td>18.318046</td>\n",
              "      <td>13.790000</td>\n",
              "      <td>98.110626</td>\n",
              "      <td>2626.828031</td>\n",
              "      <td>4100.0</td>\n",
              "      <td>12.078997</td>\n",
              "    </tr>\n",
              "    <tr>\n",
              "      <th>1</th>\n",
              "      <td>Sweden</td>\n",
              "      <td>0.0</td>\n",
              "      <td>17568.0</td>\n",
              "      <td>Europe and Central Asia</td>\n",
              "      <td>49296.81030</td>\n",
              "      <td>0.124440</td>\n",
              "      <td>8000.0</td>\n",
              "      <td>359.346328</td>\n",
              "      <td>3.6</td>\n",
              "      <td>10.248469</td>\n",
              "      <td>...</td>\n",
              "      <td>0.248912</td>\n",
              "      <td>84.588</td>\n",
              "      <td>108188.94</td>\n",
              "      <td>25.000000</td>\n",
              "      <td>60.024409</td>\n",
              "      <td>2.250000</td>\n",
              "      <td>100.000000</td>\n",
              "      <td>0.000000</td>\n",
              "      <td>5500.0</td>\n",
              "      <td>0.842480</td>\n",
              "    </tr>\n",
              "    <tr>\n",
              "      <th>2</th>\n",
              "      <td>Switzerland</td>\n",
              "      <td>2.0</td>\n",
              "      <td>17777.0</td>\n",
              "      <td>Europe and Central Asia</td>\n",
              "      <td>64943.53591</td>\n",
              "      <td>0.358282</td>\n",
              "      <td>45000.0</td>\n",
              "      <td>1317.581088</td>\n",
              "      <td>7.0</td>\n",
              "      <td>10.436217</td>\n",
              "      <td>...</td>\n",
              "      <td>0.625552</td>\n",
              "      <td>73.530</td>\n",
              "      <td>358067.16</td>\n",
              "      <td>29.900000</td>\n",
              "      <td>65.373435</td>\n",
              "      <td>4.000000</td>\n",
              "      <td>100.000000</td>\n",
              "      <td>877.940256</td>\n",
              "      <td>5500.0</td>\n",
              "      <td>19.928775</td>\n",
              "    </tr>\n",
              "    <tr>\n",
              "      <th>3</th>\n",
              "      <td>Ghana</td>\n",
              "      <td>0.0</td>\n",
              "      <td>NaN</td>\n",
              "      <td>NaN</td>\n",
              "      <td>NaN</td>\n",
              "      <td>0.082024</td>\n",
              "      <td>135000.0</td>\n",
              "      <td>208.329245</td>\n",
              "      <td>27.6</td>\n",
              "      <td>7.401412</td>\n",
              "      <td>...</td>\n",
              "      <td>0.074167</td>\n",
              "      <td>48.669</td>\n",
              "      <td>351368.59</td>\n",
              "      <td>43.000000</td>\n",
              "      <td>1.639566</td>\n",
              "      <td>53.939999</td>\n",
              "      <td>56.975372</td>\n",
              "      <td>6889.873359</td>\n",
              "      <td>3500.0</td>\n",
              "      <td>7.670432</td>\n",
              "    </tr>\n",
              "    <tr>\n",
              "      <th>4</th>\n",
              "      <td>South Africa</td>\n",
              "      <td>1.0</td>\n",
              "      <td>NaN</td>\n",
              "      <td>NaN</td>\n",
              "      <td>NaN</td>\n",
              "      <td>0.000000</td>\n",
              "      <td>135000.0</td>\n",
              "      <td>1059.070030</td>\n",
              "      <td>18.5</td>\n",
              "      <td>8.761950</td>\n",
              "      <td>...</td>\n",
              "      <td>0.441714</td>\n",
              "      <td>60.616</td>\n",
              "      <td>368782.00</td>\n",
              "      <td>63.500000</td>\n",
              "      <td>9.938974</td>\n",
              "      <td>6.010000</td>\n",
              "      <td>82.000000</td>\n",
              "      <td>2711.073385</td>\n",
              "      <td>1700.0</td>\n",
              "      <td>0.132444</td>\n",
              "    </tr>\n",
              "  </tbody>\n",
              "</table>\n",
              "<p>5 rows × 28 columns</p>\n",
              "</div>"
            ],
            "text/plain": [
              "        country  federalism_GT       id                region_wb          gdp  \\\n",
              "0        Mexico            2.0      NaN                      NaN          NaN   \n",
              "1        Sweden            0.0  17568.0  Europe and Central Asia  49296.81030   \n",
              "2   Switzerland            2.0  17777.0  Europe and Central Asia  64943.53591   \n",
              "3         Ghana            0.0      NaN                      NaN          NaN   \n",
              "4  South Africa            1.0      NaN                      NaN          NaN   \n",
              "\n",
              "   statehiste1500_02n  origtime2        eleva  avg_temp  \\\n",
              "0            0.311557    15000.0  1076.740352      21.6   \n",
              "1            0.124440     8000.0   359.346328       3.6   \n",
              "2            0.358282    45000.0  1317.581088       7.0   \n",
              "3            0.082024   135000.0   208.329245      27.6   \n",
              "4            0.000000   135000.0  1059.070030      18.5   \n",
              "\n",
              "   Maddison_gdppc_1990_estimate_ln  ...  sd_emeanclip  \\\n",
              "0                         9.079312  ...      0.776437   \n",
              "1                        10.248469  ...      0.248912   \n",
              "2                        10.436217  ...      0.625552   \n",
              "3                         7.401412  ...      0.074167   \n",
              "4                         8.761950  ...      0.441714   \n",
              "\n",
              "   Urbanpopulationoftotalpop  dist2suitable_km_new  Ygini_disp  \\\n",
              "0                     76.920             191207.98   46.400002   \n",
              "1                     84.588             108188.94   25.000000   \n",
              "2                     73.530             358067.16   29.900000   \n",
              "3                     48.669             351368.59   43.000000   \n",
              "4                     60.616             368782.00   63.500000   \n",
              "\n",
              "   Fixedtelephonesubscriptionsp  Employmentinagricultureof  \\\n",
              "0                     18.318046                  13.790000   \n",
              "1                     60.024409                   2.250000   \n",
              "2                     65.373435                   4.000000   \n",
              "3                      1.639566                  53.939999   \n",
              "4                      9.938974                   6.010000   \n",
              "\n",
              "   Accesstoelectricityofpopu  pln_sxHr_mean  agyears_ext  popd_1500AD  \n",
              "0                  98.110626    2626.828031       4100.0    12.078997  \n",
              "1                 100.000000       0.000000       5500.0     0.842480  \n",
              "2                 100.000000     877.940256       5500.0    19.928775  \n",
              "3                  56.975372    6889.873359       3500.0     7.670432  \n",
              "4                  82.000000    2711.073385       1700.0     0.132444  \n",
              "\n",
              "[5 rows x 28 columns]"
            ]
          },
          "execution_count": 74,
          "metadata": {},
          "output_type": "execute_result"
        }
      ],
      "source": [
        "import pandas as pd\n",
        "import matplotlib.pyplot as plt\n",
        "import numpy as np\n",
        "from sklearn.preprocessing import StandardScaler\n",
        "from sklearn.decomposition import PCA\n",
        "from sklearn.model_selection import train_test_split, cross_val_score\n",
        "from sklearn.linear_model import LinearRegression, LogisticRegression, Ridge, Lasso\n",
        "from sklearn.preprocessing import PolynomialFeatures\n",
        "from sklearn.metrics import mean_squared_error, r2_score\n",
        "from sklearn import tree\n",
        "from sklearn.tree import DecisionTreeRegressor\n",
        "from sklearn.ensemble import RandomForestRegressor\n",
        "\n",
        "df = pd.read_csv(\"inequality_class_final.csv\")\n",
        "predictors = [\n",
        "    \"federalism_GT\",\n",
        "    \"statehiste1500_02n\",\n",
        "    \"origtime2\",\n",
        "    \"eleva\",\n",
        "    \"avg_temp\",\n",
        "    \"Maddison_gdppc_1990_estimate_ln\",\n",
        "    \"lp_lat_abst_fill\",\n",
        "    \"mountains\",\n",
        "    \"log_ocdistance_new\",\n",
        "    \"rugged\",\n",
        "    \"tropical\",\n",
        "    \"pmean\",\n",
        "    \"irri_impact5\",\n",
        "    \"frstdays\",\n",
        "    \"sd_emeanclip\",\n",
        "    \"Urbanpopulationoftotalpop\",\n",
        "    \"Fixedtelephonesubscriptionsp\",\n",
        "    \"dist2suitable_km_new\",\n",
        "    \"Employmentinagricultureof\",\n",
        "    \"Accesstoelectricityofpopu\",\n",
        "    \"pln_sxHr_mean\",\n",
        "    \"agyears_ext\",\n",
        "    \"popd_1500AD\",\n",
        "]\n",
        "df.dropna(subset=predictors, inplace=True)\n",
        "df.dropna(subset=[\"Ygini_disp\"],inplace=True)\n",
        "df.reset_index(drop=True, inplace=True)\n",
        "print(len(df))\n",
        "df.head()\n"
      ]
    },
    {
      "attachments": {},
      "cell_type": "markdown",
      "metadata": {},
      "source": [
        "Despite dropping all missing rows, we have 122 rows to work with. Now, we run descriptives and learn more about our data.\n"
      ]
    },
    {
      "cell_type": "code",
      "execution_count": 75,
      "metadata": {},
      "outputs": [
        {
          "data": {
            "text/html": [
              "<div>\n",
              "<style scoped>\n",
              "    .dataframe tbody tr th:only-of-type {\n",
              "        vertical-align: middle;\n",
              "    }\n",
              "\n",
              "    .dataframe tbody tr th {\n",
              "        vertical-align: top;\n",
              "    }\n",
              "\n",
              "    .dataframe thead th {\n",
              "        text-align: right;\n",
              "    }\n",
              "</style>\n",
              "<table border=\"1\" class=\"dataframe\">\n",
              "  <thead>\n",
              "    <tr style=\"text-align: right;\">\n",
              "      <th></th>\n",
              "      <th>federalism_GT</th>\n",
              "      <th>id</th>\n",
              "      <th>gdp</th>\n",
              "      <th>statehiste1500_02n</th>\n",
              "      <th>origtime2</th>\n",
              "      <th>eleva</th>\n",
              "      <th>avg_temp</th>\n",
              "      <th>Maddison_gdppc_1990_estimate_ln</th>\n",
              "      <th>lp_lat_abst_fill</th>\n",
              "      <th>mountains</th>\n",
              "      <th>...</th>\n",
              "      <th>sd_emeanclip</th>\n",
              "      <th>Urbanpopulationoftotalpop</th>\n",
              "      <th>dist2suitable_km_new</th>\n",
              "      <th>Ygini_disp</th>\n",
              "      <th>Fixedtelephonesubscriptionsp</th>\n",
              "      <th>Employmentinagricultureof</th>\n",
              "      <th>Accesstoelectricityofpopu</th>\n",
              "      <th>pln_sxHr_mean</th>\n",
              "      <th>agyears_ext</th>\n",
              "      <th>popd_1500AD</th>\n",
              "    </tr>\n",
              "  </thead>\n",
              "  <tbody>\n",
              "    <tr>\n",
              "      <th>count</th>\n",
              "      <td>122.000000</td>\n",
              "      <td>52.000000</td>\n",
              "      <td>52.000000</td>\n",
              "      <td>122.000000</td>\n",
              "      <td>122.000000</td>\n",
              "      <td>122.000000</td>\n",
              "      <td>122.000000</td>\n",
              "      <td>122.000000</td>\n",
              "      <td>122.000000</td>\n",
              "      <td>122.000000</td>\n",
              "      <td>...</td>\n",
              "      <td>122.000000</td>\n",
              "      <td>122.000000</td>\n",
              "      <td>1.220000e+02</td>\n",
              "      <td>122.000000</td>\n",
              "      <td>122.000000</td>\n",
              "      <td>122.000000</td>\n",
              "      <td>122.000000</td>\n",
              "      <td>122.000000</td>\n",
              "      <td>122.000000</td>\n",
              "      <td>122.000000</td>\n",
              "    </tr>\n",
              "    <tr>\n",
              "      <th>mean</th>\n",
              "      <td>0.319672</td>\n",
              "      <td>10619.615385</td>\n",
              "      <td>21233.999568</td>\n",
              "      <td>0.196417</td>\n",
              "      <td>61610.655738</td>\n",
              "      <td>634.469104</td>\n",
              "      <td>17.935246</td>\n",
              "      <td>8.408562</td>\n",
              "      <td>0.309183</td>\n",
              "      <td>0.281470</td>\n",
              "      <td>...</td>\n",
              "      <td>0.354411</td>\n",
              "      <td>55.013451</td>\n",
              "      <td>4.168017e+05</td>\n",
              "      <td>39.718033</td>\n",
              "      <td>18.343919</td>\n",
              "      <td>31.373443</td>\n",
              "      <td>73.823502</td>\n",
              "      <td>3339.574234</td>\n",
              "      <td>4636.475410</td>\n",
              "      <td>7.143972</td>\n",
              "    </tr>\n",
              "    <tr>\n",
              "      <th>std</th>\n",
              "      <td>0.683530</td>\n",
              "      <td>6396.481628</td>\n",
              "      <td>18085.443459</td>\n",
              "      <td>0.198441</td>\n",
              "      <td>50347.276318</td>\n",
              "      <td>534.702144</td>\n",
              "      <td>8.302842</td>\n",
              "      <td>1.232147</td>\n",
              "      <td>0.197119</td>\n",
              "      <td>0.259719</td>\n",
              "      <td>...</td>\n",
              "      <td>0.364894</td>\n",
              "      <td>22.082611</td>\n",
              "      <td>4.285466e+05</td>\n",
              "      <td>8.841899</td>\n",
              "      <td>18.239155</td>\n",
              "      <td>24.066001</td>\n",
              "      <td>32.828760</td>\n",
              "      <td>2538.951031</td>\n",
              "      <td>2263.892254</td>\n",
              "      <td>10.266141</td>\n",
              "    </tr>\n",
              "    <tr>\n",
              "      <th>min</th>\n",
              "      <td>0.000000</td>\n",
              "      <td>172.000000</td>\n",
              "      <td>1333.422223</td>\n",
              "      <td>0.000000</td>\n",
              "      <td>1200.000000</td>\n",
              "      <td>37.274918</td>\n",
              "      <td>-4.800000</td>\n",
              "      <td>5.586565</td>\n",
              "      <td>0.000000</td>\n",
              "      <td>0.000000</td>\n",
              "      <td>...</td>\n",
              "      <td>0.013036</td>\n",
              "      <td>9.864000</td>\n",
              "      <td>1.903038e+04</td>\n",
              "      <td>23.500000</td>\n",
              "      <td>0.005988</td>\n",
              "      <td>1.120000</td>\n",
              "      <td>3.000000</td>\n",
              "      <td>0.000000</td>\n",
              "      <td>400.000000</td>\n",
              "      <td>0.000040</td>\n",
              "    </tr>\n",
              "    <tr>\n",
              "      <th>25%</th>\n",
              "      <td>0.000000</td>\n",
              "      <td>4685.000000</td>\n",
              "      <td>7860.443405</td>\n",
              "      <td>0.000000</td>\n",
              "      <td>15000.000000</td>\n",
              "      <td>289.364720</td>\n",
              "      <td>10.825000</td>\n",
              "      <td>7.361069</td>\n",
              "      <td>0.144444</td>\n",
              "      <td>0.056920</td>\n",
              "      <td>...</td>\n",
              "      <td>0.146865</td>\n",
              "      <td>38.028250</td>\n",
              "      <td>1.083687e+05</td>\n",
              "      <td>33.075000</td>\n",
              "      <td>1.698312</td>\n",
              "      <td>9.962500</td>\n",
              "      <td>44.400000</td>\n",
              "      <td>910.880115</td>\n",
              "      <td>3025.000000</td>\n",
              "      <td>0.685577</td>\n",
              "    </tr>\n",
              "    <tr>\n",
              "      <th>50%</th>\n",
              "      <td>0.000000</td>\n",
              "      <td>11158.000000</td>\n",
              "      <td>14622.688945</td>\n",
              "      <td>0.136024</td>\n",
              "      <td>45000.000000</td>\n",
              "      <td>471.752943</td>\n",
              "      <td>20.500000</td>\n",
              "      <td>8.514521</td>\n",
              "      <td>0.296111</td>\n",
              "      <td>0.240427</td>\n",
              "      <td>...</td>\n",
              "      <td>0.243218</td>\n",
              "      <td>56.322500</td>\n",
              "      <td>2.768497e+05</td>\n",
              "      <td>40.149999</td>\n",
              "      <td>12.554469</td>\n",
              "      <td>29.570001</td>\n",
              "      <td>96.261115</td>\n",
              "      <td>2892.798305</td>\n",
              "      <td>4000.000000</td>\n",
              "      <td>3.071540</td>\n",
              "    </tr>\n",
              "    <tr>\n",
              "      <th>75%</th>\n",
              "      <td>0.000000</td>\n",
              "      <td>15548.000000</td>\n",
              "      <td>27486.744610</td>\n",
              "      <td>0.361690</td>\n",
              "      <td>135000.000000</td>\n",
              "      <td>788.913089</td>\n",
              "      <td>25.200000</td>\n",
              "      <td>9.337551</td>\n",
              "      <td>0.465569</td>\n",
              "      <td>0.412516</td>\n",
              "      <td>...</td>\n",
              "      <td>0.391784</td>\n",
              "      <td>73.547250</td>\n",
              "      <td>5.380928e+05</td>\n",
              "      <td>45.774999</td>\n",
              "      <td>30.095799</td>\n",
              "      <td>47.220000</td>\n",
              "      <td>100.000000</td>\n",
              "      <td>5658.055473</td>\n",
              "      <td>6375.000000</td>\n",
              "      <td>8.995226</td>\n",
              "    </tr>\n",
              "    <tr>\n",
              "      <th>max</th>\n",
              "      <td>2.000000</td>\n",
              "      <td>20778.000000</td>\n",
              "      <td>64943.535910</td>\n",
              "      <td>0.758315</td>\n",
              "      <td>160000.000000</td>\n",
              "      <td>2983.332166</td>\n",
              "      <td>29.100000</td>\n",
              "      <td>10.671559</td>\n",
              "      <td>0.711111</td>\n",
              "      <td>0.947847</td>\n",
              "      <td>...</td>\n",
              "      <td>1.906438</td>\n",
              "      <td>97.505000</td>\n",
              "      <td>2.076202e+06</td>\n",
              "      <td>66.500000</td>\n",
              "      <td>65.373435</td>\n",
              "      <td>89.529999</td>\n",
              "      <td>100.000000</td>\n",
              "      <td>7811.984733</td>\n",
              "      <td>10500.000000</td>\n",
              "      <td>69.302113</td>\n",
              "    </tr>\n",
              "  </tbody>\n",
              "</table>\n",
              "<p>8 rows × 26 columns</p>\n",
              "</div>"
            ],
            "text/plain": [
              "       federalism_GT            id           gdp  statehiste1500_02n  \\\n",
              "count     122.000000     52.000000     52.000000          122.000000   \n",
              "mean        0.319672  10619.615385  21233.999568            0.196417   \n",
              "std         0.683530   6396.481628  18085.443459            0.198441   \n",
              "min         0.000000    172.000000   1333.422223            0.000000   \n",
              "25%         0.000000   4685.000000   7860.443405            0.000000   \n",
              "50%         0.000000  11158.000000  14622.688945            0.136024   \n",
              "75%         0.000000  15548.000000  27486.744610            0.361690   \n",
              "max         2.000000  20778.000000  64943.535910            0.758315   \n",
              "\n",
              "           origtime2        eleva    avg_temp  \\\n",
              "count     122.000000   122.000000  122.000000   \n",
              "mean    61610.655738   634.469104   17.935246   \n",
              "std     50347.276318   534.702144    8.302842   \n",
              "min      1200.000000    37.274918   -4.800000   \n",
              "25%     15000.000000   289.364720   10.825000   \n",
              "50%     45000.000000   471.752943   20.500000   \n",
              "75%    135000.000000   788.913089   25.200000   \n",
              "max    160000.000000  2983.332166   29.100000   \n",
              "\n",
              "       Maddison_gdppc_1990_estimate_ln  lp_lat_abst_fill   mountains  ...  \\\n",
              "count                       122.000000        122.000000  122.000000  ...   \n",
              "mean                          8.408562          0.309183    0.281470  ...   \n",
              "std                           1.232147          0.197119    0.259719  ...   \n",
              "min                           5.586565          0.000000    0.000000  ...   \n",
              "25%                           7.361069          0.144444    0.056920  ...   \n",
              "50%                           8.514521          0.296111    0.240427  ...   \n",
              "75%                           9.337551          0.465569    0.412516  ...   \n",
              "max                          10.671559          0.711111    0.947847  ...   \n",
              "\n",
              "       sd_emeanclip  Urbanpopulationoftotalpop  dist2suitable_km_new  \\\n",
              "count    122.000000                 122.000000          1.220000e+02   \n",
              "mean       0.354411                  55.013451          4.168017e+05   \n",
              "std        0.364894                  22.082611          4.285466e+05   \n",
              "min        0.013036                   9.864000          1.903038e+04   \n",
              "25%        0.146865                  38.028250          1.083687e+05   \n",
              "50%        0.243218                  56.322500          2.768497e+05   \n",
              "75%        0.391784                  73.547250          5.380928e+05   \n",
              "max        1.906438                  97.505000          2.076202e+06   \n",
              "\n",
              "       Ygini_disp  Fixedtelephonesubscriptionsp  Employmentinagricultureof  \\\n",
              "count  122.000000                    122.000000                 122.000000   \n",
              "mean    39.718033                     18.343919                  31.373443   \n",
              "std      8.841899                     18.239155                  24.066001   \n",
              "min     23.500000                      0.005988                   1.120000   \n",
              "25%     33.075000                      1.698312                   9.962500   \n",
              "50%     40.149999                     12.554469                  29.570001   \n",
              "75%     45.774999                     30.095799                  47.220000   \n",
              "max     66.500000                     65.373435                  89.529999   \n",
              "\n",
              "       Accesstoelectricityofpopu  pln_sxHr_mean   agyears_ext  popd_1500AD  \n",
              "count                 122.000000     122.000000    122.000000   122.000000  \n",
              "mean                   73.823502    3339.574234   4636.475410     7.143972  \n",
              "std                    32.828760    2538.951031   2263.892254    10.266141  \n",
              "min                     3.000000       0.000000    400.000000     0.000040  \n",
              "25%                    44.400000     910.880115   3025.000000     0.685577  \n",
              "50%                    96.261115    2892.798305   4000.000000     3.071540  \n",
              "75%                   100.000000    5658.055473   6375.000000     8.995226  \n",
              "max                   100.000000    7811.984733  10500.000000    69.302113  \n",
              "\n",
              "[8 rows x 26 columns]"
            ]
          },
          "execution_count": 75,
          "metadata": {},
          "output_type": "execute_result"
        }
      ],
      "source": [
        "df.describe()\n"
      ]
    },
    {
      "cell_type": "code",
      "execution_count": 76,
      "metadata": {},
      "outputs": [
        {
          "data": {
            "text/plain": [
              "(array([14., 12., 17., 22., 23., 20.,  6.,  4.,  2.,  2.]),\n",
              " array([23.5, 27.8, 32.1, 36.4, 40.7, 45. , 49.3, 53.6, 57.9, 62.2, 66.5]),\n",
              " <BarContainer object of 10 artists>)"
            ]
          },
          "execution_count": 76,
          "metadata": {},
          "output_type": "execute_result"
        },
        {
          "data": {
            "image/png": "[encoded data removed]",
            "text/plain": [
              "<Figure size 432x288 with 1 Axes>"
            ]
          },
          "metadata": {
            "needs_background": "light"
          },
          "output_type": "display_data"
        }
      ],
      "source": [
        "plt.hist(df[\"Ygini_disp\"])\n"
      ]
    },
    {
      "attachments": {},
      "cell_type": "markdown",
      "metadata": {},
      "source": [
        "Even though Y is not normally distributed, it is close enough to use in machine learning. Next, we test the naive model.\n"
      ]
    },
    {
      "cell_type": "code",
      "execution_count": 77,
      "metadata": {
        "colab": {
          "base_uri": "https://localhost:8080/"
        },
        "id": "Autaduz1w3M6",
        "outputId": "5b85693f-4efe-4cf4-c424-97db9d9c68b4"
      },
      "outputs": [
        {
          "name": "stdout",
          "output_type": "stream",
          "text": [
            "77.53836409758301\n"
          ]
        }
      ],
      "source": [
        "mean = df[\"Ygini_disp\"].mean()\n",
        "mse_mean = 0\n",
        "col = df[\"Ygini_disp\"].tolist()\n",
        "for i in range(len(col)):\n",
        "    mse_mean = mse_mean + ((mean - col[i]) ** 2)\n",
        "mse_mean = mse_mean / len(col)\n",
        "print(mse_mean)\n"
      ]
    },
    {
      "attachments": {},
      "cell_type": "markdown",
      "metadata": {},
      "source": [
        "The naive model has a MSE of 77.5, so we only increase the model complexity if it improves on this. Next, we run a PCA analysis on our data because a lot of farming/weather/landscape variables could be collinear, since farming depends on weather and landscape, as well as percentage of urban population (urbanpopulationoftotalpop)\n"
      ]
    },
    {
      "attachments": {},
      "cell_type": "markdown",
      "metadata": {},
      "source": [
        "# PCA\n"
      ]
    },
    {
      "attachments": {},
      "cell_type": "markdown",
      "metadata": {},
      "source": [
        "My theory is that elevation, temperature, latitude, mountains, terrain (rugged), tropical, precipitation, irrigation impact, frost days, variance in elevation, plantation crop suitability and employment in agriculture all are related. This is because they are all similar geographical features that all affect the weather and climatic conditons, which in turn affects the agricultural independent variables.\n"
      ]
    },
    {
      "cell_type": "code",
      "execution_count": 78,
      "metadata": {},
      "outputs": [
        {
          "name": "stdout",
          "output_type": "stream",
          "text": [
            "3\n",
            "[0.42737344 0.24638819 0.1361083 ]\n",
            "['PCA1', 'PCA2', 'PCA3', 'federalism_GT', 'statehiste1500_02n', 'origtime2', 'Maddison_gdppc_1990_estimate_ln', 'log_ocdistance_new', 'Urbanpopulationoftotalpop', 'Fixedtelephonesubscriptionsp', 'dist2suitable_km_new', 'Accesstoelectricityofpopu', 'agyears_ext', 'popd_1500AD']\n",
            "<class 'pandas.core.frame.DataFrame'>\n",
            "RangeIndex: 122 entries, 0 to 121\n",
            "Data columns (total 14 columns):\n",
            " #   Column                           Non-Null Count  Dtype  \n",
            "---  ------                           --------------  -----  \n",
            " 0   PCA1                             122 non-null    float64\n",
            " 1   PCA2                             122 non-null    float64\n",
            " 2   PCA3                             122 non-null    float64\n",
            " 3   federalism_GT                    122 non-null    float64\n",
            " 4   statehiste1500_02n               122 non-null    float64\n",
            " 5   origtime2                        122 non-null    float64\n",
            " 6   Maddison_gdppc_1990_estimate_ln  122 non-null    float64\n",
            " 7   log_ocdistance_new               122 non-null    float64\n",
            " 8   Urbanpopulationoftotalpop        122 non-null    float64\n",
            " 9   Fixedtelephonesubscriptionsp     122 non-null    float64\n",
            " 10  dist2suitable_km_new             122 non-null    float64\n",
            " 11  Accesstoelectricityofpopu        122 non-null    float64\n",
            " 12  agyears_ext                      122 non-null    float64\n",
            " 13  popd_1500AD                      122 non-null    float64\n",
            "dtypes: float64(14)\n",
            "memory usage: 13.5 KB\n"
          ]
        }
      ],
      "source": [
        "scaler = StandardScaler()\n",
        "PCA_predictors = [\n",
        "    \"eleva\",\n",
        "    \"avg_temp\",\n",
        "    \"lp_lat_abst_fill\",\n",
        "    \"mountains\",\n",
        "    \"rugged\",\n",
        "    \"tropical\",\n",
        "    \"pmean\",\n",
        "    \"irri_impact5\",\n",
        "    \"frstdays\",\n",
        "    \"sd_emeanclip\",\n",
        "    \"Employmentinagricultureof\",\n",
        "    \"pln_sxHr_mean\",\n",
        "]\n",
        "X = df[PCA_predictors]\n",
        "X = scaler.fit_transform(X)\n",
        "pca = PCA(n_components=0.8)  # 80% of variance explained of the PCA_predictors\n",
        "X = pca.fit_transform(X)\n",
        "print(pca.n_components_)\n",
        "print(pca.explained_variance_ratio_)\n",
        "X = pd.DataFrame(X)\n",
        "df[\"PCA1\"] = X[0]\n",
        "df[\"PCA2\"] = X[1]\n",
        "df[\"PCA3\"] = X[2]\n",
        "\n",
        "df2 = df[\"Ygini_disp\"]\n",
        "\n",
        "nonPCA_predictors = [ \"PCA1\", \"PCA2\", \"PCA3\"]\n",
        "\n",
        "for predictor in predictors:\n",
        "    if predictor not in PCA_predictors:\n",
        "        nonPCA_predictors.append(predictor)\n",
        "predictors = nonPCA_predictors\n",
        "print(predictors)\n",
        "df = df[predictors]\n",
        "\n",
        "df.info()\n"
      ]
    },
    {
      "attachments": {},
      "cell_type": "markdown",
      "metadata": {},
      "source": [
        "As seen above, the PCA was fairly successful since we were able to reduce the dimensionality of the IVs from 12 IVs to 3 latent spaces, which is a huge reduction. 20% of the variance of the IVs was lost, but this is an acceptable loss since the data is noisy and messy because it is measured in the real world.\n"
      ]
    },
    {
      "attachments": {},
      "cell_type": "markdown",
      "metadata": {},
      "source": [
        "# Linear and Polynomial Models\n"
      ]
    },
    {
      "cell_type": "code",
      "execution_count": 79,
      "metadata": {
        "colab": {
          "base_uri": "https://localhost:8080/"
        },
        "id": "_cwt2zLnxcNA",
        "outputId": "ce0ecee3-c0dd-4aaf-e69f-a87e6fcd8707"
      },
      "outputs": [
        {
          "name": "stdout",
          "output_type": "stream",
          "text": [
            "Linear: 44.20710695363563\n",
            "Degree 2: 948.0866472641765\n",
            "Degree 3: 29352.858959452144\n",
            "Degree 4: 19021816.294400577\n",
            "Degree 5: 3595142365.486253\n",
            "Degree 6: 776680458973.5189\n",
            "0.5988549937302275\n"
          ]
        },
        {
          "data": {
            "image/png": "[encoded data removed]",
            "text/plain": [
              "<Figure size 432x288 with 1 Axes>"
            ]
          },
          "metadata": {
            "needs_background": "light"
          },
          "output_type": "display_data"
        },
        {
          "data": {
            "image/png": "[encoded data removed]",
            "text/plain": [
              "<Figure size 432x288 with 1 Axes>"
            ]
          },
          "metadata": {
            "needs_background": "light"
          },
          "output_type": "display_data"
        }
      ],
      "source": [
        "X_train, X_test, Y_train, Y_test = train_test_split(\n",
        "    df, df2, test_size=0.40\n",
        ")\n",
        "\n",
        "linear_regressor = LinearRegression()\n",
        "linear_regressor.fit(X_train, Y_train)\n",
        "# print(linear_regressor.coef_)\n",
        "Y_pred = linear_regressor.predict(X_test)\n",
        "print(\"Linear: \" + str(mean_squared_error(Y_pred, Y_test)))\n",
        "\n",
        "for i in range(5):\n",
        "    X_train_poly = X_train\n",
        "    Y_train_poly = Y_train.values\n",
        "    poly = PolynomialFeatures(degree=i + 2)\n",
        "    poly_x_values = poly.fit_transform(X_train_poly)\n",
        "    poly.fit(poly_x_values, Y_train_poly)\n",
        "    regression_model = LinearRegression()\n",
        "    regression_model.fit(poly_x_values, Y_train_poly)\n",
        "    y_pred = regression_model.predict(poly.fit_transform(X_test))\n",
        "    # print(regression_model.coef_)\n",
        "    print(\n",
        "        \"Degree \"\n",
        "        + str(i + 2)\n",
        "        + \": \"\n",
        "        + str(mean_squared_error(Y_test, y_pred, squared=True))\n",
        "    )\n",
        "\n",
        "print(np.mean(cross_val_score(linear_regressor, X_train, Y_train, cv=5)))\n",
        "\n",
        "#plot regression line\n",
        "plt.scatter(Y_test, Y_pred)\n",
        "plt.plot(Y_test, Y_test, color=\"red\")\n",
        "plt.xlabel(\"Actual\")\n",
        "plt.ylabel(\"Predicted\")\n",
        "plt.show()\n",
        "\n",
        "# plot coefficients\n",
        "coef = pd.Series(linear_regressor.coef_, predictors).sort_values()\n",
        "coef.plot(kind=\"bar\", title=\"Model Coefficients\")\n",
        "plt.show()"
      ]
    },
    {
      "attachments": {},
      "cell_type": "markdown",
      "metadata": {},
      "source": [
        "# Lasso and Ridge\n"
      ]
    },
    {
      "cell_type": "code",
      "execution_count": 80,
      "metadata": {
        "colab": {
          "base_uri": "https://localhost:8080/"
        },
        "id": "89SApP4yde_C",
        "outputId": "edcc3f6c-cadf-4772-ac8f-33e726508dec"
      },
      "outputs": [
        {
          "data": {
            "text/plain": [
              "43.300720411839905"
            ]
          },
          "execution_count": 80,
          "metadata": {},
          "output_type": "execute_result"
        }
      ],
      "source": [
        "lasso = Lasso(alpha=1.0)\n",
        "lasso.fit(X_train, Y_train)\n",
        "lasso.score(X_test, Y_test), lasso.score(X_train, Y_train)\n",
        "Y_pred = lasso.predict(X_test)\n",
        "mean_squared_error(Y_pred, Y_test)\n"
      ]
    },
    {
      "attachments": {},
      "cell_type": "markdown",
      "metadata": {},
      "source": [
        "# Tree-Based Models\n"
      ]
    },
    {
      "cell_type": "code",
      "execution_count": 81,
      "metadata": {
        "colab": {
          "base_uri": "https://localhost:8080/",
          "height": 265
        },
        "id": "UVxX7Lj4gZEo",
        "outputId": "9e14cbf8-8b81-4ce6-a142-4cf16c1735a2"
      },
      "outputs": [
        {
          "name": "stdout",
          "output_type": "stream",
          "text": [
            "48.01776234694284\n"
          ]
        }
      ],
      "source": [
        "dtree = DecisionTreeRegressor(criterion=\"squared_error\", max_depth=100)\n",
        "dtree = dtree.fit(X_train, Y_train)\n",
        "Y_pred = dtree.predict(X_test)\n",
        "print(mean_squared_error(Y_pred, Y_test))\n"
      ]
    },
    {
      "cell_type": "code",
      "execution_count": 82,
      "metadata": {},
      "outputs": [
        {
          "name": "stdout",
          "output_type": "stream",
          "text": [
            "37.9987473963228\n"
          ]
        }
      ],
      "source": [
        "# code random forest\n",
        "from sklearn.ensemble import RandomForestRegressor\n",
        "\n",
        "regressor = RandomForestRegressor(n_estimators=100)\n",
        "regressor.fit(X_train, Y_train)\n",
        "Y_pred = regressor.predict(X_test)\n",
        "print(mean_squared_error(Y_pred, Y_test))\n"
      ]
    },
    {
      "cell_type": "code",
      "execution_count": 83,
      "metadata": {},
      "outputs": [
        {
          "name": "stdout",
          "output_type": "stream",
          "text": [
            "44.45573457055492\n",
            "44.92659316193144\n",
            "[-1.55065262e+00  1.57967213e+00  2.35709549e-01  3.73770627e-01\n",
            " -5.64712785e-01  1.51084745e-05 -5.27741940e-01  1.76369725e-01\n",
            "  8.17038347e-03 -1.45995331e-01 -1.48967339e-06  8.00822668e-02\n",
            " -1.10225140e-03 -1.04872904e-01]\n"
          ]
        }
      ],
      "source": [
        "# code polynomial regression with ridge\n",
        "from sklearn.linear_model import Ridge\n",
        "\n",
        "ridge = Ridge(alpha=1.0)\n",
        "ridge.fit(X_train, Y_train)\n",
        "ridge.score(X_test, Y_test), ridge.score(X_train, Y_train)\n",
        "Y_pred = ridge.predict(X_test)\n",
        "print(mean_squared_error(Y_pred, Y_test))\n",
        "# display coefficients and equation\n",
        "print(ridge.intercept_)\n",
        "print(ridge.coef_)\n"
      ]
    },
    {
      "cell_type": "code",
      "execution_count": null,
      "metadata": {},
      "outputs": [
        {
          "name": "stdout",
          "output_type": "stream",
          "text": [
            "Linear: 38.23297516011615\n"
          ]
        }
      ],
      "source": [
        "# run linear regression on the PCA\n",
        "X_train, X_test, Y_train, Y_test = train_test_split(\n",
        "    x_pca, df[\"Ygini_disp\"], test_size=0.77, random_state=23\n",
        ")\n",
        "linear_regressor = LinearRegression()\n",
        "linear_regressor.fit(X_train, Y_train)\n",
        "# print(linear_regressor.coef_)\n",
        "Y_pred = linear_regressor.predict(X_test)\n",
        "print(\"Linear: \" + str(mean_squared_error(Y_pred, Y_test)))\n"
      ]
    },
    {
      "cell_type": "code",
      "execution_count": null,
      "metadata": {},
      "outputs": [
        {
          "name": "stdout",
          "output_type": "stream",
          "text": [
            "2: 34.96594351931297\n",
            "3: 41.61027765135021\n",
            "4: 45.5349366457146\n",
            "5: 45.137466331338494\n",
            "6: 71.98908996392454\n"
          ]
        },
        {
          "name": "stderr",
          "output_type": "stream",
          "text": [
            "/Users/sanjeevchauhan/opt/anaconda3/lib/python3.9/site-packages/sklearn/linear_model/_coordinate_descent.py:647: ConvergenceWarning: Objective did not converge. You might want to increase the number of iterations, check the scale of the features or consider increasing regularisation. Duality gap: 8.171e+00, tolerance: 1.927e-01\n",
            "  model = cd_fast.enet_coordinate_descent(\n"
          ]
        }
      ],
      "source": [
        "# perform Lasso on polynomial on df\n",
        "for i in range(5):\n",
        "    X_train_poly = X_train\n",
        "    Y_train_poly = Y_train.values\n",
        "    poly = PolynomialFeatures(degree=i + 2)\n",
        "    poly_x_values = poly.fit_transform(X_train_poly)\n",
        "    poly.fit(poly_x_values, Y_train_poly)\n",
        "    regression_model = Lasso(alpha=1.0)\n",
        "    regression_model.fit(poly_x_values, Y_train_poly)\n",
        "    y_pred = regression_model.predict(poly.fit_transform(X_test))\n",
        "    # print(regression_model.coef_)\n",
        "    print(str(i + 2) + \": \" + str(mean_squared_error(Y_test, y_pred, squared=True)))\n"
      ]
    },
    {
      "attachments": {},
      "cell_type": "markdown",
      "metadata": {},
      "source": [
        "# Model Comparisons and Final Model Selection\n"
      ]
    }
  ],
  "metadata": {
    "colab": {
      "provenance": []
    },
    "kernelspec": {
      "display_name": "Python 3.9.12 ('base')",
      "language": "python",
      "name": "python3"
    },
    "language_info": {
      "codemirror_mode": {
        "name": "ipython",
        "version": 3
      },
      "file_extension": ".py",
      "mimetype": "text/x-python",
      "name": "python",
      "nbconvert_exporter": "python",
      "pygments_lexer": "ipython3",
      "version": "3.9.12"
    },
    "vscode": {
      "interpreter": {
        "hash": "083c7345716e6fab30f66ca7aa6c9beadbf7975b381274615af4a7f4636eaef9"
      }
    }
  },
  "nbformat": 4,
  "nbformat_minor": 0
}
