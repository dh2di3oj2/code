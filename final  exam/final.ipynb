{
 "cells": [
  {
   "cell_type": "code",
   "execution_count": 39,
   "metadata": {},
   "outputs": [],
   "source": [
    "import pandas as pd\n",
    "import numpy as np\n",
    "from sklearn.preprocessing import StandardScaler\n",
    "from sklearn.decomposition import PCA\n",
    "from sklearn.model_selection import train_test_split\n",
    "from sklearn.linear_model import LinearRegression \n",
    "from sklearn.preprocessing import PolynomialFeatures \n",
    "from sklearn.metrics import mean_squared_error, r2_score\n",
    "from sklearn.linear_model import Lasso\n",
    "\n",
    "import matplotlib.pyplot as plt\n",
    "from sklearn.metrics import mean_squared_error, r2_score\n",
    "from sklearn.model_selection import cross_val_score\n",
    "from sklearn.pipeline import make_pipeline\n",
    "from sklearn.linear_model import LassoCV\n",
    "from sklearn.ensemble import RandomForestRegressor\n",
    "from sklearn import tree\n",
    "\n",
    "import warnings\n",
    "warnings.filterwarnings('ignore')"
   ]
  },
  {
   "cell_type": "code",
   "execution_count": 40,
   "metadata": {},
   "outputs": [
    {
     "name": "stdout",
     "output_type": "stream",
     "text": [
      "<class 'pandas.core.frame.DataFrame'>\n",
      "RangeIndex: 205 entries, 0 to 204\n",
      "Data columns (total 28 columns):\n",
      " #   Column                           Non-Null Count  Dtype  \n",
      "---  ------                           --------------  -----  \n",
      " 0   country                          205 non-null    object \n",
      " 1   federalism_GT                    202 non-null    float64\n",
      " 2   id                               69 non-null     float64\n",
      " 3   region_wb                        69 non-null     object \n",
      " 4   gdp                              69 non-null     float64\n",
      " 5   statehiste1500_02n               159 non-null    float64\n",
      " 6   origtime2                        158 non-null    float64\n",
      " 7   eleva                            193 non-null    float64\n",
      " 8   avg_temp                         197 non-null    float64\n",
      " 9   Maddison_gdppc_1990_estimate_ln  194 non-null    float64\n",
      " 10  lp_lat_abst_fill                 200 non-null    float64\n",
      " 11  mountains                        196 non-null    float64\n",
      " 12  log_ocdistance_new               188 non-null    float64\n",
      " 13  rugged                           173 non-null    float64\n",
      " 14  tropical                         173 non-null    float64\n",
      " 15  pmean                            173 non-null    float64\n",
      " 16  irri_impact5                     180 non-null    float64\n",
      " 17  frstdays                         146 non-null    float64\n",
      " 18  sd_emeanclip                     153 non-null    float64\n",
      " 19  Urbanpopulationoftotalpop        195 non-null    float64\n",
      " 20  dist2suitable_km_new             188 non-null    float64\n",
      " 21  Ygini_disp                       178 non-null    float64\n",
      " 22  Fixedtelephonesubscriptionsp     191 non-null    float64\n",
      " 23  Employmentinagricultureof        180 non-null    float64\n",
      " 24  Accesstoelectricityofpopu        189 non-null    float64\n",
      " 25  pln_sxHr_mean                    171 non-null    float64\n",
      " 26  agyears_ext                      200 non-null    float64\n",
      " 27  popd_1500AD                      179 non-null    float64\n",
      "dtypes: float64(26), object(2)\n",
      "memory usage: 45.0+ KB\n"
     ]
    }
   ],
   "source": [
    "df = pd.read_csv('inequality_class_final.csv')\n",
    "df2=df\n",
    "df.info()"
   ]
  },
  {
   "attachments": {},
   "cell_type": "markdown",
   "metadata": {},
   "source": [
    " go ahead and drop variables that are not needed - name and region are not quantitative and we dont necessarily want to use each country to map to its respective income inequality\n",
    "\n",
    "\n",
    " \n",
    "Country name, regional dummy, id\n",
    "\n",
    "\n",
    "may drop gdp bc there are so few entries for it\n",
    "when gdp is not dropped then there are 52 non null entries\n",
    "when gdp is dropped then there are 122 entries \n",
    "\n",
    "this is a 142% increase in the number of entries.\n",
    "\n",
    "**I will drop gdp and see how it goes.** "
   ]
  },
  {
   "cell_type": "markdown",
   "metadata": {},
   "source": []
  },
  {
   "cell_type": "code",
   "execution_count": 41,
   "metadata": {},
   "outputs": [
    {
     "data": {
      "text/html": [
       "<div>\n",
       "<style scoped>\n",
       "    .dataframe tbody tr th:only-of-type {\n",
       "        vertical-align: middle;\n",
       "    }\n",
       "\n",
       "    .dataframe tbody tr th {\n",
       "        vertical-align: top;\n",
       "    }\n",
       "\n",
       "    .dataframe thead th {\n",
       "        text-align: right;\n",
       "    }\n",
       "</style>\n",
       "<table border=\"1\" class=\"dataframe\">\n",
       "  <thead>\n",
       "    <tr style=\"text-align: right;\">\n",
       "      <th></th>\n",
       "      <th>federalism_GT</th>\n",
       "      <th>statehiste1500_02n</th>\n",
       "      <th>origtime2</th>\n",
       "      <th>eleva</th>\n",
       "      <th>avg_temp</th>\n",
       "      <th>Maddison_gdppc_1990_estimate_ln</th>\n",
       "      <th>lp_lat_abst_fill</th>\n",
       "      <th>mountains</th>\n",
       "      <th>log_ocdistance_new</th>\n",
       "      <th>rugged</th>\n",
       "      <th>...</th>\n",
       "      <th>sd_emeanclip</th>\n",
       "      <th>Urbanpopulationoftotalpop</th>\n",
       "      <th>dist2suitable_km_new</th>\n",
       "      <th>Ygini_disp</th>\n",
       "      <th>Fixedtelephonesubscriptionsp</th>\n",
       "      <th>Employmentinagricultureof</th>\n",
       "      <th>Accesstoelectricityofpopu</th>\n",
       "      <th>pln_sxHr_mean</th>\n",
       "      <th>agyears_ext</th>\n",
       "      <th>popd_1500AD</th>\n",
       "    </tr>\n",
       "  </thead>\n",
       "  <tbody>\n",
       "    <tr>\n",
       "      <th>0</th>\n",
       "      <td>2.0</td>\n",
       "      <td>0.311557</td>\n",
       "      <td>15000.0</td>\n",
       "      <td>1076.740352</td>\n",
       "      <td>21.6</td>\n",
       "      <td>9.079312</td>\n",
       "      <td>0.255556</td>\n",
       "      <td>0.455154</td>\n",
       "      <td>2.952231</td>\n",
       "      <td>1.732390</td>\n",
       "      <td>...</td>\n",
       "      <td>0.776437</td>\n",
       "      <td>76.920</td>\n",
       "      <td>191207.98</td>\n",
       "      <td>46.400002</td>\n",
       "      <td>18.318046</td>\n",
       "      <td>13.790000</td>\n",
       "      <td>98.110626</td>\n",
       "      <td>2626.828031</td>\n",
       "      <td>4100.0</td>\n",
       "      <td>12.078997</td>\n",
       "    </tr>\n",
       "    <tr>\n",
       "      <th>1</th>\n",
       "      <td>0.0</td>\n",
       "      <td>NaN</td>\n",
       "      <td>NaN</td>\n",
       "      <td>184.250987</td>\n",
       "      <td>26.0</td>\n",
       "      <td>8.904918</td>\n",
       "      <td>0.044444</td>\n",
       "      <td>0.048973</td>\n",
       "      <td>4.338826</td>\n",
       "      <td>0.306818</td>\n",
       "      <td>...</td>\n",
       "      <td>0.133851</td>\n",
       "      <td>66.547</td>\n",
       "      <td>175987.63</td>\n",
       "      <td>45.799999</td>\n",
       "      <td>16.041285</td>\n",
       "      <td>8.460000</td>\n",
       "      <td>94.783394</td>\n",
       "      <td>6696.253076</td>\n",
       "      <td>1500.0</td>\n",
       "      <td>0.057579</td>\n",
       "    </tr>\n",
       "    <tr>\n",
       "      <th>2</th>\n",
       "      <td>0.0</td>\n",
       "      <td>0.124440</td>\n",
       "      <td>8000.0</td>\n",
       "      <td>359.346328</td>\n",
       "      <td>3.6</td>\n",
       "      <td>10.248469</td>\n",
       "      <td>0.688889</td>\n",
       "      <td>0.190206</td>\n",
       "      <td>4.567989</td>\n",
       "      <td>0.715470</td>\n",
       "      <td>...</td>\n",
       "      <td>0.248912</td>\n",
       "      <td>84.588</td>\n",
       "      <td>108188.94</td>\n",
       "      <td>25.000000</td>\n",
       "      <td>60.024409</td>\n",
       "      <td>2.250000</td>\n",
       "      <td>100.000000</td>\n",
       "      <td>0.000000</td>\n",
       "      <td>5500.0</td>\n",
       "      <td>0.842480</td>\n",
       "    </tr>\n",
       "    <tr>\n",
       "      <th>3</th>\n",
       "      <td>2.0</td>\n",
       "      <td>0.358282</td>\n",
       "      <td>45000.0</td>\n",
       "      <td>1317.581088</td>\n",
       "      <td>7.0</td>\n",
       "      <td>10.436217</td>\n",
       "      <td>0.522222</td>\n",
       "      <td>0.938316</td>\n",
       "      <td>5.708037</td>\n",
       "      <td>4.761175</td>\n",
       "      <td>...</td>\n",
       "      <td>0.625552</td>\n",
       "      <td>73.530</td>\n",
       "      <td>358067.16</td>\n",
       "      <td>29.900000</td>\n",
       "      <td>65.373435</td>\n",
       "      <td>4.000000</td>\n",
       "      <td>100.000000</td>\n",
       "      <td>877.940256</td>\n",
       "      <td>5500.0</td>\n",
       "      <td>19.928775</td>\n",
       "    </tr>\n",
       "    <tr>\n",
       "      <th>4</th>\n",
       "      <td>0.0</td>\n",
       "      <td>0.082024</td>\n",
       "      <td>135000.0</td>\n",
       "      <td>208.329245</td>\n",
       "      <td>27.6</td>\n",
       "      <td>7.401412</td>\n",
       "      <td>0.088889</td>\n",
       "      <td>0.016055</td>\n",
       "      <td>4.321187</td>\n",
       "      <td>0.227549</td>\n",
       "      <td>...</td>\n",
       "      <td>0.074167</td>\n",
       "      <td>48.669</td>\n",
       "      <td>351368.59</td>\n",
       "      <td>43.000000</td>\n",
       "      <td>1.639566</td>\n",
       "      <td>53.939999</td>\n",
       "      <td>56.975372</td>\n",
       "      <td>6889.873359</td>\n",
       "      <td>3500.0</td>\n",
       "      <td>7.670432</td>\n",
       "    </tr>\n",
       "  </tbody>\n",
       "</table>\n",
       "<p>5 rows × 24 columns</p>\n",
       "</div>"
      ],
      "text/plain": [
       "   federalism_GT  statehiste1500_02n  origtime2        eleva  avg_temp  \\\n",
       "0            2.0            0.311557    15000.0  1076.740352      21.6   \n",
       "1            0.0                 NaN        NaN   184.250987      26.0   \n",
       "2            0.0            0.124440     8000.0   359.346328       3.6   \n",
       "3            2.0            0.358282    45000.0  1317.581088       7.0   \n",
       "4            0.0            0.082024   135000.0   208.329245      27.6   \n",
       "\n",
       "   Maddison_gdppc_1990_estimate_ln  lp_lat_abst_fill  mountains  \\\n",
       "0                         9.079312          0.255556   0.455154   \n",
       "1                         8.904918          0.044444   0.048973   \n",
       "2                        10.248469          0.688889   0.190206   \n",
       "3                        10.436217          0.522222   0.938316   \n",
       "4                         7.401412          0.088889   0.016055   \n",
       "\n",
       "   log_ocdistance_new    rugged  ...  sd_emeanclip  Urbanpopulationoftotalpop  \\\n",
       "0            2.952231  1.732390  ...      0.776437                     76.920   \n",
       "1            4.338826  0.306818  ...      0.133851                     66.547   \n",
       "2            4.567989  0.715470  ...      0.248912                     84.588   \n",
       "3            5.708037  4.761175  ...      0.625552                     73.530   \n",
       "4            4.321187  0.227549  ...      0.074167                     48.669   \n",
       "\n",
       "   dist2suitable_km_new  Ygini_disp  Fixedtelephonesubscriptionsp  \\\n",
       "0             191207.98   46.400002                     18.318046   \n",
       "1             175987.63   45.799999                     16.041285   \n",
       "2             108188.94   25.000000                     60.024409   \n",
       "3             358067.16   29.900000                     65.373435   \n",
       "4             351368.59   43.000000                      1.639566   \n",
       "\n",
       "   Employmentinagricultureof  Accesstoelectricityofpopu  pln_sxHr_mean  \\\n",
       "0                  13.790000                  98.110626    2626.828031   \n",
       "1                   8.460000                  94.783394    6696.253076   \n",
       "2                   2.250000                 100.000000       0.000000   \n",
       "3                   4.000000                 100.000000     877.940256   \n",
       "4                  53.939999                  56.975372    6889.873359   \n",
       "\n",
       "   agyears_ext  popd_1500AD  \n",
       "0       4100.0    12.078997  \n",
       "1       1500.0     0.057579  \n",
       "2       5500.0     0.842480  \n",
       "3       5500.0    19.928775  \n",
       "4       3500.0     7.670432  \n",
       "\n",
       "[5 rows x 24 columns]"
      ]
     },
     "execution_count": 41,
     "metadata": {},
     "output_type": "execute_result"
    }
   ],
   "source": [
    "df = df.drop(columns=['country','region_wb','id','gdp'])\n",
    "df.head()"
   ]
  },
  {
   "attachments": {},
   "cell_type": "markdown",
   "metadata": {},
   "source": [
    "drop empty cells, check how much data is left"
   ]
  },
  {
   "cell_type": "code",
   "execution_count": 42,
   "metadata": {},
   "outputs": [
    {
     "name": "stdout",
     "output_type": "stream",
     "text": [
      "<class 'pandas.core.frame.DataFrame'>\n",
      "Int64Index: 122 entries, 0 to 204\n",
      "Data columns (total 24 columns):\n",
      " #   Column                           Non-Null Count  Dtype  \n",
      "---  ------                           --------------  -----  \n",
      " 0   federalism_GT                    122 non-null    float64\n",
      " 1   statehiste1500_02n               122 non-null    float64\n",
      " 2   origtime2                        122 non-null    float64\n",
      " 3   eleva                            122 non-null    float64\n",
      " 4   avg_temp                         122 non-null    float64\n",
      " 5   Maddison_gdppc_1990_estimate_ln  122 non-null    float64\n",
      " 6   lp_lat_abst_fill                 122 non-null    float64\n",
      " 7   mountains                        122 non-null    float64\n",
      " 8   log_ocdistance_new               122 non-null    float64\n",
      " 9   rugged                           122 non-null    float64\n",
      " 10  tropical                         122 non-null    float64\n",
      " 11  pmean                            122 non-null    float64\n",
      " 12  irri_impact5                     122 non-null    float64\n",
      " 13  frstdays                         122 non-null    float64\n",
      " 14  sd_emeanclip                     122 non-null    float64\n",
      " 15  Urbanpopulationoftotalpop        122 non-null    float64\n",
      " 16  dist2suitable_km_new             122 non-null    float64\n",
      " 17  Ygini_disp                       122 non-null    float64\n",
      " 18  Fixedtelephonesubscriptionsp     122 non-null    float64\n",
      " 19  Employmentinagricultureof        122 non-null    float64\n",
      " 20  Accesstoelectricityofpopu        122 non-null    float64\n",
      " 21  pln_sxHr_mean                    122 non-null    float64\n",
      " 22  agyears_ext                      122 non-null    float64\n",
      " 23  popd_1500AD                      122 non-null    float64\n",
      "dtypes: float64(24)\n",
      "memory usage: 23.8 KB\n"
     ]
    }
   ],
   "source": [
    "df=df.dropna()\n",
    "df2=df2.dropna()\n",
    "df.info()"
   ]
  },
  {
   "cell_type": "code",
   "execution_count": 43,
   "metadata": {},
   "outputs": [],
   "source": [
    "vars = ['federalism_GT',\n",
    " 'statehiste1500_02n',\n",
    " 'origtime2',\n",
    " 'eleva',\n",
    " 'avg_temp',\n",
    " 'Maddison_gdppc_1990_estimate_ln',\n",
    " 'lp_lat_abst_fill',\n",
    " 'mountains',\n",
    " 'log_ocdistance_new',\n",
    " 'rugged',\n",
    " 'tropical',\n",
    " 'pmean',\n",
    " 'irri_impact5',\n",
    " 'frstdays',\n",
    " 'sd_emeanclip',\n",
    " 'Urbanpopulationoftotalpop',\n",
    " 'dist2suitable_km_new',\n",
    " 'Fixedtelephonesubscriptionsp',\n",
    " 'Employmentinagricultureof',\n",
    " 'Accesstoelectricityofpopu',\n",
    " 'pln_sxHr_mean',\n",
    " 'agyears_ext',\n",
    " 'popd_1500AD']\n",
    "\n",
    "\n"
   ]
  },
  {
   "cell_type": "code",
   "execution_count": 44,
   "metadata": {},
   "outputs": [
    {
     "data": {
      "text/plain": [
       "(array([14., 12., 17., 22., 23., 20.,  6.,  4.,  2.,  2.]),\n",
       " array([23.5, 27.8, 32.1, 36.4, 40.7, 45. , 49.3, 53.6, 57.9, 62.2, 66.5]),\n",
       " <BarContainer object of 10 artists>)"
      ]
     },
     "execution_count": 44,
     "metadata": {},
     "output_type": "execute_result"
    },
    {
     "data": {
      "image/png": "[encoded data removed]",
      "text/plain": [
       "<Figure size 432x288 with 1 Axes>"
      ]
     },
     "metadata": {
      "needs_background": "light"
     },
     "output_type": "display_data"
    }
   ],
   "source": [
    "\n",
    "y = df.loc[:, 'Ygini_disp'].values\n",
    "\n",
    "\n",
    "plt.hist(y) "
   ]
  },
  {
   "attachments": {},
   "cell_type": "markdown",
   "metadata": {},
   "source": [
    "y var is somewhat gaussian but still skewed"
   ]
  },
  {
   "cell_type": "code",
   "execution_count": 45,
   "metadata": {},
   "outputs": [],
   "source": [
    "def numPCA(x,v):\n",
    "    pca = PCA(.80)\n",
    "    model = pca.fit(StandardScaler().fit_transform(x[v]))\n",
    "    n_pcs = pca.n_components_\n",
    "        \n",
    "    most_important = [np.abs(model.components_[i]).argmax() for i in range(n_pcs)]\n",
    "    #print(model.components_)\n",
    "    initial_feature_names = v\n",
    "    # get the names\n",
    "    most_important_names = [initial_feature_names[most_important[i]] for i in range(n_pcs)]\n",
    "\n",
    "    \n",
    "    dic = {'PC{}'.format(i): most_important_names[i] for i in range(n_pcs)}\n",
    "\n",
    "    # build the dataframe\n",
    "    df2 = pd.DataFrame(dic.items())\n",
    "    print (n_pcs)\n",
    "    print (pca.explained_variance_ratio_)\n",
    "    #print(df2)\n",
    "    return  df2 , model\n",
    "\n"
   ]
  },
  {
   "attachments": {},
   "cell_type": "markdown",
   "metadata": {},
   "source": [
    "## Im going to try to group elevation, latitude, tropical, rugged, temperature, agricultural history, length of time using advanced \n",
    "## agriculture, and plantation crop suitability and precipitation together as they seem to deal with agricultural conditions"
   ]
  },
  {
   "cell_type": "code",
   "execution_count": 46,
   "metadata": {},
   "outputs": [
    {
     "name": "stdout",
     "output_type": "stream",
     "text": [
      "6\n",
      "[0.35194906 0.1761922  0.1129949  0.07162949 0.06046289 0.05405266]\n"
     ]
    },
    {
     "data": {
      "text/html": [
       "<div>\n",
       "<style scoped>\n",
       "    .dataframe tbody tr th:only-of-type {\n",
       "        vertical-align: middle;\n",
       "    }\n",
       "\n",
       "    .dataframe tbody tr th {\n",
       "        vertical-align: top;\n",
       "    }\n",
       "\n",
       "    .dataframe thead th {\n",
       "        text-align: right;\n",
       "    }\n",
       "</style>\n",
       "<table border=\"1\" class=\"dataframe\">\n",
       "  <thead>\n",
       "    <tr style=\"text-align: right;\">\n",
       "      <th></th>\n",
       "      <th>0</th>\n",
       "      <th>1</th>\n",
       "    </tr>\n",
       "  </thead>\n",
       "  <tbody>\n",
       "    <tr>\n",
       "      <th>0</th>\n",
       "      <td>PC0</td>\n",
       "      <td>lp_lat_abst_fill</td>\n",
       "    </tr>\n",
       "    <tr>\n",
       "      <th>1</th>\n",
       "      <td>PC1</td>\n",
       "      <td>eleva</td>\n",
       "    </tr>\n",
       "    <tr>\n",
       "      <th>2</th>\n",
       "      <td>PC2</td>\n",
       "      <td>pmean</td>\n",
       "    </tr>\n",
       "    <tr>\n",
       "      <th>3</th>\n",
       "      <td>PC3</td>\n",
       "      <td>statehiste1500_02n</td>\n",
       "    </tr>\n",
       "    <tr>\n",
       "      <th>4</th>\n",
       "      <td>PC4</td>\n",
       "      <td>federalism_GT</td>\n",
       "    </tr>\n",
       "    <tr>\n",
       "      <th>5</th>\n",
       "      <td>PC5</td>\n",
       "      <td>popd_1500AD</td>\n",
       "    </tr>\n",
       "  </tbody>\n",
       "</table>\n",
       "</div>"
      ],
      "text/plain": [
       "     0                   1\n",
       "0  PC0    lp_lat_abst_fill\n",
       "1  PC1               eleva\n",
       "2  PC2               pmean\n",
       "3  PC3  statehiste1500_02n\n",
       "4  PC4       federalism_GT\n",
       "5  PC5         popd_1500AD"
      ]
     },
     "execution_count": 46,
     "metadata": {},
     "output_type": "execute_result"
    }
   ],
   "source": [
    "\n",
    "a,b = numPCA(df,vars)\n",
    "a\n",
    "# i just ran pca on everything bc im just curious, ik ur not supposed to do it like"
   ]
  },
  {
   "cell_type": "code",
   "execution_count": 47,
   "metadata": {},
   "outputs": [
    {
     "name": "stdout",
     "output_type": "stream",
     "text": [
      "3\n",
      "[0.48900626 0.18368121 0.13847285]\n"
     ]
    },
    {
     "data": {
      "text/html": [
       "<div>\n",
       "<style scoped>\n",
       "    .dataframe tbody tr th:only-of-type {\n",
       "        vertical-align: middle;\n",
       "    }\n",
       "\n",
       "    .dataframe tbody tr th {\n",
       "        vertical-align: top;\n",
       "    }\n",
       "\n",
       "    .dataframe thead th {\n",
       "        text-align: right;\n",
       "    }\n",
       "</style>\n",
       "<table border=\"1\" class=\"dataframe\">\n",
       "  <thead>\n",
       "    <tr style=\"text-align: right;\">\n",
       "      <th></th>\n",
       "      <th>0</th>\n",
       "      <th>1</th>\n",
       "    </tr>\n",
       "  </thead>\n",
       "  <tbody>\n",
       "    <tr>\n",
       "      <th>0</th>\n",
       "      <td>PC0</td>\n",
       "      <td>tropical</td>\n",
       "    </tr>\n",
       "    <tr>\n",
       "      <th>1</th>\n",
       "      <td>PC1</td>\n",
       "      <td>eleva</td>\n",
       "    </tr>\n",
       "    <tr>\n",
       "      <th>2</th>\n",
       "      <td>PC2</td>\n",
       "      <td>statehiste1500_02n</td>\n",
       "    </tr>\n",
       "  </tbody>\n",
       "</table>\n",
       "</div>"
      ],
      "text/plain": [
       "     0                   1\n",
       "0  PC0            tropical\n",
       "1  PC1               eleva\n",
       "2  PC2  statehiste1500_02n"
      ]
     },
     "execution_count": 47,
     "metadata": {},
     "output_type": "execute_result"
    }
   ],
   "source": [
    "pca_vars = ['lp_lat_abst_fill','eleva','avg_temp','pmean','statehiste1500_02n','tropical','rugged','agyears_ext','pln_sxHr_mean']\n",
    "\n",
    "table, model = numPCA(df,pca_vars) #running pca on farming like variables\n",
    "table\n",
    "#table is buggy "
   ]
  },
  {
   "cell_type": "markdown",
   "metadata": {},
   "source": [
    "3 pca variables replace 5 Ivs"
   ]
  },
  {
   "cell_type": "code",
   "execution_count": 48,
   "metadata": {},
   "outputs": [
    {
     "data": {
      "image/png": "[encoded data removed]",
      "text/plain": [
       "<Figure size 432x288 with 1 Axes>"
      ]
     },
     "metadata": {
      "needs_background": "light"
     },
     "output_type": "display_data"
    }
   ],
   "source": [
    "#create a scree plot for pca using df[pca_vars]\n",
    "pca = PCA().fit(StandardScaler().fit_transform(df[pca_vars]))\n",
    "plt.plot(np.cumsum(pca.explained_variance_ratio_))\n",
    "plt.xlabel('number of components')\n",
    "plt.ylabel('cumulative explained variance');\n",
    "#3 components explain 80% of the variance but i think the graph is wrong as in 2 =3 and 3=4 on the number of components"
   ]
  },
  {
   "cell_type": "code",
   "execution_count": 49,
   "metadata": {},
   "outputs": [
    {
     "data": {
      "image/png": "[encoded data removed]",
      "text/plain": [
       "<Figure size 432x288 with 1 Axes>"
      ]
     },
     "metadata": {
      "needs_background": "light"
     },
     "output_type": "display_data"
    }
   ],
   "source": [
    "pca = PCA().fit(StandardScaler().fit_transform(df[pca_vars]))\n",
    "plt.plot(pca.explained_variance_)\n",
    "plt.xlabel('number of components')\n",
    "plt.ylabel('eigenvalues');"
   ]
  },
  {
   "attachments": {},
   "cell_type": "markdown",
   "metadata": {},
   "source": []
  },
  {
   "attachments": {},
   "cell_type": "markdown",
   "metadata": {},
   "source": [
    "### Based on this: [0.48900626 0.18368121 0.13847285]\n",
    "\n",
    "\n",
    "\n",
    "**I decided to use the first three components to explain  9 variables related to argiculture / landscape**"
   ]
  },
  {
   "cell_type": "code",
   "execution_count": 50,
   "metadata": {},
   "outputs": [
    {
     "data": {
      "image/png": "[encoded data removed]",
      "text/plain": [
       "<Figure size 432x288 with 1 Axes>"
      ]
     },
     "metadata": {
      "needs_background": "light"
     },
     "output_type": "display_data"
    }
   ],
   "source": [
    "#pca biplot for df[pca_vars]\n",
    "pca = PCA().fit(StandardScaler().fit_transform(df[pca_vars]))\n",
    "pca_data = pca.transform(StandardScaler().fit_transform(df[pca_vars]))\n",
    "xs = pca_data[:,0]\n",
    "ys = pca_data[:,1]\n",
    "\n",
    "plt.scatter(xs,ys)\n",
    "plt.xlabel(\"PC1\")\n",
    "plt.ylabel(\"PC2\")\n",
    "\n",
    "for i, txt in enumerate(df2['country']):\n",
    "    plt.annotate(txt, (xs[i], ys[i]))\n",
    "    \n",
    "plt.show()"
   ]
  },
  {
   "attachments": {},
   "cell_type": "markdown",
   "metadata": {},
   "source": [
    "I was just curious about how this would look\n",
    "\n",
    "**Moving on from PCA**"
   ]
  },
  {
   "cell_type": "code",
   "execution_count": 51,
   "metadata": {},
   "outputs": [
    {
     "name": "stdout",
     "output_type": "stream",
     "text": [
      "Variance explained by each latent variable in PCA:  [0.48900626 0.18368121 0.13847285]\n"
     ]
    }
   ],
   "source": [
    "#define new variables after pca\n",
    "\n",
    "\n",
    "#remove pca_vars from vars\n",
    "for i in pca_vars:\n",
    "    vars.remove(i)\n",
    "\n",
    "\n",
    "vars.append('PC0')\n",
    "vars.append('PC1')\n",
    "vars.append('PC2')\n",
    "\n",
    "\n",
    "pca2 = PCA(n_components=3) #using 3 component bc that explains %80 of the variance\n",
    "\n",
    "latent_vars = pca2.fit(StandardScaler().fit_transform(df[pca_vars]))\n",
    "print (\"Variance explained by each latent variable in PCA: \", pca2.explained_variance_ratio_)\n",
    "df['PC0'] = latent_vars.transform(StandardScaler().fit_transform(df[pca_vars]))[:,0]\n",
    "df['PC1'] = latent_vars.transform(StandardScaler().fit_transform(df[pca_vars]))[:,1]\n",
    "df['PC2'] = latent_vars.transform(StandardScaler().fit_transform(df[pca_vars]))[:,2]"
   ]
  },
  {
   "cell_type": "code",
   "execution_count": 52,
   "metadata": {},
   "outputs": [
    {
     "name": "stdout",
     "output_type": "stream",
     "text": [
      "(91, 17) (91,)\n",
      "(31, 17) (31,)\n"
     ]
    }
   ],
   "source": [
    "#train test split\n",
    "dfx = df[vars]\n",
    "\n",
    "\n",
    "# i tried using vars to get columns from df but it didnt work\n",
    "x_train, x_test, y_train, y_test = train_test_split(dfx, y, test_size=0.25, random_state=42)\n",
    "\n",
    "\n",
    "# make sure results make sense\n",
    "print (x_train.shape, y_train.shape)\n",
    "print (x_test.shape, y_test.shape)\n",
    "\n"
   ]
  },
  {
   "cell_type": "code",
   "execution_count": 53,
   "metadata": {},
   "outputs": [
    {
     "name": "stdout",
     "output_type": "stream",
     "text": [
      "cross val for test set\n",
      "lin score 0.5234820488969514\n",
      "MSE for test set\n",
      "MSE: lin  36.809810610340364\n",
      "Equation:\n",
      "0.747 federalism_GT + 2.686 origtime2 + 3.467 Maddison_gdppc_1990_estimate_ln + 0.046 mountains + 0.036 log_ocdistance_new + 2.097 irri_impact5 + 3.18PC2\n"
     ]
    }
   ],
   "source": [
    "def lin (x_train, x_test, y_train, y_test,df,df2,vars):\n",
    "    # try both linear and polynomial of different degrees\n",
    "    linear_model = LinearRegression(normalize=True)\n",
    "    lin_1 = linear_model.fit(x_train, y_train)\n",
    "    lin1_predict = lin_1.predict(x_test)\n",
    "    print('cross val for test set')\n",
    "    lin_score=np.mean(cross_val_score(linear_model, df,df2, cv=3))\n",
    "    print(\"lin score\", lin_score)\n",
    "    print('MSE for test set')\n",
    "    print('MSE: lin ', mean_squared_error(lin1_predict, y_test))\n",
    "    \n",
    "    coefs = lin_1.coef_[lin_1.coef_ > .001]\n",
    "    equation_dict = {}\n",
    "    print(f'Equation:')\n",
    "    for i in range(len(coefs[:-1])):\n",
    "        print(f'{round(coefs[i], 3)} {vars[i]}', end=' + ')\n",
    "        equation_dict[coefs[i]] = vars[i]\n",
    "    print(f'{round(coefs[-1], 2)}{vars[-1]}')\n",
    "    equation_dict[coefs[-1]] = vars[-1]\n",
    "   \n",
    "        \n",
    "     \n",
    "lin(x_train, x_test, y_train, y_test,dfx,y,vars)       \n"
   ]
  },
  {
   "attachments": {},
   "cell_type": "markdown",
   "metadata": {},
   "source": [
    "## The linear model seems to do slightly better than lasso, but they are super close to each other"
   ]
  },
  {
   "cell_type": "code",
   "execution_count": 54,
   "metadata": {},
   "outputs": [
    {
     "name": "stdout",
     "output_type": "stream",
     "text": [
      "cross val for test set\n",
      "lasso score 0.5778750544730058\n",
      "MSE for test set\n",
      "MSE: lasso  40.46635484280524\n",
      "R squared for test set\n",
      "R squared: lasso  -0.2821590846896571\n",
      "Lasso alpha:  0.07359814475265763\n",
      "Lasso coefficients:  [ 0.          0.         -0.         -0.         -0.          0.\n",
      " -0.35687746  1.211673   -0.          0.         -0.11648233 -0.\n",
      " -0.         -0.0512826  -0.          0.65366216  1.56167731]\n"
     ]
    }
   ],
   "source": [
    "#code lasso regression for xtrain y train / test\n",
    "lasso_model = LassoCV(alphas = np.logspace(-4, 4, 1000), cv=3, normalize=True)\n",
    "lasso_model.fit(x_train, y_train)\n",
    "lasso_predict = lasso_model.predict(x_test)\n",
    "print('cross val for test set')\n",
    "lasso_score=np.mean(cross_val_score(lasso_model, dfx,y, cv=3))\n",
    "print(\"lasso score\", lasso_score)\n",
    "print('MSE for test set')\n",
    "print('MSE: lasso ', mean_squared_error(lasso_predict, y_test))\n",
    "print('R squared for test set')\n",
    "print('R squared: lasso ', r2_score(lasso_predict, y_test))\n",
    "print('Lasso alpha: ', lasso_model.alpha_)\n",
    "print('Lasso coefficients: ', lasso_model.coef_)"
   ]
  },
  {
   "cell_type": "code",
   "execution_count": 55,
   "metadata": {},
   "outputs": [],
   "source": [
    "#code polynomial regression for xtrain y train / test\n",
    "polynomial_model = make_pipeline(PolynomialFeatures(2), LassoCV(alphas = np.logspace(-4, 4, 1000), cv=3, normalize=True))\n",
    "polynomial_model.fit(x_train, y_train)\n",
    "polynomial_predict = polynomial_model.predict(x_test)\n",
    "print('cross val for test set')\n",
    "poly_score=np.mean(cross_val_score(polynomial_model, dfx,y, cv=3))\n",
    "print(\"poly score\", poly_score)\n",
    "print('MSE for test set')\n",
    "print('MSE: polynomial ', mean_squared_error(polynomial_predict, y_test))\n",
    "print('R squared for test set')\n",
    "print('R squared: polynomial ', r2_score(polynomial_predict, y_test))\n",
    "print('Polynomial alpha: ', polynomial_model.steps[1][1].alpha_)\n",
    "print('Polynomial coefficients: ', polynomial_model.steps[1][1].coef_)"
   ]
  },
  {
   "attachments": {},
   "cell_type": "markdown",
   "metadata": {},
   "source": [
    "Running a 3 degree model did worse and 4 degree did even more worse"
   ]
  },
  {
   "cell_type": "code",
   "execution_count": null,
   "metadata": {},
   "outputs": [
    {
     "name": "stdout",
     "output_type": "stream",
     "text": [
      "cross val for test set\n",
      "rf score 0.6355849299908157\n",
      "MSE for test set\n",
      "MSE: random forest  28.18561159440618\n",
      "R squared for test set\n",
      "R squared: random forest  0.48648899372578314\n",
      "Random forest feature importances:  [0.00294399 0.03431281 0.03364103 0.00860662 0.01689449 0.02232258\n",
      " 0.0332345  0.01500258 0.01457244 0.01548838 0.02698525 0.02436829\n",
      " 0.46435249 0.05037145 0.06639777 0.01849259 0.15201274]\n"
     ]
    },
    {
     "data": {
      "image/png": "[encoded data removed]",
      "text/plain": [
       "<Figure size 720x720 with 1 Axes>"
      ]
     },
     "metadata": {
      "needs_background": "light"
     },
     "output_type": "display_data"
    }
   ],
   "source": [
    "#code random forest regression for xtrain y train / test\n",
    "random_forest_model = RandomForestRegressor()\n",
    "random_forest_model.fit(x_train, y_train)\n",
    "random_forest_predict = random_forest_model.predict(x_test)\n",
    "print('cross val for test set')\n",
    "rf_score=np.mean(cross_val_score(random_forest_model, dfx,y, cv=3))\n",
    "print(\"rf score\", rf_score)\n",
    "print('MSE for test set')\n",
    "print('MSE: random forest ', mean_squared_error(random_forest_predict, y_test))\n",
    "print('R squared for test set')\n",
    "print('R squared: random forest ', r2_score(random_forest_predict, y_test))\n",
    "print('Random forest feature importances: ', random_forest_model.feature_importances_)\n",
    "\n"
   ]
  }
 ],
 "metadata": {
  "kernelspec": {
   "display_name": "Python 3.8.8 ('base')",
   "language": "python",
   "name": "python3"
  },
  "language_info": {
   "codemirror_mode": {
    "name": "ipython",
    "version": 3
   },
   "file_extension": ".py",
   "mimetype": "text/x-python",
   "name": "python",
   "nbconvert_exporter": "python",
   "pygments_lexer": "ipython3",
   "version": "3.8.8"
  },
  "orig_nbformat": 4,
  "vscode": {
   "interpreter": {
    "hash": "7c555e8e0d09b9005a8739f9629ccdc8877f22ae0e32937e8538496912027a92"
   }
  }
 },
 "nbformat": 4,
 "nbformat_minor": 2
}
