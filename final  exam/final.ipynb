{
 "cells": [
  {
   "cell_type": "code",
   "execution_count": 143,
   "metadata": {},
   "outputs": [],
   "source": [
    "import pandas as pd\n",
    "import numpy as np\n",
    "from sklearn.preprocessing import StandardScaler\n",
    "from sklearn.decomposition import PCA\n",
    "from sklearn.model_selection import train_test_split\n",
    "from sklearn.linear_model import LinearRegression \n",
    "from sklearn.preprocessing import PolynomialFeatures \n",
    "from sklearn.metrics import mean_squared_error, r2_score\n",
    "from sklearn.linear_model import Lasso\n",
    "\n",
    "import matplotlib.pyplot as plt\n",
    "from sklearn.metrics import mean_squared_error, r2_score\n",
    "from sklearn.model_selection import cross_val_score\n",
    "\n",
    "from sklearn.linear_model import LassoCV"
   ]
  },
  {
   "cell_type": "code",
   "execution_count": 144,
   "metadata": {},
   "outputs": [
    {
     "name": "stdout",
     "output_type": "stream",
     "text": [
      "<class 'pandas.core.frame.DataFrame'>\n",
      "RangeIndex: 205 entries, 0 to 204\n",
      "Data columns (total 28 columns):\n",
      " #   Column                           Non-Null Count  Dtype  \n",
      "---  ------                           --------------  -----  \n",
      " 0   country                          205 non-null    object \n",
      " 1   federalism_GT                    202 non-null    float64\n",
      " 2   id                               69 non-null     float64\n",
      " 3   region_wb                        69 non-null     object \n",
      " 4   gdp                              69 non-null     float64\n",
      " 5   statehiste1500_02n               159 non-null    float64\n",
      " 6   origtime2                        158 non-null    float64\n",
      " 7   eleva                            193 non-null    float64\n",
      " 8   avg_temp                         197 non-null    float64\n",
      " 9   Maddison_gdppc_1990_estimate_ln  194 non-null    float64\n",
      " 10  lp_lat_abst_fill                 200 non-null    float64\n",
      " 11  mountains                        196 non-null    float64\n",
      " 12  log_ocdistance_new               188 non-null    float64\n",
      " 13  rugged                           173 non-null    float64\n",
      " 14  tropical                         173 non-null    float64\n",
      " 15  pmean                            173 non-null    float64\n",
      " 16  irri_impact5                     180 non-null    float64\n",
      " 17  frstdays                         146 non-null    float64\n",
      " 18  sd_emeanclip                     153 non-null    float64\n",
      " 19  Urbanpopulationoftotalpop        195 non-null    float64\n",
      " 20  dist2suitable_km_new             188 non-null    float64\n",
      " 21  Ygini_disp                       178 non-null    float64\n",
      " 22  Fixedtelephonesubscriptionsp     191 non-null    float64\n",
      " 23  Employmentinagricultureof        180 non-null    float64\n",
      " 24  Accesstoelectricityofpopu        189 non-null    float64\n",
      " 25  pln_sxHr_mean                    171 non-null    float64\n",
      " 26  agyears_ext                      200 non-null    float64\n",
      " 27  popd_1500AD                      179 non-null    float64\n",
      "dtypes: float64(26), object(2)\n",
      "memory usage: 45.0+ KB\n"
     ]
    }
   ],
   "source": [
    "df = pd.read_csv('inequality_class_final.csv')\n",
    "df2=df\n",
    "df.info()"
   ]
  },
  {
   "attachments": {},
   "cell_type": "markdown",
   "metadata": {},
   "source": [
    " go ahead and drop variables that are not needed - name and region are not quantitative and we dont necessarily want to use each country to map to its respective income inequality\n",
    "\n",
    "\n",
    " \n",
    "Country name, regional dummy, id\n",
    "\n",
    "\n",
    "may drop gdp bc there are so few entries for it\n",
    "when gdp is not dropped then there are 52 non null entries\n",
    "when gdp is dropped then there are 122 entries \n",
    "\n",
    "this is a 142% increase in the number of entries.\n",
    "\n",
    "**I will drop gdp and see how it goes.** "
   ]
  },
  {
   "cell_type": "markdown",
   "metadata": {},
   "source": []
  },
  {
   "cell_type": "code",
   "execution_count": 145,
   "metadata": {},
   "outputs": [
    {
     "data": {
      "text/html": [
       "<div>\n",
       "<style scoped>\n",
       "    .dataframe tbody tr th:only-of-type {\n",
       "        vertical-align: middle;\n",
       "    }\n",
       "\n",
       "    .dataframe tbody tr th {\n",
       "        vertical-align: top;\n",
       "    }\n",
       "\n",
       "    .dataframe thead th {\n",
       "        text-align: right;\n",
       "    }\n",
       "</style>\n",
       "<table border=\"1\" class=\"dataframe\">\n",
       "  <thead>\n",
       "    <tr style=\"text-align: right;\">\n",
       "      <th></th>\n",
       "      <th>federalism_GT</th>\n",
       "      <th>statehiste1500_02n</th>\n",
       "      <th>origtime2</th>\n",
       "      <th>eleva</th>\n",
       "      <th>avg_temp</th>\n",
       "      <th>Maddison_gdppc_1990_estimate_ln</th>\n",
       "      <th>lp_lat_abst_fill</th>\n",
       "      <th>mountains</th>\n",
       "      <th>log_ocdistance_new</th>\n",
       "      <th>rugged</th>\n",
       "      <th>...</th>\n",
       "      <th>sd_emeanclip</th>\n",
       "      <th>Urbanpopulationoftotalpop</th>\n",
       "      <th>dist2suitable_km_new</th>\n",
       "      <th>Ygini_disp</th>\n",
       "      <th>Fixedtelephonesubscriptionsp</th>\n",
       "      <th>Employmentinagricultureof</th>\n",
       "      <th>Accesstoelectricityofpopu</th>\n",
       "      <th>pln_sxHr_mean</th>\n",
       "      <th>agyears_ext</th>\n",
       "      <th>popd_1500AD</th>\n",
       "    </tr>\n",
       "  </thead>\n",
       "  <tbody>\n",
       "    <tr>\n",
       "      <th>0</th>\n",
       "      <td>2.0</td>\n",
       "      <td>0.311557</td>\n",
       "      <td>15000.0</td>\n",
       "      <td>1076.740352</td>\n",
       "      <td>21.6</td>\n",
       "      <td>9.079312</td>\n",
       "      <td>0.255556</td>\n",
       "      <td>0.455154</td>\n",
       "      <td>2.952231</td>\n",
       "      <td>1.732390</td>\n",
       "      <td>...</td>\n",
       "      <td>0.776437</td>\n",
       "      <td>76.920</td>\n",
       "      <td>191207.98</td>\n",
       "      <td>46.400002</td>\n",
       "      <td>18.318046</td>\n",
       "      <td>13.790000</td>\n",
       "      <td>98.110626</td>\n",
       "      <td>2626.828031</td>\n",
       "      <td>4100.0</td>\n",
       "      <td>12.078997</td>\n",
       "    </tr>\n",
       "    <tr>\n",
       "      <th>1</th>\n",
       "      <td>0.0</td>\n",
       "      <td>NaN</td>\n",
       "      <td>NaN</td>\n",
       "      <td>184.250987</td>\n",
       "      <td>26.0</td>\n",
       "      <td>8.904918</td>\n",
       "      <td>0.044444</td>\n",
       "      <td>0.048973</td>\n",
       "      <td>4.338826</td>\n",
       "      <td>0.306818</td>\n",
       "      <td>...</td>\n",
       "      <td>0.133851</td>\n",
       "      <td>66.547</td>\n",
       "      <td>175987.63</td>\n",
       "      <td>45.799999</td>\n",
       "      <td>16.041285</td>\n",
       "      <td>8.460000</td>\n",
       "      <td>94.783394</td>\n",
       "      <td>6696.253076</td>\n",
       "      <td>1500.0</td>\n",
       "      <td>0.057579</td>\n",
       "    </tr>\n",
       "    <tr>\n",
       "      <th>2</th>\n",
       "      <td>0.0</td>\n",
       "      <td>0.124440</td>\n",
       "      <td>8000.0</td>\n",
       "      <td>359.346328</td>\n",
       "      <td>3.6</td>\n",
       "      <td>10.248469</td>\n",
       "      <td>0.688889</td>\n",
       "      <td>0.190206</td>\n",
       "      <td>4.567989</td>\n",
       "      <td>0.715470</td>\n",
       "      <td>...</td>\n",
       "      <td>0.248912</td>\n",
       "      <td>84.588</td>\n",
       "      <td>108188.94</td>\n",
       "      <td>25.000000</td>\n",
       "      <td>60.024409</td>\n",
       "      <td>2.250000</td>\n",
       "      <td>100.000000</td>\n",
       "      <td>0.000000</td>\n",
       "      <td>5500.0</td>\n",
       "      <td>0.842480</td>\n",
       "    </tr>\n",
       "    <tr>\n",
       "      <th>3</th>\n",
       "      <td>2.0</td>\n",
       "      <td>0.358282</td>\n",
       "      <td>45000.0</td>\n",
       "      <td>1317.581088</td>\n",
       "      <td>7.0</td>\n",
       "      <td>10.436217</td>\n",
       "      <td>0.522222</td>\n",
       "      <td>0.938316</td>\n",
       "      <td>5.708037</td>\n",
       "      <td>4.761175</td>\n",
       "      <td>...</td>\n",
       "      <td>0.625552</td>\n",
       "      <td>73.530</td>\n",
       "      <td>358067.16</td>\n",
       "      <td>29.900000</td>\n",
       "      <td>65.373435</td>\n",
       "      <td>4.000000</td>\n",
       "      <td>100.000000</td>\n",
       "      <td>877.940256</td>\n",
       "      <td>5500.0</td>\n",
       "      <td>19.928775</td>\n",
       "    </tr>\n",
       "    <tr>\n",
       "      <th>4</th>\n",
       "      <td>0.0</td>\n",
       "      <td>0.082024</td>\n",
       "      <td>135000.0</td>\n",
       "      <td>208.329245</td>\n",
       "      <td>27.6</td>\n",
       "      <td>7.401412</td>\n",
       "      <td>0.088889</td>\n",
       "      <td>0.016055</td>\n",
       "      <td>4.321187</td>\n",
       "      <td>0.227549</td>\n",
       "      <td>...</td>\n",
       "      <td>0.074167</td>\n",
       "      <td>48.669</td>\n",
       "      <td>351368.59</td>\n",
       "      <td>43.000000</td>\n",
       "      <td>1.639566</td>\n",
       "      <td>53.939999</td>\n",
       "      <td>56.975372</td>\n",
       "      <td>6889.873359</td>\n",
       "      <td>3500.0</td>\n",
       "      <td>7.670432</td>\n",
       "    </tr>\n",
       "  </tbody>\n",
       "</table>\n",
       "<p>5 rows × 24 columns</p>\n",
       "</div>"
      ],
      "text/plain": [
       "   federalism_GT  statehiste1500_02n  origtime2        eleva  avg_temp  \\\n",
       "0            2.0            0.311557    15000.0  1076.740352      21.6   \n",
       "1            0.0                 NaN        NaN   184.250987      26.0   \n",
       "2            0.0            0.124440     8000.0   359.346328       3.6   \n",
       "3            2.0            0.358282    45000.0  1317.581088       7.0   \n",
       "4            0.0            0.082024   135000.0   208.329245      27.6   \n",
       "\n",
       "   Maddison_gdppc_1990_estimate_ln  lp_lat_abst_fill  mountains  \\\n",
       "0                         9.079312          0.255556   0.455154   \n",
       "1                         8.904918          0.044444   0.048973   \n",
       "2                        10.248469          0.688889   0.190206   \n",
       "3                        10.436217          0.522222   0.938316   \n",
       "4                         7.401412          0.088889   0.016055   \n",
       "\n",
       "   log_ocdistance_new    rugged  ...  sd_emeanclip  Urbanpopulationoftotalpop  \\\n",
       "0            2.952231  1.732390  ...      0.776437                     76.920   \n",
       "1            4.338826  0.306818  ...      0.133851                     66.547   \n",
       "2            4.567989  0.715470  ...      0.248912                     84.588   \n",
       "3            5.708037  4.761175  ...      0.625552                     73.530   \n",
       "4            4.321187  0.227549  ...      0.074167                     48.669   \n",
       "\n",
       "   dist2suitable_km_new  Ygini_disp  Fixedtelephonesubscriptionsp  \\\n",
       "0             191207.98   46.400002                     18.318046   \n",
       "1             175987.63   45.799999                     16.041285   \n",
       "2             108188.94   25.000000                     60.024409   \n",
       "3             358067.16   29.900000                     65.373435   \n",
       "4             351368.59   43.000000                      1.639566   \n",
       "\n",
       "   Employmentinagricultureof  Accesstoelectricityofpopu  pln_sxHr_mean  \\\n",
       "0                  13.790000                  98.110626    2626.828031   \n",
       "1                   8.460000                  94.783394    6696.253076   \n",
       "2                   2.250000                 100.000000       0.000000   \n",
       "3                   4.000000                 100.000000     877.940256   \n",
       "4                  53.939999                  56.975372    6889.873359   \n",
       "\n",
       "   agyears_ext  popd_1500AD  \n",
       "0       4100.0    12.078997  \n",
       "1       1500.0     0.057579  \n",
       "2       5500.0     0.842480  \n",
       "3       5500.0    19.928775  \n",
       "4       3500.0     7.670432  \n",
       "\n",
       "[5 rows x 24 columns]"
      ]
     },
     "execution_count": 145,
     "metadata": {},
     "output_type": "execute_result"
    }
   ],
   "source": [
    "df = df.drop(columns=['country','region_wb','id','gdp'])\n",
    "df.head()"
   ]
  },
  {
   "attachments": {},
   "cell_type": "markdown",
   "metadata": {},
   "source": [
    "drop empty cells, check how much data is left"
   ]
  },
  {
   "cell_type": "code",
   "execution_count": 146,
   "metadata": {},
   "outputs": [
    {
     "name": "stdout",
     "output_type": "stream",
     "text": [
      "<class 'pandas.core.frame.DataFrame'>\n",
      "Int64Index: 122 entries, 0 to 204\n",
      "Data columns (total 24 columns):\n",
      " #   Column                           Non-Null Count  Dtype  \n",
      "---  ------                           --------------  -----  \n",
      " 0   federalism_GT                    122 non-null    float64\n",
      " 1   statehiste1500_02n               122 non-null    float64\n",
      " 2   origtime2                        122 non-null    float64\n",
      " 3   eleva                            122 non-null    float64\n",
      " 4   avg_temp                         122 non-null    float64\n",
      " 5   Maddison_gdppc_1990_estimate_ln  122 non-null    float64\n",
      " 6   lp_lat_abst_fill                 122 non-null    float64\n",
      " 7   mountains                        122 non-null    float64\n",
      " 8   log_ocdistance_new               122 non-null    float64\n",
      " 9   rugged                           122 non-null    float64\n",
      " 10  tropical                         122 non-null    float64\n",
      " 11  pmean                            122 non-null    float64\n",
      " 12  irri_impact5                     122 non-null    float64\n",
      " 13  frstdays                         122 non-null    float64\n",
      " 14  sd_emeanclip                     122 non-null    float64\n",
      " 15  Urbanpopulationoftotalpop        122 non-null    float64\n",
      " 16  dist2suitable_km_new             122 non-null    float64\n",
      " 17  Ygini_disp                       122 non-null    float64\n",
      " 18  Fixedtelephonesubscriptionsp     122 non-null    float64\n",
      " 19  Employmentinagricultureof        122 non-null    float64\n",
      " 20  Accesstoelectricityofpopu        122 non-null    float64\n",
      " 21  pln_sxHr_mean                    122 non-null    float64\n",
      " 22  agyears_ext                      122 non-null    float64\n",
      " 23  popd_1500AD                      122 non-null    float64\n",
      "dtypes: float64(24)\n",
      "memory usage: 23.8 KB\n"
     ]
    }
   ],
   "source": [
    "df=df.dropna()\n",
    "df2=df2.dropna()\n",
    "df.info()"
   ]
  },
  {
   "cell_type": "code",
   "execution_count": 147,
   "metadata": {},
   "outputs": [],
   "source": [
    "vars = ['federalism_GT',\n",
    " 'statehiste1500_02n',\n",
    " 'origtime2',\n",
    " 'eleva',\n",
    " 'avg_temp',\n",
    " 'Maddison_gdppc_1990_estimate_ln',\n",
    " 'lp_lat_abst_fill',\n",
    " 'mountains',\n",
    " 'log_ocdistance_new',\n",
    " 'rugged',\n",
    " 'tropical',\n",
    " 'pmean',\n",
    " 'irri_impact5',\n",
    " 'frstdays',\n",
    " 'sd_emeanclip',\n",
    " 'Urbanpopulationoftotalpop',\n",
    " 'dist2suitable_km_new',\n",
    " 'Fixedtelephonesubscriptionsp',\n",
    " 'Employmentinagricultureof',\n",
    " 'Accesstoelectricityofpopu',\n",
    " 'pln_sxHr_mean',\n",
    " 'agyears_ext',\n",
    " 'popd_1500AD']\n",
    "\n",
    "\n"
   ]
  },
  {
   "cell_type": "code",
   "execution_count": 148,
   "metadata": {},
   "outputs": [
    {
     "data": {
      "text/plain": [
       "(array([14., 12., 17., 22., 23., 20.,  6.,  4.,  2.,  2.]),\n",
       " array([23.5, 27.8, 32.1, 36.4, 40.7, 45. , 49.3, 53.6, 57.9, 62.2, 66.5]),\n",
       " <BarContainer object of 10 artists>)"
      ]
     },
     "execution_count": 148,
     "metadata": {},
     "output_type": "execute_result"
    },
    {
     "data": {
      "image/png": "[encoded data removed]",
      "text/plain": [
       "<Figure size 432x288 with 1 Axes>"
      ]
     },
     "metadata": {
      "needs_background": "light"
     },
     "output_type": "display_data"
    }
   ],
   "source": [
    "\n",
    "y = df.loc[:, 'Ygini_disp'].values\n",
    "\n",
    "\n",
    "plt.hist(y) "
   ]
  },
  {
   "attachments": {},
   "cell_type": "markdown",
   "metadata": {},
   "source": [
    "y var is somewhat gaussian but still skewed"
   ]
  },
  {
   "cell_type": "code",
   "execution_count": 149,
   "metadata": {},
   "outputs": [],
   "source": [
    "def numPCA(x,v):\n",
    "    pca = PCA(.80)\n",
    "    model = pca.fit(StandardScaler().fit_transform(x[v]))\n",
    "    n_pcs = pca.n_components_\n",
    "        \n",
    "    most_important = [np.abs(model.components_[i]).argmax() for i in range(n_pcs)]\n",
    "    #print(model.components_)\n",
    "    initial_feature_names = v\n",
    "    # get the names\n",
    "    most_important_names = [initial_feature_names[most_important[i]] for i in range(n_pcs)]\n",
    "\n",
    "    \n",
    "    dic = {'PC{}'.format(i): most_important_names[i] for i in range(n_pcs)}\n",
    "\n",
    "    # build the dataframe\n",
    "    df2 = pd.DataFrame(dic.items())\n",
    "    print (n_pcs)\n",
    "    print (pca.explained_variance_ratio_)\n",
    "    #print(df2)\n",
    "    return  df2 , model\n",
    "\n"
   ]
  },
  {
   "cell_type": "markdown",
   "metadata": {},
   "source": [
    "Im going to try to group elevation, latitude, tropical, rugged, temperature, agricultural history and precipitation together as they seem to deal with agricultural conditions"
   ]
  },
  {
   "cell_type": "code",
   "execution_count": 150,
   "metadata": {},
   "outputs": [
    {
     "name": "stdout",
     "output_type": "stream",
     "text": [
      "6\n",
      "[0.35194906 0.1761922  0.1129949  0.07162949 0.06046289 0.05405266]\n"
     ]
    },
    {
     "data": {
      "text/html": [
       "<div>\n",
       "<style scoped>\n",
       "    .dataframe tbody tr th:only-of-type {\n",
       "        vertical-align: middle;\n",
       "    }\n",
       "\n",
       "    .dataframe tbody tr th {\n",
       "        vertical-align: top;\n",
       "    }\n",
       "\n",
       "    .dataframe thead th {\n",
       "        text-align: right;\n",
       "    }\n",
       "</style>\n",
       "<table border=\"1\" class=\"dataframe\">\n",
       "  <thead>\n",
       "    <tr style=\"text-align: right;\">\n",
       "      <th></th>\n",
       "      <th>0</th>\n",
       "      <th>1</th>\n",
       "    </tr>\n",
       "  </thead>\n",
       "  <tbody>\n",
       "    <tr>\n",
       "      <th>0</th>\n",
       "      <td>PC0</td>\n",
       "      <td>lp_lat_abst_fill</td>\n",
       "    </tr>\n",
       "    <tr>\n",
       "      <th>1</th>\n",
       "      <td>PC1</td>\n",
       "      <td>eleva</td>\n",
       "    </tr>\n",
       "    <tr>\n",
       "      <th>2</th>\n",
       "      <td>PC2</td>\n",
       "      <td>pmean</td>\n",
       "    </tr>\n",
       "    <tr>\n",
       "      <th>3</th>\n",
       "      <td>PC3</td>\n",
       "      <td>statehiste1500_02n</td>\n",
       "    </tr>\n",
       "    <tr>\n",
       "      <th>4</th>\n",
       "      <td>PC4</td>\n",
       "      <td>federalism_GT</td>\n",
       "    </tr>\n",
       "    <tr>\n",
       "      <th>5</th>\n",
       "      <td>PC5</td>\n",
       "      <td>popd_1500AD</td>\n",
       "    </tr>\n",
       "  </tbody>\n",
       "</table>\n",
       "</div>"
      ],
      "text/plain": [
       "     0                   1\n",
       "0  PC0    lp_lat_abst_fill\n",
       "1  PC1               eleva\n",
       "2  PC2               pmean\n",
       "3  PC3  statehiste1500_02n\n",
       "4  PC4       federalism_GT\n",
       "5  PC5         popd_1500AD"
      ]
     },
     "execution_count": 150,
     "metadata": {},
     "output_type": "execute_result"
    }
   ],
   "source": [
    "pca_vars = ['lp_lat_abst_fill','eleva','avg_temp','pmean','statehiste1500_02n','tropical','rugged']\n",
    "a,b = numPCA(df,vars)\n",
    "a"
   ]
  },
  {
   "cell_type": "code",
   "execution_count": 151,
   "metadata": {},
   "outputs": [
    {
     "name": "stdout",
     "output_type": "stream",
     "text": [
      "3\n",
      "[0.47913547 0.23569816 0.13145866]\n"
     ]
    },
    {
     "data": {
      "text/html": [
       "<div>\n",
       "<style scoped>\n",
       "    .dataframe tbody tr th:only-of-type {\n",
       "        vertical-align: middle;\n",
       "    }\n",
       "\n",
       "    .dataframe tbody tr th {\n",
       "        vertical-align: top;\n",
       "    }\n",
       "\n",
       "    .dataframe thead th {\n",
       "        text-align: right;\n",
       "    }\n",
       "</style>\n",
       "<table border=\"1\" class=\"dataframe\">\n",
       "  <thead>\n",
       "    <tr style=\"text-align: right;\">\n",
       "      <th></th>\n",
       "      <th>0</th>\n",
       "      <th>1</th>\n",
       "    </tr>\n",
       "  </thead>\n",
       "  <tbody>\n",
       "    <tr>\n",
       "      <th>0</th>\n",
       "      <td>PC0</td>\n",
       "      <td>tropical</td>\n",
       "    </tr>\n",
       "    <tr>\n",
       "      <th>1</th>\n",
       "      <td>PC1</td>\n",
       "      <td>eleva</td>\n",
       "    </tr>\n",
       "    <tr>\n",
       "      <th>2</th>\n",
       "      <td>PC2</td>\n",
       "      <td>statehiste1500_02n</td>\n",
       "    </tr>\n",
       "  </tbody>\n",
       "</table>\n",
       "</div>"
      ],
      "text/plain": [
       "     0                   1\n",
       "0  PC0            tropical\n",
       "1  PC1               eleva\n",
       "2  PC2  statehiste1500_02n"
      ]
     },
     "execution_count": 151,
     "metadata": {},
     "output_type": "execute_result"
    }
   ],
   "source": [
    "table, model = numPCA(df,pca_vars)\n",
    "table\n",
    "#table is buggy "
   ]
  },
  {
   "cell_type": "markdown",
   "metadata": {},
   "source": [
    "3 pca variables replace 5 Ivs"
   ]
  },
  {
   "cell_type": "code",
   "execution_count": null,
   "metadata": {},
   "outputs": [],
   "source": []
  },
  {
   "cell_type": "code",
   "execution_count": null,
   "metadata": {},
   "outputs": [],
   "source": []
  },
  {
   "cell_type": "code",
   "execution_count": 152,
   "metadata": {},
   "outputs": [
    {
     "data": {
      "image/png": "[encoded data removed]",
      "text/plain": [
       "<Figure size 432x288 with 1 Axes>"
      ]
     },
     "metadata": {
      "needs_background": "light"
     },
     "output_type": "display_data"
    }
   ],
   "source": [
    "#create a scree plot for pca using df[pca_vars]\n",
    "pca = PCA().fit(StandardScaler().fit_transform(df[pca_vars]))\n",
    "plt.plot(np.cumsum(pca.explained_variance_ratio_))\n",
    "plt.xlabel('number of components')\n",
    "plt.ylabel('cumulative explained variance');\n",
    "#2\\3 components explain 90% of the variance but i think the graph is wrong as in 2 =3 and 3=4 on the number of components"
   ]
  },
  {
   "cell_type": "code",
   "execution_count": 153,
   "metadata": {},
   "outputs": [
    {
     "data": {
      "image/png": "[encoded data removed]",
      "text/plain": [
       "<Figure size 432x288 with 1 Axes>"
      ]
     },
     "metadata": {
      "needs_background": "light"
     },
     "output_type": "display_data"
    }
   ],
   "source": [
    "pca = PCA().fit(StandardScaler().fit_transform(df[vars]))\n",
    "plt.plot(pca.explained_variance_)\n",
    "plt.xlabel('number of components')\n",
    "plt.ylabel('eigenvalues');"
   ]
  },
  {
   "cell_type": "markdown",
   "metadata": {},
   "source": [
    "5 components follow Kaiser rule (pick PCs with eigenvalues of at least 1)"
   ]
  },
  {
   "cell_type": "markdown",
   "metadata": {},
   "source": [
    "Based on this, [0.47913547 0.23569816 0.13145866 0.10089219 0.03359855 0.01533732\n",
    " 0.00387965]\n",
    "\n",
    "\n",
    "**I decided to use the first three components to explain the 7 variables related to argiculture / landscape**"
   ]
  },
  {
   "cell_type": "code",
   "execution_count": 154,
   "metadata": {},
   "outputs": [
    {
     "data": {
      "image/png": "[encoded data removed]",
      "text/plain": [
       "<Figure size 432x288 with 1 Axes>"
      ]
     },
     "metadata": {
      "needs_background": "light"
     },
     "output_type": "display_data"
    }
   ],
   "source": [
    "#pca biplot for df[pca_vars]\n",
    "pca = PCA().fit(StandardScaler().fit_transform(df[pca_vars]))\n",
    "pca_data = pca.transform(StandardScaler().fit_transform(df[pca_vars]))\n",
    "xs = pca_data[:,0]\n",
    "ys = pca_data[:,1]\n",
    "\n",
    "plt.scatter(xs,ys)\n",
    "plt.xlabel(\"PC1\")\n",
    "plt.ylabel(\"PC2\")\n",
    "\n",
    "for i, txt in enumerate(df2['country']):\n",
    "    plt.annotate(txt, (xs[i], ys[i]))\n",
    "    \n",
    "plt.show()"
   ]
  },
  {
   "cell_type": "markdown",
   "metadata": {},
   "source": [
    "I was just curious about how this would look\n",
    "\n",
    "**moving on from PCA**"
   ]
  },
  {
   "cell_type": "code",
   "execution_count": 155,
   "metadata": {},
   "outputs": [
    {
     "name": "stdout",
     "output_type": "stream",
     "text": [
      "Variance explained by each latent variable in PCA:  [0.47913547 0.23569816 0.13145866]\n"
     ]
    }
   ],
   "source": [
    "#define new variables after pca\n",
    "\n",
    "\n",
    "#remove pca_vars from vars\n",
    "for i in pca_vars:\n",
    "    vars.remove(i)\n",
    "\n",
    "\n",
    "vars.append(['PC0'])\n",
    "vars.append(['PC1'])\n",
    "vars.append(['PC2'])\n",
    "\n",
    "\n",
    "pca2 = PCA(n_components=3)\n",
    "\n",
    "# create 1 dimensional representation\n",
    "latent_vars = pca2.fit(StandardScaler().fit_transform(df[pca_vars]))\n",
    "print (\"Variance explained by each latent variable in PCA: \", pca2.explained_variance_ratio_)\n",
    "df['PC0'] = latent_vars.transform(StandardScaler().fit_transform(df[pca_vars]))[:,0]\n",
    "df['PC1'] = latent_vars.transform(StandardScaler().fit_transform(df[pca_vars]))[:,1]\n",
    "df['PC2'] = latent_vars.transform(StandardScaler().fit_transform(df[pca_vars]))[:,2]"
   ]
  },
  {
   "cell_type": "code",
   "execution_count": 156,
   "metadata": {},
   "outputs": [
    {
     "name": "stdout",
     "output_type": "stream",
     "text": [
      "(91, 20) (91,)\n",
      "(31, 20) (31,)\n"
     ]
    }
   ],
   "source": [
    "#train test split\n",
    "dfx = df[['federalism_GT',\n",
    " 'origtime2',\n",
    " 'Maddison_gdppc_1990_estimate_ln',\n",
    " 'lp_lat_abst_fill',\n",
    " 'mountains',\n",
    " 'log_ocdistance_new',\n",
    " 'irri_impact5',\n",
    " 'frstdays',\n",
    " 'sd_emeanclip',\n",
    " 'Urbanpopulationoftotalpop',\n",
    " 'dist2suitable_km_new',\n",
    " 'Fixedtelephonesubscriptionsp',\n",
    " 'Employmentinagricultureof',\n",
    " 'Accesstoelectricityofpopu',\n",
    " 'pln_sxHr_mean',\n",
    " 'agyears_ext',\n",
    " 'popd_1500AD','PC0','PC1','PC2']]\n",
    "\n",
    "# i tried using vars to get columns from df but it didnt work\n",
    "x_train, x_test, y_train, y_test = train_test_split(dfx, y, test_size=0.25, random_state=42)\n",
    "\n",
    "\n",
    "# make sure results make sense\n",
    "print (x_train.shape, y_train.shape)\n",
    "print (x_test.shape, y_test.shape)\n",
    "\n"
   ]
  },
  {
   "cell_type": "code",
   "execution_count": 157,
   "metadata": {},
   "outputs": [
    {
     "name": "stdout",
     "output_type": "stream",
     "text": [
      "cross val for test set\n",
      "lin score 0.5192413579194438\n",
      "MSE for test set\n",
      "MSE: lin  37.5443629013814\n",
      "Equation:\n",
      "1.36federalism_GT + 0.66origtime2 + 3.51Maddison_gdppc_1990_estimate_ln + 2.05mountains + 0.01log_ocdistance_new + 0.0irri_impact5 + 5.94['PC2']\n"
     ]
    },
    {
     "name": "stderr",
     "output_type": "stream",
     "text": [
      "/Library/Frameworks/Python.framework/Versions/3.10/lib/python3.10/site-packages/sklearn/linear_model/_base.py:141: FutureWarning: 'normalize' was deprecated in version 1.0 and will be removed in 1.2.\n",
      "If you wish to scale the data, use Pipeline with a StandardScaler in a preprocessing stage. To reproduce the previous behavior:\n",
      "\n",
      "from sklearn.pipeline import make_pipeline\n",
      "\n",
      "model = make_pipeline(StandardScaler(with_mean=False), LinearRegression())\n",
      "\n",
      "If you wish to pass a sample_weight parameter, you need to pass it as a fit parameter to each step of the pipeline as follows:\n",
      "\n",
      "kwargs = {s[0] + '__sample_weight': sample_weight for s in model.steps}\n",
      "model.fit(X, y, **kwargs)\n",
      "\n",
      "\n",
      "  warnings.warn(\n",
      "/Library/Frameworks/Python.framework/Versions/3.10/lib/python3.10/site-packages/sklearn/linear_model/_base.py:141: FutureWarning: 'normalize' was deprecated in version 1.0 and will be removed in 1.2.\n",
      "If you wish to scale the data, use Pipeline with a StandardScaler in a preprocessing stage. To reproduce the previous behavior:\n",
      "\n",
      "from sklearn.pipeline import make_pipeline\n",
      "\n",
      "model = make_pipeline(StandardScaler(with_mean=False), LinearRegression())\n",
      "\n",
      "If you wish to pass a sample_weight parameter, you need to pass it as a fit parameter to each step of the pipeline as follows:\n",
      "\n",
      "kwargs = {s[0] + '__sample_weight': sample_weight for s in model.steps}\n",
      "model.fit(X, y, **kwargs)\n",
      "\n",
      "\n",
      "  warnings.warn(\n",
      "/Library/Frameworks/Python.framework/Versions/3.10/lib/python3.10/site-packages/sklearn/linear_model/_base.py:141: FutureWarning: 'normalize' was deprecated in version 1.0 and will be removed in 1.2.\n",
      "If you wish to scale the data, use Pipeline with a StandardScaler in a preprocessing stage. To reproduce the previous behavior:\n",
      "\n",
      "from sklearn.pipeline import make_pipeline\n",
      "\n",
      "model = make_pipeline(StandardScaler(with_mean=False), LinearRegression())\n",
      "\n",
      "If you wish to pass a sample_weight parameter, you need to pass it as a fit parameter to each step of the pipeline as follows:\n",
      "\n",
      "kwargs = {s[0] + '__sample_weight': sample_weight for s in model.steps}\n",
      "model.fit(X, y, **kwargs)\n",
      "\n",
      "\n",
      "  warnings.warn(\n",
      "/Library/Frameworks/Python.framework/Versions/3.10/lib/python3.10/site-packages/sklearn/linear_model/_base.py:141: FutureWarning: 'normalize' was deprecated in version 1.0 and will be removed in 1.2.\n",
      "If you wish to scale the data, use Pipeline with a StandardScaler in a preprocessing stage. To reproduce the previous behavior:\n",
      "\n",
      "from sklearn.pipeline import make_pipeline\n",
      "\n",
      "model = make_pipeline(StandardScaler(with_mean=False), LinearRegression())\n",
      "\n",
      "If you wish to pass a sample_weight parameter, you need to pass it as a fit parameter to each step of the pipeline as follows:\n",
      "\n",
      "kwargs = {s[0] + '__sample_weight': sample_weight for s in model.steps}\n",
      "model.fit(X, y, **kwargs)\n",
      "\n",
      "\n",
      "  warnings.warn(\n"
     ]
    }
   ],
   "source": [
    "def lin (x_train, x_test, y_train, y_test,df,df2,vars):\n",
    "    # try both linear and polynomial of different degrees\n",
    "    linear_model = LinearRegression(normalize=True)\n",
    "    lin_1 = linear_model.fit(x_train, y_train)\n",
    "    lin1_predict = lin_1.predict(x_test)\n",
    "    print('cross val for test set')\n",
    "    lin_score=np.mean(cross_val_score(linear_model, df,df2, cv=3))\n",
    "    print(\"lin score\", lin_score)\n",
    "    print('MSE for test set')\n",
    "    print('MSE: lin ', mean_squared_error(lin1_predict, y_test))\n",
    "    \n",
    "    coefs = lin_1.coef_[lin_1.coef_ > .0000001]\n",
    "    equation_dict = {}\n",
    "    print(f'Equation:')\n",
    "    for i in range(len(coefs[:-1])):\n",
    "        print(f'{round(coefs[i], 2)}{vars[i]}', end=' + ')\n",
    "        equation_dict[coefs[i]] = vars[i]\n",
    "    print(f'{round(coefs[-1], 2)}{vars[-1]}')\n",
    "    equation_dict[coefs[-1]] = vars[-1]\n",
    "   \n",
    "        \n",
    " #lin(x_wrte_train, x_wrte_test, y_wrte_train, y_wrte_test,x_wrte,y_wrte,wrte) \n",
    "     \n",
    "lin(x_train, x_test, y_train, y_test,dfx,y,vars)       \n"
   ]
  },
  {
   "cell_type": "code",
   "execution_count": 158,
   "metadata": {},
   "outputs": [
    {
     "name": "stdout",
     "output_type": "stream",
     "text": [
      "cross val for test set\n",
      "lasso score 0.5040605673651282\n",
      "MSE for test set\n",
      "MSE: lasso  39.2606700623096\n",
      "R squared for test set\n",
      "R squared: lasso  -0.2867100469134167\n",
      "Lasso alpha:  0.08111308307896872\n",
      "Lasso coefficients:  [ 0.00000000e+00  0.00000000e+00 -0.00000000e+00 -5.55728952e+00\n",
      "  0.00000000e+00 -0.00000000e+00  2.11671048e-01 -1.57807792e-01\n",
      "  1.46898441e+00 -0.00000000e+00  0.00000000e+00 -9.22342704e-02\n",
      " -0.00000000e+00 -0.00000000e+00  0.00000000e+00 -9.29136159e-04\n",
      " -4.57493275e-02 -0.00000000e+00  5.52382196e-01 -0.00000000e+00]\n"
     ]
    },
    {
     "name": "stderr",
     "output_type": "stream",
     "text": [
      "/Library/Frameworks/Python.framework/Versions/3.10/lib/python3.10/site-packages/sklearn/linear_model/_base.py:141: FutureWarning: 'normalize' was deprecated in version 1.0 and will be removed in 1.2.\n",
      "If you wish to scale the data, use Pipeline with a StandardScaler in a preprocessing stage. To reproduce the previous behavior:\n",
      "\n",
      "from sklearn.pipeline import make_pipeline\n",
      "\n",
      "model = make_pipeline(StandardScaler(with_mean=False), Lasso())\n",
      "\n",
      "If you wish to pass a sample_weight parameter, you need to pass it as a fit parameter to each step of the pipeline as follows:\n",
      "\n",
      "kwargs = {s[0] + '__sample_weight': sample_weight for s in model.steps}\n",
      "model.fit(X, y, **kwargs)\n",
      "\n",
      "Set parameter alpha to: original_alpha * np.sqrt(n_samples). \n",
      "  warnings.warn(\n",
      "/Library/Frameworks/Python.framework/Versions/3.10/lib/python3.10/site-packages/sklearn/linear_model/_base.py:141: FutureWarning: 'normalize' was deprecated in version 1.0 and will be removed in 1.2.\n",
      "If you wish to scale the data, use Pipeline with a StandardScaler in a preprocessing stage. To reproduce the previous behavior:\n",
      "\n",
      "from sklearn.pipeline import make_pipeline\n",
      "\n",
      "model = make_pipeline(StandardScaler(with_mean=False), Lasso())\n",
      "\n",
      "If you wish to pass a sample_weight parameter, you need to pass it as a fit parameter to each step of the pipeline as follows:\n",
      "\n",
      "kwargs = {s[0] + '__sample_weight': sample_weight for s in model.steps}\n",
      "model.fit(X, y, **kwargs)\n",
      "\n",
      "Set parameter alpha to: original_alpha * np.sqrt(n_samples). \n",
      "  warnings.warn(\n",
      "/Library/Frameworks/Python.framework/Versions/3.10/lib/python3.10/site-packages/sklearn/linear_model/_base.py:141: FutureWarning: 'normalize' was deprecated in version 1.0 and will be removed in 1.2.\n",
      "If you wish to scale the data, use Pipeline with a StandardScaler in a preprocessing stage. To reproduce the previous behavior:\n",
      "\n",
      "from sklearn.pipeline import make_pipeline\n",
      "\n",
      "model = make_pipeline(StandardScaler(with_mean=False), Lasso())\n",
      "\n",
      "If you wish to pass a sample_weight parameter, you need to pass it as a fit parameter to each step of the pipeline as follows:\n",
      "\n",
      "kwargs = {s[0] + '__sample_weight': sample_weight for s in model.steps}\n",
      "model.fit(X, y, **kwargs)\n",
      "\n",
      "Set parameter alpha to: original_alpha * np.sqrt(n_samples). \n",
      "  warnings.warn(\n",
      "/Library/Frameworks/Python.framework/Versions/3.10/lib/python3.10/site-packages/sklearn/linear_model/_base.py:141: FutureWarning: 'normalize' was deprecated in version 1.0 and will be removed in 1.2.\n",
      "If you wish to scale the data, use Pipeline with a StandardScaler in a preprocessing stage. To reproduce the previous behavior:\n",
      "\n",
      "from sklearn.pipeline import make_pipeline\n",
      "\n",
      "model = make_pipeline(StandardScaler(with_mean=False), Lasso())\n",
      "\n",
      "If you wish to pass a sample_weight parameter, you need to pass it as a fit parameter to each step of the pipeline as follows:\n",
      "\n",
      "kwargs = {s[0] + '__sample_weight': sample_weight for s in model.steps}\n",
      "model.fit(X, y, **kwargs)\n",
      "\n",
      "Set parameter alpha to: original_alpha * np.sqrt(n_samples). \n",
      "  warnings.warn(\n"
     ]
    }
   ],
   "source": [
    "#code lasso regression for xtrain y train / test\n",
    "lasso_model = LassoCV(alphas = np.logspace(-4, 4, 100), cv=3, normalize=True)\n",
    "lasso_model.fit(x_train, y_train)\n",
    "lasso_predict = lasso_model.predict(x_test)\n",
    "print('cross val for test set')\n",
    "lasso_score=np.mean(cross_val_score(lasso_model, x_train,y_train, cv=3))\n",
    "print(\"lasso score\", lasso_score)\n",
    "print('MSE for test set')\n",
    "print('MSE: lasso ', mean_squared_error(lasso_predict, y_test))\n",
    "print('R squared for test set')\n",
    "print('R squared: lasso ', r2_score(lasso_predict, y_test))\n",
    "print('Lasso alpha: ', lasso_model.alpha_)\n",
    "print('Lasso coefficients: ', lasso_model.coef_)"
   ]
  }
 ],
 "metadata": {
  "kernelspec": {
   "display_name": "Python 3.10.5 64-bit",
   "language": "python",
   "name": "python3"
  },
  "language_info": {
   "codemirror_mode": {
    "name": "ipython",
    "version": 3
   },
   "file_extension": ".py",
   "mimetype": "text/x-python",
   "name": "python",
   "nbconvert_exporter": "python",
   "pygments_lexer": "ipython3",
   "version": "3.10.5"
  },
  "orig_nbformat": 4,
  "vscode": {
   "interpreter": {
    "hash": "aee8b7b246df8f9039afb4144a1f6fd8d2ca17a180786b69acc140d282b71a49"
   }
  }
 },
 "nbformat": 4,
 "nbformat_minor": 2
}
