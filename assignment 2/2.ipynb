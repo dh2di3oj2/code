{
 "cells": [
  {
   "cell_type": "code",
   "execution_count": 2,
   "metadata": {},
   "outputs": [],
   "source": [
    "\n",
    "import pandas as pd\n",
    "import numpy as np\n",
    "from sklearn.preprocessing import StandardScaler\n",
    "from sklearn.decomposition import PCA\n",
    "from sklearn.model_selection import train_test_split\n",
    "from sklearn.linear_model import LinearRegression \n",
    "from sklearn.preprocessing import PolynomialFeatures \n",
    "from sklearn.linear_model import Lasso\n",
    "import matplotlib.pyplot as plt\n",
    "from sklearn.metrics import mean_squared_error, r2_score\n",
    "from sklearn.model_selection import cross_val_score\n",
    "\n",
    "\n"
   ]
  },
  {
   "cell_type": "code",
   "execution_count": 3,
   "metadata": {},
   "outputs": [
    {
     "data": {
      "text/plain": [
       "<bound method DataFrame.info of                  l_names l_team18 l_pos18  l_gp18  l_points18  draft_pick  \\\n",
       "0         Brandon LaFell      Oak      WR       6   46.000000         NaN   \n",
       "1        Lance Kendricks       NE      TE      16   47.330002         NaN   \n",
       "2           Cody Kessler      Phi      QB       5   47.660000         NaN   \n",
       "3    James O'Shaughnessy      Jax      TE      14   48.270000         NaN   \n",
       "4         D.J. Chark Jr.      Jax      WR      11   48.400002         NaN   \n",
       "..                   ...      ...     ...     ...         ...         ...   \n",
       "166      DeAndre Hopkins      Hou      WR      16  384.100010        31.0   \n",
       "167      Ezekiel Elliott      Dal      RB      15  400.200010         1.0   \n",
       "168         Alvin Kamara       NO      RB      15  419.370000        38.0   \n",
       "169       Todd Gurley II      LAR      RB      14  422.769990         7.0   \n",
       "170       Saquon Barkley      NYG      RB      16  427.769990        15.0   \n",
       "\n",
       "     cost l_team17 l_pos17  l_gp17  ...  pick17  cost17  off_linefo18  \\\n",
       "0     NaN      Cin      WR    16.0  ...   228.0     2.0            13   \n",
       "1     NaN       GB      TE    16.0  ...     NaN     NaN             3   \n",
       "2     NaN      NaN     NaN     NaN  ...     NaN     NaN            19   \n",
       "3     NaN      NaN     NaN     NaN  ...     NaN     NaN            21   \n",
       "4     NaN      NaN     NaN     NaN  ...     NaN     NaN            21   \n",
       "..    ...      ...     ...     ...  ...     ...     ...           ...   \n",
       "166  52.0      Hou      WR    15.0  ...   119.0    30.0            27   \n",
       "167  54.0      Dal      RB    10.0  ...    19.0    36.0             8   \n",
       "168  58.0       NO      RB    16.0  ...   214.0     1.0             2   \n",
       "169  67.0      LAR      RB    15.0  ...    51.0    40.0             1   \n",
       "170  54.0      NYG      RB     NaN  ...     NaN     NaN            29   \n",
       "\n",
       "     off_linepff18  off_passydsg17  off_runydsg17  off_ptsg17  def_ydsg17  \\\n",
       "0                7       226.89999      97.099998   18.799999   350.10001   \n",
       "1               11       276.10001     118.100000   28.600000   366.00000   \n",
       "2                1       233.60001     132.200000   28.600000   306.50000   \n",
       "3               15       224.60001     141.399990   26.100000   286.10001   \n",
       "4               15       224.60001     141.399990   26.100000   286.10001   \n",
       "..             ...             ...            ...         ...         ...   \n",
       "166             32       204.89999     115.100000   21.100000   346.60001   \n",
       "167              2       196.30000     135.600010   22.100000   318.10001   \n",
       "168              6       261.79999     129.399990   28.000000   336.50000   \n",
       "169             10       239.39999     122.100000   29.900000   339.60001   \n",
       "170             25       217.39999      96.800003   15.400000   373.20001   \n",
       "\n",
       "     def_ptsg17     train  \n",
       "0     23.299999  0.868933  \n",
       "1     18.500000  0.555103  \n",
       "2     18.400000  0.875991  \n",
       "3     16.799999  0.892759  \n",
       "4     16.799999  0.584466  \n",
       "..          ...       ...  \n",
       "166   27.299999  0.667398  \n",
       "167   20.799999  0.629151  \n",
       "168   20.400000  0.532902  \n",
       "169   20.600000  0.727590  \n",
       "170   24.299999  0.635873  \n",
       "\n",
       "[171 rows x 38 columns]>"
      ]
     },
     "execution_count": 3,
     "metadata": {},
     "output_type": "execute_result"
    }
   ],
   "source": [
    "df = pd.read_csv('train75.csv')\n",
    "df.info\n",
    "\n"
   ]
  },
  {
   "cell_type": "code",
   "execution_count": 4,
   "metadata": {},
   "outputs": [],
   "source": [
    "df = df.drop(columns=['cost','cost17','draft_pick','l_owners17','pick17','train','l_2pt17'])"
   ]
  },
  {
   "cell_type": "code",
   "execution_count": 5,
   "metadata": {},
   "outputs": [],
   "source": [
    "df_wr = df[df.l_pos18 == \"WR\"]\n",
    "df_rb = df[df.l_pos18 == \"RB\"]\n",
    "df_qb = df[df.l_pos18 == \"QB\"]\n",
    "df_te = df[df.l_pos18 == \"TE\"]\n",
    "\n",
    "df_wrte = pd.concat([df_wr, df_te])\n",
    "\n",
    "\n",
    "\n",
    "df_wrte=df_wrte.dropna()\n",
    "df_rb=df_rb.dropna()\n",
    "df_qb=df_qb.dropna()\n",
    "df_te=df_te.dropna()\n",
    "\n",
    "\n"
   ]
  },
  {
   "cell_type": "code",
   "execution_count": 6,
   "metadata": {},
   "outputs": [],
   "source": [
    "# create set of variables to pass to PCA, x's only / exclude Y\n",
    "vars = ['l_points17','l_gp17','l_actual17','l_passyds17','l_passtd17','l_passint17','l_rushyds17','l_rushtd17','l_rush1st17','l_recepts17','l_recyds17','l_rectd17','l_rec1st17','l_returnyds17','l_returntd17','l_fumble17','off_passydsg17','off_runydsg17']\n",
    "x_wrte = df_wrte[vars]\n",
    "y_wrte = df_wrte[['l_points18']]\n",
    "\n",
    "x_qb = df_qb[vars]\n",
    "y_qb = df_qb[['l_points18']]\n",
    "\n",
    "x_rb = df_rb[vars]\n",
    "y_rb = df_rb[['l_points18']]\n",
    "\n"
   ]
  },
  {
   "cell_type": "code",
   "execution_count": 7,
   "metadata": {},
   "outputs": [
    {
     "data": {
      "text/plain": [
       "(array([40., 38., 26., 20., 15.,  9.,  7.,  7.,  5.,  4.]),\n",
       " array([ 46.      ,  84.176999, 122.353998, 160.530997, 198.707996,\n",
       "        236.884995, 275.061994, 313.238993, 351.415992, 389.592991,\n",
       "        427.76999 ]),\n",
       " <BarContainer object of 10 artists>)"
      ]
     },
     "execution_count": 7,
     "metadata": {},
     "output_type": "execute_result"
    },
    {
     "data": {
      "image/png": "[encoded data removed]",
      "text/plain": [
       "<Figure size 432x288 with 1 Axes>"
      ]
     },
     "metadata": {
      "needs_background": "light"
     },
     "output_type": "display_data"
    }
   ],
   "source": [
    "plt.hist(df.l_points18) "
   ]
  },
  {
   "cell_type": "code",
   "execution_count": 8,
   "metadata": {},
   "outputs": [
    {
     "name": "stdout",
     "output_type": "stream",
     "text": [
      "157.3364918888889\n",
      "133.47\n"
     ]
    },
    {
     "data": {
      "text/plain": [
       "<bound method NDFrame._add_numeric_operations.<locals>.std of 0       46.000000\n",
       "1       47.330002\n",
       "2       47.660000\n",
       "3       48.270000\n",
       "4       48.400002\n",
       "          ...    \n",
       "166    384.100010\n",
       "167    400.200010\n",
       "168    419.370000\n",
       "169    422.769990\n",
       "170    427.769990\n",
       "Name: l_points18, Length: 171, dtype: float64>"
      ]
     },
     "execution_count": 8,
     "metadata": {},
     "output_type": "execute_result"
    }
   ],
   "source": [
    "print(df.l_points18.mean())\n",
    "print(df.l_points18.median())\n",
    "df.l_points18.std"
   ]
  },
  {
   "cell_type": "code",
   "execution_count": 9,
   "metadata": {},
   "outputs": [],
   "source": [
    "x_wrte_norm = StandardScaler().fit_transform(x_wrte)\n",
    "x_qb_norm = StandardScaler().fit_transform(x_qb)\n",
    "x_rb_norm = StandardScaler().fit_transform(x_rb)\n",
    "\n"
   ]
  },
  {
   "cell_type": "code",
   "execution_count": 17,
   "metadata": {},
   "outputs": [],
   "source": [
    "def numPCA(x,v):\n",
    "    pca = PCA(.90)\n",
    "    model = pca.fit(StandardScaler().fit_transform(x[v]))\n",
    "    n_pcs = pca.n_components_\n",
    "        # LIST COMPREHENSION HERE\n",
    "    most_important = [np.abs(model.components_[i]).argmax() for i in range(n_pcs)]\n",
    "    #print(model.components_)\n",
    "    initial_feature_names = v\n",
    "    # get the names\n",
    "    most_important_names = [initial_feature_names[most_important[i]] for i in range(n_pcs)]\n",
    "\n",
    "    # LIST COMPREHENSION HERE AGAIN\n",
    "    dic = {'PC{}'.format(i): most_important_names[i] for i in range(n_pcs)}\n",
    "\n",
    "    # build the dataframe\n",
    "    df2 = pd.DataFrame(dic.items())\n",
    "    print (n_pcs)\n",
    "    print (pca.explained_variance_ratio_)\n",
    "    #print(df2)\n",
    "    return  df2\n",
    "\n",
    "vpass =[]\n",
    "for i in df.columns.tolist():\n",
    "    if ('td') in i:\n",
    "        vpass.append(i)"
   ]
  },
  {
   "cell_type": "code",
   "execution_count": null,
   "metadata": {},
   "outputs": [],
   "source": []
  },
  {
   "cell_type": "code",
   "execution_count": 11,
   "metadata": {},
   "outputs": [
    {
     "name": "stdout",
     "output_type": "stream",
     "text": [
      "3\n",
      "[0.38476426 0.3365185  0.27871724]\n"
     ]
    }
   ],
   "source": [
    "abcde= numPCA(x_wrte,vpass)\n"
   ]
  },
  {
   "cell_type": "code",
   "execution_count": 12,
   "metadata": {},
   "outputs": [
    {
     "name": "stdout",
     "output_type": "stream",
     "text": [
      "5\n",
      "[0.35699219 0.28955011 0.16288295 0.0888593  0.05076722]\n"
     ]
    },
    {
     "data": {
      "text/html": [
       "<div>\n",
       "<style scoped>\n",
       "    .dataframe tbody tr th:only-of-type {\n",
       "        vertical-align: middle;\n",
       "    }\n",
       "\n",
       "    .dataframe tbody tr th {\n",
       "        vertical-align: top;\n",
       "    }\n",
       "\n",
       "    .dataframe thead th {\n",
       "        text-align: right;\n",
       "    }\n",
       "</style>\n",
       "<table border=\"1\" class=\"dataframe\">\n",
       "  <thead>\n",
       "    <tr style=\"text-align: right;\">\n",
       "      <th></th>\n",
       "      <th>0</th>\n",
       "      <th>1</th>\n",
       "    </tr>\n",
       "  </thead>\n",
       "  <tbody>\n",
       "    <tr>\n",
       "      <th>0</th>\n",
       "      <td>PC0</td>\n",
       "      <td>l_rush1st17</td>\n",
       "    </tr>\n",
       "    <tr>\n",
       "      <th>1</th>\n",
       "      <td>PC1</td>\n",
       "      <td>off_passydsg17</td>\n",
       "    </tr>\n",
       "    <tr>\n",
       "      <th>2</th>\n",
       "      <td>PC2</td>\n",
       "      <td>l_gp17</td>\n",
       "    </tr>\n",
       "    <tr>\n",
       "      <th>3</th>\n",
       "      <td>PC3</td>\n",
       "      <td>l_actual17</td>\n",
       "    </tr>\n",
       "    <tr>\n",
       "      <th>4</th>\n",
       "      <td>PC4</td>\n",
       "      <td>l_actual17</td>\n",
       "    </tr>\n",
       "  </tbody>\n",
       "</table>\n",
       "</div>"
      ],
      "text/plain": [
       "     0               1\n",
       "0  PC0     l_rush1st17\n",
       "1  PC1  off_passydsg17\n",
       "2  PC2          l_gp17\n",
       "3  PC3      l_actual17\n",
       "4  PC4      l_actual17"
      ]
     },
     "execution_count": 12,
     "metadata": {},
     "output_type": "execute_result"
    }
   ],
   "source": [
    "numPCA(x_qb,vars)\n",
    "\n"
   ]
  },
  {
   "cell_type": "code",
   "execution_count": 13,
   "metadata": {},
   "outputs": [
    {
     "name": "stdout",
     "output_type": "stream",
     "text": [
      "6\n",
      "[0.4072918  0.2194014  0.11510606 0.08356412 0.05315177 0.03926797]\n"
     ]
    },
    {
     "data": {
      "text/html": [
       "<div>\n",
       "<style scoped>\n",
       "    .dataframe tbody tr th:only-of-type {\n",
       "        vertical-align: middle;\n",
       "    }\n",
       "\n",
       "    .dataframe tbody tr th {\n",
       "        vertical-align: top;\n",
       "    }\n",
       "\n",
       "    .dataframe thead th {\n",
       "        text-align: right;\n",
       "    }\n",
       "</style>\n",
       "<table border=\"1\" class=\"dataframe\">\n",
       "  <thead>\n",
       "    <tr style=\"text-align: right;\">\n",
       "      <th></th>\n",
       "      <th>0</th>\n",
       "      <th>1</th>\n",
       "    </tr>\n",
       "  </thead>\n",
       "  <tbody>\n",
       "    <tr>\n",
       "      <th>0</th>\n",
       "      <td>PC0</td>\n",
       "      <td>l_points17</td>\n",
       "    </tr>\n",
       "    <tr>\n",
       "      <th>1</th>\n",
       "      <td>PC1</td>\n",
       "      <td>l_passtd17</td>\n",
       "    </tr>\n",
       "    <tr>\n",
       "      <th>2</th>\n",
       "      <td>PC2</td>\n",
       "      <td>off_passydsg17</td>\n",
       "    </tr>\n",
       "    <tr>\n",
       "      <th>3</th>\n",
       "      <td>PC3</td>\n",
       "      <td>l_fumble17</td>\n",
       "    </tr>\n",
       "    <tr>\n",
       "      <th>4</th>\n",
       "      <td>PC4</td>\n",
       "      <td>off_runydsg17</td>\n",
       "    </tr>\n",
       "    <tr>\n",
       "      <th>5</th>\n",
       "      <td>PC5</td>\n",
       "      <td>off_passydsg17</td>\n",
       "    </tr>\n",
       "  </tbody>\n",
       "</table>\n",
       "</div>"
      ],
      "text/plain": [
       "     0               1\n",
       "0  PC0      l_points17\n",
       "1  PC1      l_passtd17\n",
       "2  PC2  off_passydsg17\n",
       "3  PC3      l_fumble17\n",
       "4  PC4   off_runydsg17\n",
       "5  PC5  off_passydsg17"
      ]
     },
     "execution_count": 13,
     "metadata": {},
     "output_type": "execute_result"
    }
   ],
   "source": [
    "numPCA(x_rb,vars)\n"
   ]
  },
  {
   "cell_type": "code",
   "execution_count": 14,
   "metadata": {},
   "outputs": [],
   "source": [
    "wrte = ['l_points17','l_rushyds17','l_returntd17','l_passint17','l_passyds17','l_fumble17','l_gp17','l_rushtd17','l_rectd17','l_actual17','l_returntd17']\n",
    "qb = ['l_rushyds17','l_passyds17','l_gp17','l_actual17','l_fumble17','l_passint17','l_gp17']\n",
    "rb = ['l_points17','l_passtd17','l_rushyds17','l_fumble17','l_gp17','l_rectd17','l_returntd17','l_fumble17','l_rushtd17']\n",
    "x_wrte = x_wrte[wrte]\n",
    "x_qb = x_qb[qb]\n",
    "x_rb = x_rb[rb]"
   ]
  },
  {
   "cell_type": "markdown",
   "metadata": {},
   "source": []
  },
  {
   "cell_type": "code",
   "execution_count": 15,
   "metadata": {},
   "outputs": [
    {
     "name": "stdout",
     "output_type": "stream",
     "text": [
      "(56, 11) (56, 1)\n",
      "(19, 11) (19, 1)\n",
      "(21, 9) (21, 1)\n",
      "(8, 9) (8, 1)\n",
      "(6, 7) (6, 1)\n",
      "(3, 7) (3, 1)\n"
     ]
    }
   ],
   "source": [
    "#SPLIT\n",
    "\n",
    "x_wrte_train, x_wrte_test, y_wrte_train, y_wrte_test = train_test_split(x_wrte, y_wrte, test_size=0.25, random_state=13)\n",
    "print (x_wrte_train.shape, y_wrte_train.shape)\n",
    "print (x_wrte_test.shape, y_wrte_test.shape)\n",
    "\n",
    "x_rb_train, x_rb_test, y_rb_train, y_rb_test = train_test_split(x_rb, y_rb, test_size=0.25, random_state=13)\n",
    "print (x_rb_train.shape, y_rb_train.shape)\n",
    "print (x_rb_test.shape, y_rb_test.shape)\n",
    "\n",
    "x_qb_train, x_qb_test, y_qb_train, y_qb_test = train_test_split(x_qb, y_qb, test_size=0.25, random_state=13)\n",
    "print (x_qb_train.shape, y_qb_train.shape)\n",
    "print (x_qb_test.shape, y_qb_test.shape)"
   ]
  },
  {
   "cell_type": "code",
   "execution_count": 16,
   "metadata": {},
   "outputs": [
    {
     "name": "stdout",
     "output_type": "stream",
     "text": [
      "\n",
      "wr and te players\n",
      "\n",
      "cross val for test set\n",
      "lin score -4.580696142628454\n",
      "MSE for test set\n",
      "MSE: lin  3465.491399510602\n",
      "Equation:\n",
      "1.08l_points17 + 42.64l_rushyds17 + 37.01l_returntd17 + 0.1l_passint17 + 42.64l_returntd17\n",
      "\n",
      "\n",
      "qb players\n",
      "cross val for test set\n",
      "lin score -123.73402834264412\n",
      "MSE for test set\n",
      "MSE: lin  63393.91312097042\n",
      "Equation:\n",
      "0.19l_rushyds17 + 3.48l_gp17\n",
      "\n",
      "\n",
      "rb players\n",
      "cross val for test set\n",
      "lin score -15.417837835545626\n",
      "MSE for test set\n",
      "MSE: lin  15637.77651966461\n",
      "Equation:\n",
      "0.31l_points17 + 18.0l_passtd17 + 39.41l_rushyds17 + 340.04l_fumble17 + 18.0l_rushtd17\n"
     ]
    },
    {
     "name": "stderr",
     "output_type": "stream",
     "text": [
      "/Library/Frameworks/Python.framework/Versions/3.10/lib/python3.10/site-packages/sklearn/linear_model/_base.py:141: FutureWarning: 'normalize' was deprecated in version 1.0 and will be removed in 1.2.\n",
      "If you wish to scale the data, use Pipeline with a StandardScaler in a preprocessing stage. To reproduce the previous behavior:\n",
      "\n",
      "from sklearn.pipeline import make_pipeline\n",
      "\n",
      "model = make_pipeline(StandardScaler(with_mean=False), LinearRegression())\n",
      "\n",
      "If you wish to pass a sample_weight parameter, you need to pass it as a fit parameter to each step of the pipeline as follows:\n",
      "\n",
      "kwargs = {s[0] + '__sample_weight': sample_weight for s in model.steps}\n",
      "model.fit(X, y, **kwargs)\n",
      "\n",
      "\n",
      "  warnings.warn(\n",
      "/Library/Frameworks/Python.framework/Versions/3.10/lib/python3.10/site-packages/sklearn/linear_model/_base.py:141: FutureWarning: 'normalize' was deprecated in version 1.0 and will be removed in 1.2.\n",
      "If you wish to scale the data, use Pipeline with a StandardScaler in a preprocessing stage. To reproduce the previous behavior:\n",
      "\n",
      "from sklearn.pipeline import make_pipeline\n",
      "\n",
      "model = make_pipeline(StandardScaler(with_mean=False), LinearRegression())\n",
      "\n",
      "If you wish to pass a sample_weight parameter, you need to pass it as a fit parameter to each step of the pipeline as follows:\n",
      "\n",
      "kwargs = {s[0] + '__sample_weight': sample_weight for s in model.steps}\n",
      "model.fit(X, y, **kwargs)\n",
      "\n",
      "\n",
      "  warnings.warn(\n",
      "/Library/Frameworks/Python.framework/Versions/3.10/lib/python3.10/site-packages/sklearn/linear_model/_base.py:141: FutureWarning: 'normalize' was deprecated in version 1.0 and will be removed in 1.2.\n",
      "If you wish to scale the data, use Pipeline with a StandardScaler in a preprocessing stage. To reproduce the previous behavior:\n",
      "\n",
      "from sklearn.pipeline import make_pipeline\n",
      "\n",
      "model = make_pipeline(StandardScaler(with_mean=False), LinearRegression())\n",
      "\n",
      "If you wish to pass a sample_weight parameter, you need to pass it as a fit parameter to each step of the pipeline as follows:\n",
      "\n",
      "kwargs = {s[0] + '__sample_weight': sample_weight for s in model.steps}\n",
      "model.fit(X, y, **kwargs)\n",
      "\n",
      "\n",
      "  warnings.warn(\n",
      "/Library/Frameworks/Python.framework/Versions/3.10/lib/python3.10/site-packages/sklearn/linear_model/_base.py:141: FutureWarning: 'normalize' was deprecated in version 1.0 and will be removed in 1.2.\n",
      "If you wish to scale the data, use Pipeline with a StandardScaler in a preprocessing stage. To reproduce the previous behavior:\n",
      "\n",
      "from sklearn.pipeline import make_pipeline\n",
      "\n",
      "model = make_pipeline(StandardScaler(with_mean=False), LinearRegression())\n",
      "\n",
      "If you wish to pass a sample_weight parameter, you need to pass it as a fit parameter to each step of the pipeline as follows:\n",
      "\n",
      "kwargs = {s[0] + '__sample_weight': sample_weight for s in model.steps}\n",
      "model.fit(X, y, **kwargs)\n",
      "\n",
      "\n",
      "  warnings.warn(\n",
      "/Library/Frameworks/Python.framework/Versions/3.10/lib/python3.10/site-packages/sklearn/linear_model/_base.py:141: FutureWarning: 'normalize' was deprecated in version 1.0 and will be removed in 1.2.\n",
      "If you wish to scale the data, use Pipeline with a StandardScaler in a preprocessing stage. To reproduce the previous behavior:\n",
      "\n",
      "from sklearn.pipeline import make_pipeline\n",
      "\n",
      "model = make_pipeline(StandardScaler(with_mean=False), LinearRegression())\n",
      "\n",
      "If you wish to pass a sample_weight parameter, you need to pass it as a fit parameter to each step of the pipeline as follows:\n",
      "\n",
      "kwargs = {s[0] + '__sample_weight': sample_weight for s in model.steps}\n",
      "model.fit(X, y, **kwargs)\n",
      "\n",
      "\n",
      "  warnings.warn(\n",
      "/Library/Frameworks/Python.framework/Versions/3.10/lib/python3.10/site-packages/sklearn/linear_model/_base.py:141: FutureWarning: 'normalize' was deprecated in version 1.0 and will be removed in 1.2.\n",
      "If you wish to scale the data, use Pipeline with a StandardScaler in a preprocessing stage. To reproduce the previous behavior:\n",
      "\n",
      "from sklearn.pipeline import make_pipeline\n",
      "\n",
      "model = make_pipeline(StandardScaler(with_mean=False), LinearRegression())\n",
      "\n",
      "If you wish to pass a sample_weight parameter, you need to pass it as a fit parameter to each step of the pipeline as follows:\n",
      "\n",
      "kwargs = {s[0] + '__sample_weight': sample_weight for s in model.steps}\n",
      "model.fit(X, y, **kwargs)\n",
      "\n",
      "\n",
      "  warnings.warn(\n",
      "/Library/Frameworks/Python.framework/Versions/3.10/lib/python3.10/site-packages/sklearn/linear_model/_base.py:141: FutureWarning: 'normalize' was deprecated in version 1.0 and will be removed in 1.2.\n",
      "If you wish to scale the data, use Pipeline with a StandardScaler in a preprocessing stage. To reproduce the previous behavior:\n",
      "\n",
      "from sklearn.pipeline import make_pipeline\n",
      "\n",
      "model = make_pipeline(StandardScaler(with_mean=False), LinearRegression())\n",
      "\n",
      "If you wish to pass a sample_weight parameter, you need to pass it as a fit parameter to each step of the pipeline as follows:\n",
      "\n",
      "kwargs = {s[0] + '__sample_weight': sample_weight for s in model.steps}\n",
      "model.fit(X, y, **kwargs)\n",
      "\n",
      "\n",
      "  warnings.warn(\n",
      "/Library/Frameworks/Python.framework/Versions/3.10/lib/python3.10/site-packages/sklearn/linear_model/_base.py:141: FutureWarning: 'normalize' was deprecated in version 1.0 and will be removed in 1.2.\n",
      "If you wish to scale the data, use Pipeline with a StandardScaler in a preprocessing stage. To reproduce the previous behavior:\n",
      "\n",
      "from sklearn.pipeline import make_pipeline\n",
      "\n",
      "model = make_pipeline(StandardScaler(with_mean=False), LinearRegression())\n",
      "\n",
      "If you wish to pass a sample_weight parameter, you need to pass it as a fit parameter to each step of the pipeline as follows:\n",
      "\n",
      "kwargs = {s[0] + '__sample_weight': sample_weight for s in model.steps}\n",
      "model.fit(X, y, **kwargs)\n",
      "\n",
      "\n",
      "  warnings.warn(\n",
      "/Library/Frameworks/Python.framework/Versions/3.10/lib/python3.10/site-packages/sklearn/linear_model/_base.py:141: FutureWarning: 'normalize' was deprecated in version 1.0 and will be removed in 1.2.\n",
      "If you wish to scale the data, use Pipeline with a StandardScaler in a preprocessing stage. To reproduce the previous behavior:\n",
      "\n",
      "from sklearn.pipeline import make_pipeline\n",
      "\n",
      "model = make_pipeline(StandardScaler(with_mean=False), LinearRegression())\n",
      "\n",
      "If you wish to pass a sample_weight parameter, you need to pass it as a fit parameter to each step of the pipeline as follows:\n",
      "\n",
      "kwargs = {s[0] + '__sample_weight': sample_weight for s in model.steps}\n",
      "model.fit(X, y, **kwargs)\n",
      "\n",
      "\n",
      "  warnings.warn(\n",
      "/Library/Frameworks/Python.framework/Versions/3.10/lib/python3.10/site-packages/sklearn/linear_model/_base.py:141: FutureWarning: 'normalize' was deprecated in version 1.0 and will be removed in 1.2.\n",
      "If you wish to scale the data, use Pipeline with a StandardScaler in a preprocessing stage. To reproduce the previous behavior:\n",
      "\n",
      "from sklearn.pipeline import make_pipeline\n",
      "\n",
      "model = make_pipeline(StandardScaler(with_mean=False), LinearRegression())\n",
      "\n",
      "If you wish to pass a sample_weight parameter, you need to pass it as a fit parameter to each step of the pipeline as follows:\n",
      "\n",
      "kwargs = {s[0] + '__sample_weight': sample_weight for s in model.steps}\n",
      "model.fit(X, y, **kwargs)\n",
      "\n",
      "\n",
      "  warnings.warn(\n",
      "/Library/Frameworks/Python.framework/Versions/3.10/lib/python3.10/site-packages/sklearn/linear_model/_base.py:141: FutureWarning: 'normalize' was deprecated in version 1.0 and will be removed in 1.2.\n",
      "If you wish to scale the data, use Pipeline with a StandardScaler in a preprocessing stage. To reproduce the previous behavior:\n",
      "\n",
      "from sklearn.pipeline import make_pipeline\n",
      "\n",
      "model = make_pipeline(StandardScaler(with_mean=False), LinearRegression())\n",
      "\n",
      "If you wish to pass a sample_weight parameter, you need to pass it as a fit parameter to each step of the pipeline as follows:\n",
      "\n",
      "kwargs = {s[0] + '__sample_weight': sample_weight for s in model.steps}\n",
      "model.fit(X, y, **kwargs)\n",
      "\n",
      "\n",
      "  warnings.warn(\n",
      "/Library/Frameworks/Python.framework/Versions/3.10/lib/python3.10/site-packages/sklearn/linear_model/_base.py:141: FutureWarning: 'normalize' was deprecated in version 1.0 and will be removed in 1.2.\n",
      "If you wish to scale the data, use Pipeline with a StandardScaler in a preprocessing stage. To reproduce the previous behavior:\n",
      "\n",
      "from sklearn.pipeline import make_pipeline\n",
      "\n",
      "model = make_pipeline(StandardScaler(with_mean=False), LinearRegression())\n",
      "\n",
      "If you wish to pass a sample_weight parameter, you need to pass it as a fit parameter to each step of the pipeline as follows:\n",
      "\n",
      "kwargs = {s[0] + '__sample_weight': sample_weight for s in model.steps}\n",
      "model.fit(X, y, **kwargs)\n",
      "\n",
      "\n",
      "  warnings.warn(\n"
     ]
    }
   ],
   "source": [
    "\n",
    "def lin (x_train, x_test, y_train, y_test,df,df2,vars):\n",
    "    # try both linear and polynomial of different degrees\n",
    "    linear_model = LinearRegression(normalize=True)\n",
    "    lin_1 = linear_model.fit(x_train, y_train)\n",
    "    lin1_predict = lin_1.predict(x_test)\n",
    "    print('cross val for test set')\n",
    "    lin_score=np.mean(cross_val_score(linear_model, df[vars],df2, cv=3))\n",
    "    print(\"lin score\", lin_score)\n",
    "    print('MSE for test set')\n",
    "    print('MSE: lin ', mean_squared_error(lin1_predict, y_test))\n",
    "    \n",
    "    coefs = lin_1.coef_[lin_1.coef_ > .000001]\n",
    "    equation_dict = {}\n",
    "    print(f'Equation:')\n",
    "    for i in range(len(coefs[:-1])):\n",
    "        print(f'{round(coefs[i], 2)}{vars[i]}', end=' + ')\n",
    "        equation_dict[coefs[i]] = vars[i]\n",
    "    print(f'{round(coefs[-1], 2)}{vars[-1]}')\n",
    "    equation_dict[coefs[-1]] = vars[-1]\n",
    "   \n",
    "        \n",
    "        \n",
    "        \n",
    "print(\"\\nwr and te players\\n\")       \n",
    "lin(x_wrte_train, x_wrte_test, y_wrte_train, y_wrte_test,x_wrte,y_wrte,wrte) \n",
    "print(\"\\n\\nqb players\")       \n",
    "lin(x_qb_train, x_qb_test, y_qb_train, y_qb_test,x_qb,y_qb,qb) \n",
    "print(\"\\n\\nrb players\")       \n",
    "lin(x_rb_train, x_rb_test, y_rb_train, y_rb_test,x_rb,y_rb,rb) \n"
   ]
  }
 ],
 "metadata": {
  "kernelspec": {
   "display_name": "Python 3.10.5 64-bit",
   "language": "python",
   "name": "python3"
  },
  "language_info": {
   "codemirror_mode": {
    "name": "ipython",
    "version": 3
   },
   "file_extension": ".py",
   "mimetype": "text/x-python",
   "name": "python",
   "nbconvert_exporter": "python",
   "pygments_lexer": "ipython3",
   "version": "3.10.5"
  },
  "orig_nbformat": 4,
  "vscode": {
   "interpreter": {
    "hash": "aee8b7b246df8f9039afb4144a1f6fd8d2ca17a180786b69acc140d282b71a49"
   }
  }
 },
 "nbformat": 4,
 "nbformat_minor": 2
}
